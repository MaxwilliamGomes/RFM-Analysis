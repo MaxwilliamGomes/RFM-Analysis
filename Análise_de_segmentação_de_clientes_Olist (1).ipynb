{
  "nbformat": 4,
  "nbformat_minor": 0,
  "metadata": {
    "colab": {
      "provenance": []
    },
    "kernelspec": {
      "name": "ir",
      "display_name": "R"
    },
    "language_info": {
      "name": "R"
    }
  },
  "cells": [
    {
      "cell_type": "markdown",
      "source": [
        "# 1 - Importação das bibliotecas\n"
      ],
      "metadata": {
        "id": "OqCyb7kUsXnN"
      }
    },
    {
      "cell_type": "code",
      "execution_count": null,
      "metadata": {
        "id": "7MIJbWN4rQUe",
        "colab": {
          "base_uri": "https://localhost:8080/"
        },
        "outputId": "fc0c0526-7976-4a36-e10a-4e8c8ba1b26e"
      },
      "outputs": [
        {
          "output_type": "stream",
          "name": "stderr",
          "text": [
            "Installing package into ‘/usr/local/lib/R/site-library’\n",
            "(as ‘lib’ is unspecified)\n",
            "\n",
            "Installing package into ‘/usr/local/lib/R/site-library’\n",
            "(as ‘lib’ is unspecified)\n",
            "\n",
            "Installing package into ‘/usr/local/lib/R/site-library’\n",
            "(as ‘lib’ is unspecified)\n",
            "\n",
            "also installing the dependency ‘gridExtra’\n",
            "\n",
            "\n"
          ]
        }
      ],
      "source": [
        "install.packages(\"tidyverse\")\n"
      ]
    },
    {
      "cell_type": "code",
      "source": [
        "library(tidyverse)\n",
        "library(ggplot2)\n"
      ],
      "metadata": {
        "colab": {
          "base_uri": "https://localhost:8080/"
        },
        "id": "HEFXlGhiuEEr",
        "outputId": "fe4944fb-8001-4807-e261-ac1809a4e62d"
      },
      "execution_count": null,
      "outputs": [
        {
          "output_type": "stream",
          "name": "stderr",
          "text": [
            "── \u001b[1mAttaching core tidyverse packages\u001b[22m ──────────────────────── tidyverse 2.0.0 ──\n",
            "\u001b[32m✔\u001b[39m \u001b[34mdplyr    \u001b[39m 1.1.4     \u001b[32m✔\u001b[39m \u001b[34mreadr    \u001b[39m 2.1.4\n",
            "\u001b[32m✔\u001b[39m \u001b[34mforcats  \u001b[39m 1.0.0     \u001b[32m✔\u001b[39m \u001b[34mstringr  \u001b[39m 1.5.1\n",
            "\u001b[32m✔\u001b[39m \u001b[34mggplot2  \u001b[39m 3.4.4     \u001b[32m✔\u001b[39m \u001b[34mtibble   \u001b[39m 3.2.1\n",
            "\u001b[32m✔\u001b[39m \u001b[34mlubridate\u001b[39m 1.9.3     \u001b[32m✔\u001b[39m \u001b[34mtidyr    \u001b[39m 1.3.0\n",
            "\u001b[32m✔\u001b[39m \u001b[34mpurrr    \u001b[39m 1.0.2     \n",
            "── \u001b[1mConflicts\u001b[22m ────────────────────────────────────────── tidyverse_conflicts() ──\n",
            "\u001b[31m✖\u001b[39m \u001b[34mdplyr\u001b[39m::\u001b[32mfilter()\u001b[39m masks \u001b[34mstats\u001b[39m::filter()\n",
            "\u001b[31m✖\u001b[39m \u001b[34mdplyr\u001b[39m::\u001b[32mlag()\u001b[39m    masks \u001b[34mstats\u001b[39m::lag()\n",
            "\u001b[36mℹ\u001b[39m Use the conflicted package (\u001b[3m\u001b[34m<http://conflicted.r-lib.org/>\u001b[39m\u001b[23m) to force all conflicts to become errors\n",
            "corrplot 0.92 loaded\n",
            "\n",
            "Loading required package: viridisLite\n",
            "\n"
          ]
        }
      ]
    },
    {
      "cell_type": "markdown",
      "source": [
        "## 2 - Carregar os dados"
      ],
      "metadata": {
        "id": "00FJK2yzsd40"
      }
    },
    {
      "cell_type": "code",
      "source": [
        "olist_customers_dataset <- read_csv(\"/content/olist_customers_dataset.csv\")\n",
        "olist_orders_dataset <- read_csv(\"/content/olist_orders_dataset.csv\")\n",
        "olist_order_payments_dataset <- read_csv(\"/content/olist_order_payments_dataset.csv\")\n",
        "\n",
        "Customers = olist_customers_dataset\n",
        "Orders = olist_orders_dataset\n",
        "Payment = olist_order_payments_dataset"
      ],
      "metadata": {
        "id": "3-SMi6icuDmr",
        "colab": {
          "base_uri": "https://localhost:8080/"
        },
        "outputId": "56d38e7b-b973-4450-a704-36627d412e73"
      },
      "execution_count": null,
      "outputs": [
        {
          "output_type": "stream",
          "name": "stderr",
          "text": [
            "\u001b[1mRows: \u001b[22m\u001b[34m99441\u001b[39m \u001b[1mColumns: \u001b[22m\u001b[34m5\u001b[39m\n",
            "\u001b[36m──\u001b[39m \u001b[1mColumn specification\u001b[22m \u001b[36m────────────────────────────────────────────────────────\u001b[39m\n",
            "\u001b[1mDelimiter:\u001b[22m \",\"\n",
            "\u001b[31mchr\u001b[39m (5): customer_id, customer_unique_id, customer_zip_code_prefix, customer...\n",
            "\n",
            "\u001b[36mℹ\u001b[39m Use `spec()` to retrieve the full column specification for this data.\n",
            "\u001b[36mℹ\u001b[39m Specify the column types or set `show_col_types = FALSE` to quiet this message.\n",
            "\u001b[1mRows: \u001b[22m\u001b[34m99441\u001b[39m \u001b[1mColumns: \u001b[22m\u001b[34m8\u001b[39m\n",
            "\u001b[36m──\u001b[39m \u001b[1mColumn specification\u001b[22m \u001b[36m────────────────────────────────────────────────────────\u001b[39m\n",
            "\u001b[1mDelimiter:\u001b[22m \",\"\n",
            "\u001b[31mchr\u001b[39m  (3): order_id, customer_id, order_status\n",
            "\u001b[34mdttm\u001b[39m (5): order_purchase_timestamp, order_approved_at, order_delivered_carri...\n",
            "\n",
            "\u001b[36mℹ\u001b[39m Use `spec()` to retrieve the full column specification for this data.\n",
            "\u001b[36mℹ\u001b[39m Specify the column types or set `show_col_types = FALSE` to quiet this message.\n",
            "\u001b[1mRows: \u001b[22m\u001b[34m103886\u001b[39m \u001b[1mColumns: \u001b[22m\u001b[34m5\u001b[39m\n",
            "\u001b[36m──\u001b[39m \u001b[1mColumn specification\u001b[22m \u001b[36m────────────────────────────────────────────────────────\u001b[39m\n",
            "\u001b[1mDelimiter:\u001b[22m \",\"\n",
            "\u001b[31mchr\u001b[39m (2): order_id, payment_type\n",
            "\u001b[32mdbl\u001b[39m (3): payment_sequential, payment_installments, payment_value\n",
            "\n",
            "\u001b[36mℹ\u001b[39m Use `spec()` to retrieve the full column specification for this data.\n",
            "\u001b[36mℹ\u001b[39m Specify the column types or set `show_col_types = FALSE` to quiet this message.\n"
          ]
        }
      ]
    },
    {
      "cell_type": "markdown",
      "source": [
        "# 3 - Análise Descritiva\n",
        "\n"
      ],
      "metadata": {
        "id": "PGx4NprZsko7"
      }
    },
    {
      "cell_type": "markdown",
      "source": [
        "### 3.1 - Visualizando os dados\n",
        "\n",
        "##### Verificando as primeiras linhas dos datasets"
      ],
      "metadata": {
        "id": "KZ2U0T9gyhFS"
      }
    },
    {
      "cell_type": "code",
      "source": [
        "head(Customers)"
      ],
      "metadata": {
        "colab": {
          "base_uri": "https://localhost:8080/",
          "height": 286
        },
        "id": "HXbQstC7vLBz",
        "outputId": "d06c7bfd-bc84-4892-d06c-604074cfd494"
      },
      "execution_count": null,
      "outputs": [
        {
          "output_type": "display_data",
          "data": {
            "text/html": [
              "<table class=\"dataframe\">\n",
              "<caption>A tibble: 6 × 5</caption>\n",
              "<thead>\n",
              "\t<tr><th scope=col>customer_id</th><th scope=col>customer_unique_id</th><th scope=col>customer_zip_code_prefix</th><th scope=col>customer_city</th><th scope=col>customer_state</th></tr>\n",
              "\t<tr><th scope=col>&lt;chr&gt;</th><th scope=col>&lt;chr&gt;</th><th scope=col>&lt;chr&gt;</th><th scope=col>&lt;chr&gt;</th><th scope=col>&lt;chr&gt;</th></tr>\n",
              "</thead>\n",
              "<tbody>\n",
              "\t<tr><td>06b8999e2fba1a1fbc88172c00ba8bc7</td><td>861eff4711a542e4b93843c6dd7febb0</td><td>14409</td><td>franca               </td><td>SP</td></tr>\n",
              "\t<tr><td>18955e83d337fd6b2def6b18a428ac77</td><td>290c77bc529b7ac935b93aa66c333dc3</td><td>09790</td><td>sao bernardo do campo</td><td>SP</td></tr>\n",
              "\t<tr><td>4e7b3e00288586ebd08712fdd0374a03</td><td>060e732b5b29e8181a18229c7b0b2b5e</td><td>01151</td><td>sao paulo            </td><td>SP</td></tr>\n",
              "\t<tr><td>b2b6027bc5c5109e529d4dc6358b12c3</td><td>259dac757896d24d7702b9acbbff3f3c</td><td>08775</td><td>mogi das cruzes      </td><td>SP</td></tr>\n",
              "\t<tr><td>4f2d8ab171c80ec8364f7c12e35b23ad</td><td>345ecd01c38d18a9036ed96c73b8d066</td><td>13056</td><td>campinas             </td><td>SP</td></tr>\n",
              "\t<tr><td>879864dab9bc3047522c92c82e1212b8</td><td>4c93744516667ad3b8f1fb645a3116a4</td><td>89254</td><td>jaragua do sul       </td><td>SC</td></tr>\n",
              "</tbody>\n",
              "</table>\n"
            ],
            "text/markdown": "\nA tibble: 6 × 5\n\n| customer_id &lt;chr&gt; | customer_unique_id &lt;chr&gt; | customer_zip_code_prefix &lt;chr&gt; | customer_city &lt;chr&gt; | customer_state &lt;chr&gt; |\n|---|---|---|---|---|\n| 06b8999e2fba1a1fbc88172c00ba8bc7 | 861eff4711a542e4b93843c6dd7febb0 | 14409 | franca                | SP |\n| 18955e83d337fd6b2def6b18a428ac77 | 290c77bc529b7ac935b93aa66c333dc3 | 09790 | sao bernardo do campo | SP |\n| 4e7b3e00288586ebd08712fdd0374a03 | 060e732b5b29e8181a18229c7b0b2b5e | 01151 | sao paulo             | SP |\n| b2b6027bc5c5109e529d4dc6358b12c3 | 259dac757896d24d7702b9acbbff3f3c | 08775 | mogi das cruzes       | SP |\n| 4f2d8ab171c80ec8364f7c12e35b23ad | 345ecd01c38d18a9036ed96c73b8d066 | 13056 | campinas              | SP |\n| 879864dab9bc3047522c92c82e1212b8 | 4c93744516667ad3b8f1fb645a3116a4 | 89254 | jaragua do sul        | SC |\n\n",
            "text/latex": "A tibble: 6 × 5\n\\begin{tabular}{lllll}\n customer\\_id & customer\\_unique\\_id & customer\\_zip\\_code\\_prefix & customer\\_city & customer\\_state\\\\\n <chr> & <chr> & <chr> & <chr> & <chr>\\\\\n\\hline\n\t 06b8999e2fba1a1fbc88172c00ba8bc7 & 861eff4711a542e4b93843c6dd7febb0 & 14409 & franca                & SP\\\\\n\t 18955e83d337fd6b2def6b18a428ac77 & 290c77bc529b7ac935b93aa66c333dc3 & 09790 & sao bernardo do campo & SP\\\\\n\t 4e7b3e00288586ebd08712fdd0374a03 & 060e732b5b29e8181a18229c7b0b2b5e & 01151 & sao paulo             & SP\\\\\n\t b2b6027bc5c5109e529d4dc6358b12c3 & 259dac757896d24d7702b9acbbff3f3c & 08775 & mogi das cruzes       & SP\\\\\n\t 4f2d8ab171c80ec8364f7c12e35b23ad & 345ecd01c38d18a9036ed96c73b8d066 & 13056 & campinas              & SP\\\\\n\t 879864dab9bc3047522c92c82e1212b8 & 4c93744516667ad3b8f1fb645a3116a4 & 89254 & jaragua do sul        & SC\\\\\n\\end{tabular}\n",
            "text/plain": [
              "  customer_id                      customer_unique_id              \n",
              "1 06b8999e2fba1a1fbc88172c00ba8bc7 861eff4711a542e4b93843c6dd7febb0\n",
              "2 18955e83d337fd6b2def6b18a428ac77 290c77bc529b7ac935b93aa66c333dc3\n",
              "3 4e7b3e00288586ebd08712fdd0374a03 060e732b5b29e8181a18229c7b0b2b5e\n",
              "4 b2b6027bc5c5109e529d4dc6358b12c3 259dac757896d24d7702b9acbbff3f3c\n",
              "5 4f2d8ab171c80ec8364f7c12e35b23ad 345ecd01c38d18a9036ed96c73b8d066\n",
              "6 879864dab9bc3047522c92c82e1212b8 4c93744516667ad3b8f1fb645a3116a4\n",
              "  customer_zip_code_prefix customer_city         customer_state\n",
              "1 14409                    franca                SP            \n",
              "2 09790                    sao bernardo do campo SP            \n",
              "3 01151                    sao paulo             SP            \n",
              "4 08775                    mogi das cruzes       SP            \n",
              "5 13056                    campinas              SP            \n",
              "6 89254                    jaragua do sul        SC            "
            ]
          },
          "metadata": {}
        }
      ]
    },
    {
      "cell_type": "code",
      "source": [
        "tail(Customers)"
      ],
      "metadata": {
        "colab": {
          "base_uri": "https://localhost:8080/",
          "height": 286
        },
        "id": "kbfaDLx10drU",
        "outputId": "0dcfb75f-9c49-4a3d-820b-c7437535ad0c"
      },
      "execution_count": null,
      "outputs": [
        {
          "output_type": "display_data",
          "data": {
            "text/html": [
              "<table class=\"dataframe\">\n",
              "<caption>A tibble: 6 × 5</caption>\n",
              "<thead>\n",
              "\t<tr><th scope=col>customer_id</th><th scope=col>customer_unique_id</th><th scope=col>customer_zip_code_prefix</th><th scope=col>customer_city</th><th scope=col>customer_state</th></tr>\n",
              "\t<tr><th scope=col>&lt;chr&gt;</th><th scope=col>&lt;chr&gt;</th><th scope=col>&lt;chr&gt;</th><th scope=col>&lt;chr&gt;</th><th scope=col>&lt;chr&gt;</th></tr>\n",
              "</thead>\n",
              "<tbody>\n",
              "\t<tr><td>7fe2e80252a9ea476f950ae8f85b0f8f</td><td>4b5820135d360a45552b5163835b1d89</td><td>35500</td><td>divinopolis    </td><td>MG</td></tr>\n",
              "\t<tr><td>17ddf5dd5d51696bb3d7c6291687be6f</td><td>1a29b476fee25c95fbafc67c5ac95cf8</td><td>03937</td><td>sao paulo      </td><td>SP</td></tr>\n",
              "\t<tr><td>e7b71a9017aa05c9a7fd292d714858e8</td><td>d52a67c98be1cf6a5c84435bd38d095d</td><td>06764</td><td>taboao da serra</td><td>SP</td></tr>\n",
              "\t<tr><td>5e28dfe12db7fb50a4b2f691faecea5e</td><td>e9f50caf99f032f0bf3c55141f019d99</td><td>60115</td><td>fortaleza      </td><td>CE</td></tr>\n",
              "\t<tr><td>56b18e2166679b8a959d72dd06da27f9</td><td>73c2643a0a458b49f58cea58833b192e</td><td>92120</td><td>canoas         </td><td>RS</td></tr>\n",
              "\t<tr><td>274fa6071e5e17fe303b9748641082c8</td><td>84732c5050c01db9b23e19ba39899398</td><td>06703</td><td>cotia          </td><td>SP</td></tr>\n",
              "</tbody>\n",
              "</table>\n"
            ],
            "text/markdown": "\nA tibble: 6 × 5\n\n| customer_id &lt;chr&gt; | customer_unique_id &lt;chr&gt; | customer_zip_code_prefix &lt;chr&gt; | customer_city &lt;chr&gt; | customer_state &lt;chr&gt; |\n|---|---|---|---|---|\n| 7fe2e80252a9ea476f950ae8f85b0f8f | 4b5820135d360a45552b5163835b1d89 | 35500 | divinopolis     | MG |\n| 17ddf5dd5d51696bb3d7c6291687be6f | 1a29b476fee25c95fbafc67c5ac95cf8 | 03937 | sao paulo       | SP |\n| e7b71a9017aa05c9a7fd292d714858e8 | d52a67c98be1cf6a5c84435bd38d095d | 06764 | taboao da serra | SP |\n| 5e28dfe12db7fb50a4b2f691faecea5e | e9f50caf99f032f0bf3c55141f019d99 | 60115 | fortaleza       | CE |\n| 56b18e2166679b8a959d72dd06da27f9 | 73c2643a0a458b49f58cea58833b192e | 92120 | canoas          | RS |\n| 274fa6071e5e17fe303b9748641082c8 | 84732c5050c01db9b23e19ba39899398 | 06703 | cotia           | SP |\n\n",
            "text/latex": "A tibble: 6 × 5\n\\begin{tabular}{lllll}\n customer\\_id & customer\\_unique\\_id & customer\\_zip\\_code\\_prefix & customer\\_city & customer\\_state\\\\\n <chr> & <chr> & <chr> & <chr> & <chr>\\\\\n\\hline\n\t 7fe2e80252a9ea476f950ae8f85b0f8f & 4b5820135d360a45552b5163835b1d89 & 35500 & divinopolis     & MG\\\\\n\t 17ddf5dd5d51696bb3d7c6291687be6f & 1a29b476fee25c95fbafc67c5ac95cf8 & 03937 & sao paulo       & SP\\\\\n\t e7b71a9017aa05c9a7fd292d714858e8 & d52a67c98be1cf6a5c84435bd38d095d & 06764 & taboao da serra & SP\\\\\n\t 5e28dfe12db7fb50a4b2f691faecea5e & e9f50caf99f032f0bf3c55141f019d99 & 60115 & fortaleza       & CE\\\\\n\t 56b18e2166679b8a959d72dd06da27f9 & 73c2643a0a458b49f58cea58833b192e & 92120 & canoas          & RS\\\\\n\t 274fa6071e5e17fe303b9748641082c8 & 84732c5050c01db9b23e19ba39899398 & 06703 & cotia           & SP\\\\\n\\end{tabular}\n",
            "text/plain": [
              "  customer_id                      customer_unique_id              \n",
              "1 7fe2e80252a9ea476f950ae8f85b0f8f 4b5820135d360a45552b5163835b1d89\n",
              "2 17ddf5dd5d51696bb3d7c6291687be6f 1a29b476fee25c95fbafc67c5ac95cf8\n",
              "3 e7b71a9017aa05c9a7fd292d714858e8 d52a67c98be1cf6a5c84435bd38d095d\n",
              "4 5e28dfe12db7fb50a4b2f691faecea5e e9f50caf99f032f0bf3c55141f019d99\n",
              "5 56b18e2166679b8a959d72dd06da27f9 73c2643a0a458b49f58cea58833b192e\n",
              "6 274fa6071e5e17fe303b9748641082c8 84732c5050c01db9b23e19ba39899398\n",
              "  customer_zip_code_prefix customer_city   customer_state\n",
              "1 35500                    divinopolis     MG            \n",
              "2 03937                    sao paulo       SP            \n",
              "3 06764                    taboao da serra SP            \n",
              "4 60115                    fortaleza       CE            \n",
              "5 92120                    canoas          RS            \n",
              "6 06703                    cotia           SP            "
            ]
          },
          "metadata": {}
        }
      ]
    },
    {
      "cell_type": "code",
      "source": [
        "head(Orders)"
      ],
      "metadata": {
        "colab": {
          "base_uri": "https://localhost:8080/",
          "height": 286
        },
        "id": "nufIUKvYwIQS",
        "outputId": "68a1b2a4-4cd5-4d46-e6ea-5178b460aed7"
      },
      "execution_count": null,
      "outputs": [
        {
          "output_type": "display_data",
          "data": {
            "text/html": [
              "<table class=\"dataframe\">\n",
              "<caption>A tibble: 6 × 8</caption>\n",
              "<thead>\n",
              "\t<tr><th scope=col>order_id</th><th scope=col>customer_id</th><th scope=col>order_status</th><th scope=col>order_purchase_timestamp</th><th scope=col>order_approved_at</th><th scope=col>order_delivered_carrier_date</th><th scope=col>order_delivered_customer_date</th><th scope=col>order_estimated_delivery_date</th></tr>\n",
              "\t<tr><th scope=col>&lt;chr&gt;</th><th scope=col>&lt;chr&gt;</th><th scope=col>&lt;chr&gt;</th><th scope=col>&lt;dttm&gt;</th><th scope=col>&lt;dttm&gt;</th><th scope=col>&lt;dttm&gt;</th><th scope=col>&lt;dttm&gt;</th><th scope=col>&lt;dttm&gt;</th></tr>\n",
              "</thead>\n",
              "<tbody>\n",
              "\t<tr><td>e481f51cbdc54678b7cc49136f2d6af7</td><td>9ef432eb6251297304e76186b10a928d</td><td>delivered</td><td>2017-10-02 10:56:33</td><td>2017-10-02 11:07:15</td><td>2017-10-04 19:55:00</td><td>2017-10-10 21:25:13</td><td>2017-10-18</td></tr>\n",
              "\t<tr><td>53cdb2fc8bc7dce0b6741e2150273451</td><td>b0830fb4747a6c6d20dea0b8c802d7ef</td><td>delivered</td><td>2018-07-24 20:41:37</td><td>2018-07-26 03:24:27</td><td>2018-07-26 14:31:00</td><td>2018-08-07 15:27:45</td><td>2018-08-13</td></tr>\n",
              "\t<tr><td>47770eb9100c2d0c44946d9cf07ec65d</td><td>41ce2a54c0b03bf3443c3d931a367089</td><td>delivered</td><td>2018-08-08 08:38:49</td><td>2018-08-08 08:55:23</td><td>2018-08-08 13:50:00</td><td>2018-08-17 18:06:29</td><td>2018-09-04</td></tr>\n",
              "\t<tr><td>949d5b44dbf5de918fe9c16f97b45f8a</td><td>f88197465ea7920adcdbec7375364d82</td><td>delivered</td><td>2017-11-18 19:28:06</td><td>2017-11-18 19:45:59</td><td>2017-11-22 13:39:59</td><td>2017-12-02 00:28:42</td><td>2017-12-15</td></tr>\n",
              "\t<tr><td>ad21c59c0840e6cb83a9ceb5573f8159</td><td>8ab97904e6daea8866dbdbc4fb7aad2c</td><td>delivered</td><td>2018-02-13 21:18:39</td><td>2018-02-13 22:20:29</td><td>2018-02-14 19:46:34</td><td>2018-02-16 18:17:02</td><td>2018-02-26</td></tr>\n",
              "\t<tr><td>a4591c265e18cb1dcee52889e2d8acc3</td><td>503740e9ca751ccdda7ba28e9ab8f608</td><td>delivered</td><td>2017-07-09 21:57:05</td><td>2017-07-09 22:10:13</td><td>2017-07-11 14:58:04</td><td>2017-07-26 10:57:55</td><td>2017-08-01</td></tr>\n",
              "</tbody>\n",
              "</table>\n"
            ],
            "text/markdown": "\nA tibble: 6 × 8\n\n| order_id &lt;chr&gt; | customer_id &lt;chr&gt; | order_status &lt;chr&gt; | order_purchase_timestamp &lt;dttm&gt; | order_approved_at &lt;dttm&gt; | order_delivered_carrier_date &lt;dttm&gt; | order_delivered_customer_date &lt;dttm&gt; | order_estimated_delivery_date &lt;dttm&gt; |\n|---|---|---|---|---|---|---|---|\n| e481f51cbdc54678b7cc49136f2d6af7 | 9ef432eb6251297304e76186b10a928d | delivered | 2017-10-02 10:56:33 | 2017-10-02 11:07:15 | 2017-10-04 19:55:00 | 2017-10-10 21:25:13 | 2017-10-18 |\n| 53cdb2fc8bc7dce0b6741e2150273451 | b0830fb4747a6c6d20dea0b8c802d7ef | delivered | 2018-07-24 20:41:37 | 2018-07-26 03:24:27 | 2018-07-26 14:31:00 | 2018-08-07 15:27:45 | 2018-08-13 |\n| 47770eb9100c2d0c44946d9cf07ec65d | 41ce2a54c0b03bf3443c3d931a367089 | delivered | 2018-08-08 08:38:49 | 2018-08-08 08:55:23 | 2018-08-08 13:50:00 | 2018-08-17 18:06:29 | 2018-09-04 |\n| 949d5b44dbf5de918fe9c16f97b45f8a | f88197465ea7920adcdbec7375364d82 | delivered | 2017-11-18 19:28:06 | 2017-11-18 19:45:59 | 2017-11-22 13:39:59 | 2017-12-02 00:28:42 | 2017-12-15 |\n| ad21c59c0840e6cb83a9ceb5573f8159 | 8ab97904e6daea8866dbdbc4fb7aad2c | delivered | 2018-02-13 21:18:39 | 2018-02-13 22:20:29 | 2018-02-14 19:46:34 | 2018-02-16 18:17:02 | 2018-02-26 |\n| a4591c265e18cb1dcee52889e2d8acc3 | 503740e9ca751ccdda7ba28e9ab8f608 | delivered | 2017-07-09 21:57:05 | 2017-07-09 22:10:13 | 2017-07-11 14:58:04 | 2017-07-26 10:57:55 | 2017-08-01 |\n\n",
            "text/latex": "A tibble: 6 × 8\n\\begin{tabular}{llllllll}\n order\\_id & customer\\_id & order\\_status & order\\_purchase\\_timestamp & order\\_approved\\_at & order\\_delivered\\_carrier\\_date & order\\_delivered\\_customer\\_date & order\\_estimated\\_delivery\\_date\\\\\n <chr> & <chr> & <chr> & <dttm> & <dttm> & <dttm> & <dttm> & <dttm>\\\\\n\\hline\n\t e481f51cbdc54678b7cc49136f2d6af7 & 9ef432eb6251297304e76186b10a928d & delivered & 2017-10-02 10:56:33 & 2017-10-02 11:07:15 & 2017-10-04 19:55:00 & 2017-10-10 21:25:13 & 2017-10-18\\\\\n\t 53cdb2fc8bc7dce0b6741e2150273451 & b0830fb4747a6c6d20dea0b8c802d7ef & delivered & 2018-07-24 20:41:37 & 2018-07-26 03:24:27 & 2018-07-26 14:31:00 & 2018-08-07 15:27:45 & 2018-08-13\\\\\n\t 47770eb9100c2d0c44946d9cf07ec65d & 41ce2a54c0b03bf3443c3d931a367089 & delivered & 2018-08-08 08:38:49 & 2018-08-08 08:55:23 & 2018-08-08 13:50:00 & 2018-08-17 18:06:29 & 2018-09-04\\\\\n\t 949d5b44dbf5de918fe9c16f97b45f8a & f88197465ea7920adcdbec7375364d82 & delivered & 2017-11-18 19:28:06 & 2017-11-18 19:45:59 & 2017-11-22 13:39:59 & 2017-12-02 00:28:42 & 2017-12-15\\\\\n\t ad21c59c0840e6cb83a9ceb5573f8159 & 8ab97904e6daea8866dbdbc4fb7aad2c & delivered & 2018-02-13 21:18:39 & 2018-02-13 22:20:29 & 2018-02-14 19:46:34 & 2018-02-16 18:17:02 & 2018-02-26\\\\\n\t a4591c265e18cb1dcee52889e2d8acc3 & 503740e9ca751ccdda7ba28e9ab8f608 & delivered & 2017-07-09 21:57:05 & 2017-07-09 22:10:13 & 2017-07-11 14:58:04 & 2017-07-26 10:57:55 & 2017-08-01\\\\\n\\end{tabular}\n",
            "text/plain": [
              "  order_id                         customer_id                     \n",
              "1 e481f51cbdc54678b7cc49136f2d6af7 9ef432eb6251297304e76186b10a928d\n",
              "2 53cdb2fc8bc7dce0b6741e2150273451 b0830fb4747a6c6d20dea0b8c802d7ef\n",
              "3 47770eb9100c2d0c44946d9cf07ec65d 41ce2a54c0b03bf3443c3d931a367089\n",
              "4 949d5b44dbf5de918fe9c16f97b45f8a f88197465ea7920adcdbec7375364d82\n",
              "5 ad21c59c0840e6cb83a9ceb5573f8159 8ab97904e6daea8866dbdbc4fb7aad2c\n",
              "6 a4591c265e18cb1dcee52889e2d8acc3 503740e9ca751ccdda7ba28e9ab8f608\n",
              "  order_status order_purchase_timestamp order_approved_at  \n",
              "1 delivered    2017-10-02 10:56:33      2017-10-02 11:07:15\n",
              "2 delivered    2018-07-24 20:41:37      2018-07-26 03:24:27\n",
              "3 delivered    2018-08-08 08:38:49      2018-08-08 08:55:23\n",
              "4 delivered    2017-11-18 19:28:06      2017-11-18 19:45:59\n",
              "5 delivered    2018-02-13 21:18:39      2018-02-13 22:20:29\n",
              "6 delivered    2017-07-09 21:57:05      2017-07-09 22:10:13\n",
              "  order_delivered_carrier_date order_delivered_customer_date\n",
              "1 2017-10-04 19:55:00          2017-10-10 21:25:13          \n",
              "2 2018-07-26 14:31:00          2018-08-07 15:27:45          \n",
              "3 2018-08-08 13:50:00          2018-08-17 18:06:29          \n",
              "4 2017-11-22 13:39:59          2017-12-02 00:28:42          \n",
              "5 2018-02-14 19:46:34          2018-02-16 18:17:02          \n",
              "6 2017-07-11 14:58:04          2017-07-26 10:57:55          \n",
              "  order_estimated_delivery_date\n",
              "1 2017-10-18                   \n",
              "2 2018-08-13                   \n",
              "3 2018-09-04                   \n",
              "4 2017-12-15                   \n",
              "5 2018-02-26                   \n",
              "6 2017-08-01                   "
            ]
          },
          "metadata": {}
        }
      ]
    },
    {
      "cell_type": "code",
      "source": [
        "tail(Orders)"
      ],
      "metadata": {
        "colab": {
          "base_uri": "https://localhost:8080/",
          "height": 286
        },
        "id": "7PNndQ5F0i2b",
        "outputId": "0cee1724-1a30-4743-a6f6-064c5278c452"
      },
      "execution_count": null,
      "outputs": [
        {
          "output_type": "display_data",
          "data": {
            "text/html": [
              "<table class=\"dataframe\">\n",
              "<caption>A tibble: 6 × 8</caption>\n",
              "<thead>\n",
              "\t<tr><th scope=col>order_id</th><th scope=col>customer_id</th><th scope=col>order_status</th><th scope=col>order_purchase_timestamp</th><th scope=col>order_approved_at</th><th scope=col>order_delivered_carrier_date</th><th scope=col>order_delivered_customer_date</th><th scope=col>order_estimated_delivery_date</th></tr>\n",
              "\t<tr><th scope=col>&lt;chr&gt;</th><th scope=col>&lt;chr&gt;</th><th scope=col>&lt;chr&gt;</th><th scope=col>&lt;dttm&gt;</th><th scope=col>&lt;dttm&gt;</th><th scope=col>&lt;dttm&gt;</th><th scope=col>&lt;dttm&gt;</th><th scope=col>&lt;dttm&gt;</th></tr>\n",
              "</thead>\n",
              "<tbody>\n",
              "\t<tr><td>880675dff2150932f1601e1c07eadeeb</td><td>47cd45a6ac7b9fb16537df2ccffeb5ac</td><td>delivered</td><td>2017-02-23 09:05:12</td><td>2017-02-23 09:15:11</td><td>2017-03-01 10:22:52</td><td>2017-03-06 11:08:08</td><td>2017-03-22</td></tr>\n",
              "\t<tr><td>9c5dedf39a927c1b2549525ed64a053c</td><td>39bd1228ee8140590ac3aca26f2dfe00</td><td>delivered</td><td>2017-03-09 09:54:05</td><td>2017-03-09 09:54:05</td><td>2017-03-10 11:18:03</td><td>2017-03-17 15:08:01</td><td>2017-03-28</td></tr>\n",
              "\t<tr><td>63943bddc261676b46f01ca7ac2f7bd8</td><td>1fca14ff2861355f6e5f14306ff977a7</td><td>delivered</td><td>2018-02-06 12:58:58</td><td>2018-02-06 13:10:37</td><td>2018-02-07 23:22:42</td><td>2018-02-28 17:37:56</td><td>2018-03-02</td></tr>\n",
              "\t<tr><td>83c1379a015df1e13d02aae0204711ab</td><td>1aa71eb042121263aafbe80c1b562c9c</td><td>delivered</td><td>2017-08-27 14:46:43</td><td>2017-08-27 15:04:16</td><td>2017-08-28 20:52:26</td><td>2017-09-21 11:24:17</td><td>2017-09-27</td></tr>\n",
              "\t<tr><td>11c177c8e97725db2631073c19f07b62</td><td>b331b74b18dc79bcdf6532d51e1637c1</td><td>delivered</td><td>2018-01-08 21:28:27</td><td>2018-01-08 21:36:21</td><td>2018-01-12 15:35:03</td><td>2018-01-25 23:32:54</td><td>2018-02-15</td></tr>\n",
              "\t<tr><td>66dea50a8b16d9b4dee7af250b4be1a5</td><td>edb027a75a1449115f6b43211ae02a24</td><td>delivered</td><td>2018-03-08 20:57:30</td><td>2018-03-09 11:20:28</td><td>2018-03-09 22:11:59</td><td>2018-03-16 13:08:30</td><td>2018-04-03</td></tr>\n",
              "</tbody>\n",
              "</table>\n"
            ],
            "text/markdown": "\nA tibble: 6 × 8\n\n| order_id &lt;chr&gt; | customer_id &lt;chr&gt; | order_status &lt;chr&gt; | order_purchase_timestamp &lt;dttm&gt; | order_approved_at &lt;dttm&gt; | order_delivered_carrier_date &lt;dttm&gt; | order_delivered_customer_date &lt;dttm&gt; | order_estimated_delivery_date &lt;dttm&gt; |\n|---|---|---|---|---|---|---|---|\n| 880675dff2150932f1601e1c07eadeeb | 47cd45a6ac7b9fb16537df2ccffeb5ac | delivered | 2017-02-23 09:05:12 | 2017-02-23 09:15:11 | 2017-03-01 10:22:52 | 2017-03-06 11:08:08 | 2017-03-22 |\n| 9c5dedf39a927c1b2549525ed64a053c | 39bd1228ee8140590ac3aca26f2dfe00 | delivered | 2017-03-09 09:54:05 | 2017-03-09 09:54:05 | 2017-03-10 11:18:03 | 2017-03-17 15:08:01 | 2017-03-28 |\n| 63943bddc261676b46f01ca7ac2f7bd8 | 1fca14ff2861355f6e5f14306ff977a7 | delivered | 2018-02-06 12:58:58 | 2018-02-06 13:10:37 | 2018-02-07 23:22:42 | 2018-02-28 17:37:56 | 2018-03-02 |\n| 83c1379a015df1e13d02aae0204711ab | 1aa71eb042121263aafbe80c1b562c9c | delivered | 2017-08-27 14:46:43 | 2017-08-27 15:04:16 | 2017-08-28 20:52:26 | 2017-09-21 11:24:17 | 2017-09-27 |\n| 11c177c8e97725db2631073c19f07b62 | b331b74b18dc79bcdf6532d51e1637c1 | delivered | 2018-01-08 21:28:27 | 2018-01-08 21:36:21 | 2018-01-12 15:35:03 | 2018-01-25 23:32:54 | 2018-02-15 |\n| 66dea50a8b16d9b4dee7af250b4be1a5 | edb027a75a1449115f6b43211ae02a24 | delivered | 2018-03-08 20:57:30 | 2018-03-09 11:20:28 | 2018-03-09 22:11:59 | 2018-03-16 13:08:30 | 2018-04-03 |\n\n",
            "text/latex": "A tibble: 6 × 8\n\\begin{tabular}{llllllll}\n order\\_id & customer\\_id & order\\_status & order\\_purchase\\_timestamp & order\\_approved\\_at & order\\_delivered\\_carrier\\_date & order\\_delivered\\_customer\\_date & order\\_estimated\\_delivery\\_date\\\\\n <chr> & <chr> & <chr> & <dttm> & <dttm> & <dttm> & <dttm> & <dttm>\\\\\n\\hline\n\t 880675dff2150932f1601e1c07eadeeb & 47cd45a6ac7b9fb16537df2ccffeb5ac & delivered & 2017-02-23 09:05:12 & 2017-02-23 09:15:11 & 2017-03-01 10:22:52 & 2017-03-06 11:08:08 & 2017-03-22\\\\\n\t 9c5dedf39a927c1b2549525ed64a053c & 39bd1228ee8140590ac3aca26f2dfe00 & delivered & 2017-03-09 09:54:05 & 2017-03-09 09:54:05 & 2017-03-10 11:18:03 & 2017-03-17 15:08:01 & 2017-03-28\\\\\n\t 63943bddc261676b46f01ca7ac2f7bd8 & 1fca14ff2861355f6e5f14306ff977a7 & delivered & 2018-02-06 12:58:58 & 2018-02-06 13:10:37 & 2018-02-07 23:22:42 & 2018-02-28 17:37:56 & 2018-03-02\\\\\n\t 83c1379a015df1e13d02aae0204711ab & 1aa71eb042121263aafbe80c1b562c9c & delivered & 2017-08-27 14:46:43 & 2017-08-27 15:04:16 & 2017-08-28 20:52:26 & 2017-09-21 11:24:17 & 2017-09-27\\\\\n\t 11c177c8e97725db2631073c19f07b62 & b331b74b18dc79bcdf6532d51e1637c1 & delivered & 2018-01-08 21:28:27 & 2018-01-08 21:36:21 & 2018-01-12 15:35:03 & 2018-01-25 23:32:54 & 2018-02-15\\\\\n\t 66dea50a8b16d9b4dee7af250b4be1a5 & edb027a75a1449115f6b43211ae02a24 & delivered & 2018-03-08 20:57:30 & 2018-03-09 11:20:28 & 2018-03-09 22:11:59 & 2018-03-16 13:08:30 & 2018-04-03\\\\\n\\end{tabular}\n",
            "text/plain": [
              "  order_id                         customer_id                     \n",
              "1 880675dff2150932f1601e1c07eadeeb 47cd45a6ac7b9fb16537df2ccffeb5ac\n",
              "2 9c5dedf39a927c1b2549525ed64a053c 39bd1228ee8140590ac3aca26f2dfe00\n",
              "3 63943bddc261676b46f01ca7ac2f7bd8 1fca14ff2861355f6e5f14306ff977a7\n",
              "4 83c1379a015df1e13d02aae0204711ab 1aa71eb042121263aafbe80c1b562c9c\n",
              "5 11c177c8e97725db2631073c19f07b62 b331b74b18dc79bcdf6532d51e1637c1\n",
              "6 66dea50a8b16d9b4dee7af250b4be1a5 edb027a75a1449115f6b43211ae02a24\n",
              "  order_status order_purchase_timestamp order_approved_at  \n",
              "1 delivered    2017-02-23 09:05:12      2017-02-23 09:15:11\n",
              "2 delivered    2017-03-09 09:54:05      2017-03-09 09:54:05\n",
              "3 delivered    2018-02-06 12:58:58      2018-02-06 13:10:37\n",
              "4 delivered    2017-08-27 14:46:43      2017-08-27 15:04:16\n",
              "5 delivered    2018-01-08 21:28:27      2018-01-08 21:36:21\n",
              "6 delivered    2018-03-08 20:57:30      2018-03-09 11:20:28\n",
              "  order_delivered_carrier_date order_delivered_customer_date\n",
              "1 2017-03-01 10:22:52          2017-03-06 11:08:08          \n",
              "2 2017-03-10 11:18:03          2017-03-17 15:08:01          \n",
              "3 2018-02-07 23:22:42          2018-02-28 17:37:56          \n",
              "4 2017-08-28 20:52:26          2017-09-21 11:24:17          \n",
              "5 2018-01-12 15:35:03          2018-01-25 23:32:54          \n",
              "6 2018-03-09 22:11:59          2018-03-16 13:08:30          \n",
              "  order_estimated_delivery_date\n",
              "1 2017-03-22                   \n",
              "2 2017-03-28                   \n",
              "3 2018-03-02                   \n",
              "4 2017-09-27                   \n",
              "5 2018-02-15                   \n",
              "6 2018-04-03                   "
            ]
          },
          "metadata": {}
        }
      ]
    },
    {
      "cell_type": "code",
      "source": [
        "head(Payment)"
      ],
      "metadata": {
        "colab": {
          "base_uri": "https://localhost:8080/",
          "height": 286
        },
        "id": "Wmh5o3X94ZdT",
        "outputId": "322aea64-8469-43bb-8b0c-08fa1f3c8154"
      },
      "execution_count": null,
      "outputs": [
        {
          "output_type": "display_data",
          "data": {
            "text/html": [
              "<table class=\"dataframe\">\n",
              "<caption>A tibble: 6 × 5</caption>\n",
              "<thead>\n",
              "\t<tr><th scope=col>order_id</th><th scope=col>payment_sequential</th><th scope=col>payment_type</th><th scope=col>payment_installments</th><th scope=col>payment_value</th></tr>\n",
              "\t<tr><th scope=col>&lt;chr&gt;</th><th scope=col>&lt;dbl&gt;</th><th scope=col>&lt;chr&gt;</th><th scope=col>&lt;dbl&gt;</th><th scope=col>&lt;dbl&gt;</th></tr>\n",
              "</thead>\n",
              "<tbody>\n",
              "\t<tr><td>b81ef226f3fe1789b1e8b2acac839d17</td><td>1</td><td>credit_card</td><td>8</td><td> 99.33</td></tr>\n",
              "\t<tr><td>a9810da82917af2d9aefd1278f1dcfa0</td><td>1</td><td>credit_card</td><td>1</td><td> 24.39</td></tr>\n",
              "\t<tr><td>25e8ea4e93396b6fa0d3dd708e76c1bd</td><td>1</td><td>credit_card</td><td>1</td><td> 65.71</td></tr>\n",
              "\t<tr><td>ba78997921bbcdc1373bb41e913ab953</td><td>1</td><td>credit_card</td><td>8</td><td>107.78</td></tr>\n",
              "\t<tr><td>42fdf880ba16b47b59251dd489d4441a</td><td>1</td><td>credit_card</td><td>2</td><td>128.45</td></tr>\n",
              "\t<tr><td>298fcdf1f73eb413e4d26d01b25bc1cd</td><td>1</td><td>credit_card</td><td>2</td><td> 96.12</td></tr>\n",
              "</tbody>\n",
              "</table>\n"
            ],
            "text/markdown": "\nA tibble: 6 × 5\n\n| order_id &lt;chr&gt; | payment_sequential &lt;dbl&gt; | payment_type &lt;chr&gt; | payment_installments &lt;dbl&gt; | payment_value &lt;dbl&gt; |\n|---|---|---|---|---|\n| b81ef226f3fe1789b1e8b2acac839d17 | 1 | credit_card | 8 |  99.33 |\n| a9810da82917af2d9aefd1278f1dcfa0 | 1 | credit_card | 1 |  24.39 |\n| 25e8ea4e93396b6fa0d3dd708e76c1bd | 1 | credit_card | 1 |  65.71 |\n| ba78997921bbcdc1373bb41e913ab953 | 1 | credit_card | 8 | 107.78 |\n| 42fdf880ba16b47b59251dd489d4441a | 1 | credit_card | 2 | 128.45 |\n| 298fcdf1f73eb413e4d26d01b25bc1cd | 1 | credit_card | 2 |  96.12 |\n\n",
            "text/latex": "A tibble: 6 × 5\n\\begin{tabular}{lllll}\n order\\_id & payment\\_sequential & payment\\_type & payment\\_installments & payment\\_value\\\\\n <chr> & <dbl> & <chr> & <dbl> & <dbl>\\\\\n\\hline\n\t b81ef226f3fe1789b1e8b2acac839d17 & 1 & credit\\_card & 8 &  99.33\\\\\n\t a9810da82917af2d9aefd1278f1dcfa0 & 1 & credit\\_card & 1 &  24.39\\\\\n\t 25e8ea4e93396b6fa0d3dd708e76c1bd & 1 & credit\\_card & 1 &  65.71\\\\\n\t ba78997921bbcdc1373bb41e913ab953 & 1 & credit\\_card & 8 & 107.78\\\\\n\t 42fdf880ba16b47b59251dd489d4441a & 1 & credit\\_card & 2 & 128.45\\\\\n\t 298fcdf1f73eb413e4d26d01b25bc1cd & 1 & credit\\_card & 2 &  96.12\\\\\n\\end{tabular}\n",
            "text/plain": [
              "  order_id                         payment_sequential payment_type\n",
              "1 b81ef226f3fe1789b1e8b2acac839d17 1                  credit_card \n",
              "2 a9810da82917af2d9aefd1278f1dcfa0 1                  credit_card \n",
              "3 25e8ea4e93396b6fa0d3dd708e76c1bd 1                  credit_card \n",
              "4 ba78997921bbcdc1373bb41e913ab953 1                  credit_card \n",
              "5 42fdf880ba16b47b59251dd489d4441a 1                  credit_card \n",
              "6 298fcdf1f73eb413e4d26d01b25bc1cd 1                  credit_card \n",
              "  payment_installments payment_value\n",
              "1 8                     99.33       \n",
              "2 1                     24.39       \n",
              "3 1                     65.71       \n",
              "4 8                    107.78       \n",
              "5 2                    128.45       \n",
              "6 2                     96.12       "
            ]
          },
          "metadata": {}
        }
      ]
    },
    {
      "cell_type": "code",
      "source": [
        "tail(Payment)"
      ],
      "metadata": {
        "colab": {
          "base_uri": "https://localhost:8080/",
          "height": 286
        },
        "id": "qsBFKUIL4ehZ",
        "outputId": "d94b243e-10f7-4f79-af88-50713a84bc80"
      },
      "execution_count": null,
      "outputs": [
        {
          "output_type": "display_data",
          "data": {
            "text/html": [
              "<table class=\"dataframe\">\n",
              "<caption>A tibble: 6 × 5</caption>\n",
              "<thead>\n",
              "\t<tr><th scope=col>order_id</th><th scope=col>payment_sequential</th><th scope=col>payment_type</th><th scope=col>payment_installments</th><th scope=col>payment_value</th></tr>\n",
              "\t<tr><th scope=col>&lt;chr&gt;</th><th scope=col>&lt;dbl&gt;</th><th scope=col>&lt;chr&gt;</th><th scope=col>&lt;dbl&gt;</th><th scope=col>&lt;dbl&gt;</th></tr>\n",
              "</thead>\n",
              "<tbody>\n",
              "\t<tr><td>7159096c5aa9be77f7f0c26c01ee9793</td><td>1</td><td>credit_card</td><td>4</td><td>280.65</td></tr>\n",
              "\t<tr><td>0406037ad97740d563a178ecc7a2075c</td><td>1</td><td>boleto     </td><td>1</td><td>363.31</td></tr>\n",
              "\t<tr><td>7b905861d7c825891d6347454ea7863f</td><td>1</td><td>credit_card</td><td>2</td><td> 96.80</td></tr>\n",
              "\t<tr><td>32609bbb3dd69b3c066a6860554a77bf</td><td>1</td><td>credit_card</td><td>1</td><td> 47.77</td></tr>\n",
              "\t<tr><td>b8b61059626efa996a60be9bb9320e10</td><td>1</td><td>credit_card</td><td>5</td><td>369.54</td></tr>\n",
              "\t<tr><td>28bbae6599b09d39ca406b747b6632b1</td><td>1</td><td>boleto     </td><td>1</td><td>191.58</td></tr>\n",
              "</tbody>\n",
              "</table>\n"
            ],
            "text/markdown": "\nA tibble: 6 × 5\n\n| order_id &lt;chr&gt; | payment_sequential &lt;dbl&gt; | payment_type &lt;chr&gt; | payment_installments &lt;dbl&gt; | payment_value &lt;dbl&gt; |\n|---|---|---|---|---|\n| 7159096c5aa9be77f7f0c26c01ee9793 | 1 | credit_card | 4 | 280.65 |\n| 0406037ad97740d563a178ecc7a2075c | 1 | boleto      | 1 | 363.31 |\n| 7b905861d7c825891d6347454ea7863f | 1 | credit_card | 2 |  96.80 |\n| 32609bbb3dd69b3c066a6860554a77bf | 1 | credit_card | 1 |  47.77 |\n| b8b61059626efa996a60be9bb9320e10 | 1 | credit_card | 5 | 369.54 |\n| 28bbae6599b09d39ca406b747b6632b1 | 1 | boleto      | 1 | 191.58 |\n\n",
            "text/latex": "A tibble: 6 × 5\n\\begin{tabular}{lllll}\n order\\_id & payment\\_sequential & payment\\_type & payment\\_installments & payment\\_value\\\\\n <chr> & <dbl> & <chr> & <dbl> & <dbl>\\\\\n\\hline\n\t 7159096c5aa9be77f7f0c26c01ee9793 & 1 & credit\\_card & 4 & 280.65\\\\\n\t 0406037ad97740d563a178ecc7a2075c & 1 & boleto      & 1 & 363.31\\\\\n\t 7b905861d7c825891d6347454ea7863f & 1 & credit\\_card & 2 &  96.80\\\\\n\t 32609bbb3dd69b3c066a6860554a77bf & 1 & credit\\_card & 1 &  47.77\\\\\n\t b8b61059626efa996a60be9bb9320e10 & 1 & credit\\_card & 5 & 369.54\\\\\n\t 28bbae6599b09d39ca406b747b6632b1 & 1 & boleto      & 1 & 191.58\\\\\n\\end{tabular}\n",
            "text/plain": [
              "  order_id                         payment_sequential payment_type\n",
              "1 7159096c5aa9be77f7f0c26c01ee9793 1                  credit_card \n",
              "2 0406037ad97740d563a178ecc7a2075c 1                  boleto      \n",
              "3 7b905861d7c825891d6347454ea7863f 1                  credit_card \n",
              "4 32609bbb3dd69b3c066a6860554a77bf 1                  credit_card \n",
              "5 b8b61059626efa996a60be9bb9320e10 1                  credit_card \n",
              "6 28bbae6599b09d39ca406b747b6632b1 1                  boleto      \n",
              "  payment_installments payment_value\n",
              "1 4                    280.65       \n",
              "2 1                    363.31       \n",
              "3 2                     96.80       \n",
              "4 1                     47.77       \n",
              "5 5                    369.54       \n",
              "6 1                    191.58       "
            ]
          },
          "metadata": {}
        }
      ]
    },
    {
      "cell_type": "code",
      "source": [
        "# Unindo os dataframes\n",
        "Olist_Customers <- merge(Customers, Orders, by = \"customer_id\", all.x = TRUE) %>%\n",
        "                   merge(Payment, by = \"order_id\", all.x = TRUE)\n",
        "\n",
        "\n"
      ],
      "metadata": {
        "id": "t0FqEASU6H0p"
      },
      "execution_count": null,
      "outputs": []
    },
    {
      "cell_type": "code",
      "source": [
        "# Visualizar o resultado\n",
        "head(Olist_Customers)"
      ],
      "metadata": {
        "colab": {
          "base_uri": "https://localhost:8080/",
          "height": 324
        },
        "id": "ELLA5w9f0EU3",
        "outputId": "f2e32911-afd6-4761-8d30-34bf5d071cd1"
      },
      "execution_count": null,
      "outputs": [
        {
          "output_type": "display_data",
          "data": {
            "text/html": [
              "<table class=\"dataframe\">\n",
              "<caption>A data.frame: 6 × 16</caption>\n",
              "<thead>\n",
              "\t<tr><th></th><th scope=col>order_id</th><th scope=col>customer_id</th><th scope=col>customer_unique_id</th><th scope=col>customer_zip_code_prefix</th><th scope=col>customer_city</th><th scope=col>customer_state</th><th scope=col>order_status</th><th scope=col>order_purchase_timestamp</th><th scope=col>order_approved_at</th><th scope=col>order_delivered_carrier_date</th><th scope=col>order_delivered_customer_date</th><th scope=col>order_estimated_delivery_date</th><th scope=col>payment_sequential</th><th scope=col>payment_type</th><th scope=col>payment_installments</th><th scope=col>payment_value</th></tr>\n",
              "\t<tr><th></th><th scope=col>&lt;chr&gt;</th><th scope=col>&lt;chr&gt;</th><th scope=col>&lt;chr&gt;</th><th scope=col>&lt;chr&gt;</th><th scope=col>&lt;chr&gt;</th><th scope=col>&lt;chr&gt;</th><th scope=col>&lt;chr&gt;</th><th scope=col>&lt;dttm&gt;</th><th scope=col>&lt;dttm&gt;</th><th scope=col>&lt;dttm&gt;</th><th scope=col>&lt;dttm&gt;</th><th scope=col>&lt;dttm&gt;</th><th scope=col>&lt;dbl&gt;</th><th scope=col>&lt;chr&gt;</th><th scope=col>&lt;dbl&gt;</th><th scope=col>&lt;dbl&gt;</th></tr>\n",
              "</thead>\n",
              "<tbody>\n",
              "\t<tr><th scope=row>1</th><td>00010242fe8c5a6d1ba2dd792cb16214</td><td>3ce436f183e68e07877b285a838db11a</td><td>871766c5855e863f6eccc05f988b23cb</td><td>28013</td><td>campos dos goytacazes</td><td>RJ</td><td>delivered</td><td>2017-09-13 08:59:02</td><td>2017-09-13 09:45:35</td><td>2017-09-19 18:34:16</td><td>2017-09-20 23:43:48</td><td>2017-09-29</td><td>1</td><td>credit_card</td><td>2</td><td> 72.19</td></tr>\n",
              "\t<tr><th scope=row>2</th><td>00018f77f2f0320c557190d7a144bdd3</td><td>f6dd3ec061db4e3987629fe6b26e5cce</td><td>eb28e67c4c0b83846050ddfb8a35d051</td><td>15775</td><td>santa fe do sul      </td><td>SP</td><td>delivered</td><td>2017-04-26 10:53:06</td><td>2017-04-26 11:05:13</td><td>2017-05-04 14:35:00</td><td>2017-05-12 16:04:24</td><td>2017-05-15</td><td>1</td><td>credit_card</td><td>3</td><td>259.83</td></tr>\n",
              "\t<tr><th scope=row>3</th><td>000229ec398224ef6ca0657da4fc703e</td><td>6489ae5e4333f3693df5ad4372dab6d3</td><td>3818d81c6709e39d06b2738a8d3a2474</td><td>35661</td><td>para de minas        </td><td>MG</td><td>delivered</td><td>2018-01-14 14:33:31</td><td>2018-01-14 14:48:30</td><td>2018-01-16 12:36:48</td><td>2018-01-22 13:19:16</td><td>2018-02-05</td><td>1</td><td>credit_card</td><td>5</td><td>216.87</td></tr>\n",
              "\t<tr><th scope=row>4</th><td>00024acbcdf0a6daa1e931b038114c75</td><td>d4eb9395c8c0431ee92fce09860c5a06</td><td>af861d436cfc08b2c2ddefd0ba074622</td><td>12952</td><td>atibaia              </td><td>SP</td><td>delivered</td><td>2018-08-08 10:00:35</td><td>2018-08-08 10:10:18</td><td>2018-08-10 13:28:00</td><td>2018-08-14 13:32:39</td><td>2018-08-20</td><td>1</td><td>credit_card</td><td>2</td><td> 25.78</td></tr>\n",
              "\t<tr><th scope=row>5</th><td>00042b26cf59d7ce69dfabb4e55b4fd9</td><td>58dbd0b2d70206bf40e62cd34e84d795</td><td>64b576fb70d441e8f1b2d7d446e483c5</td><td>13226</td><td>varzea paulista      </td><td>SP</td><td>delivered</td><td>2017-02-04 13:57:51</td><td>2017-02-04 14:10:13</td><td>2017-02-16 09:46:09</td><td>2017-03-01 16:42:31</td><td>2017-03-17</td><td>1</td><td>credit_card</td><td>3</td><td>218.04</td></tr>\n",
              "\t<tr><th scope=row>6</th><td>00048cc3ae777c65dbb7d2a0634bc1ea</td><td>816cbea969fe5b689b39cfc97a506742</td><td>85c835d128beae5b4ce8602c491bf385</td><td>38017</td><td>uberaba              </td><td>MG</td><td>delivered</td><td>2017-05-15 21:42:34</td><td>2017-05-17 03:55:27</td><td>2017-05-17 11:05:55</td><td>2017-05-22 13:44:35</td><td>2017-06-06</td><td>1</td><td>boleto     </td><td>1</td><td> 34.59</td></tr>\n",
              "</tbody>\n",
              "</table>\n"
            ],
            "text/markdown": "\nA data.frame: 6 × 16\n\n| <!--/--> | order_id &lt;chr&gt; | customer_id &lt;chr&gt; | customer_unique_id &lt;chr&gt; | customer_zip_code_prefix &lt;chr&gt; | customer_city &lt;chr&gt; | customer_state &lt;chr&gt; | order_status &lt;chr&gt; | order_purchase_timestamp &lt;dttm&gt; | order_approved_at &lt;dttm&gt; | order_delivered_carrier_date &lt;dttm&gt; | order_delivered_customer_date &lt;dttm&gt; | order_estimated_delivery_date &lt;dttm&gt; | payment_sequential &lt;dbl&gt; | payment_type &lt;chr&gt; | payment_installments &lt;dbl&gt; | payment_value &lt;dbl&gt; |\n|---|---|---|---|---|---|---|---|---|---|---|---|---|---|---|---|---|\n| 1 | 00010242fe8c5a6d1ba2dd792cb16214 | 3ce436f183e68e07877b285a838db11a | 871766c5855e863f6eccc05f988b23cb | 28013 | campos dos goytacazes | RJ | delivered | 2017-09-13 08:59:02 | 2017-09-13 09:45:35 | 2017-09-19 18:34:16 | 2017-09-20 23:43:48 | 2017-09-29 | 1 | credit_card | 2 |  72.19 |\n| 2 | 00018f77f2f0320c557190d7a144bdd3 | f6dd3ec061db4e3987629fe6b26e5cce | eb28e67c4c0b83846050ddfb8a35d051 | 15775 | santa fe do sul       | SP | delivered | 2017-04-26 10:53:06 | 2017-04-26 11:05:13 | 2017-05-04 14:35:00 | 2017-05-12 16:04:24 | 2017-05-15 | 1 | credit_card | 3 | 259.83 |\n| 3 | 000229ec398224ef6ca0657da4fc703e | 6489ae5e4333f3693df5ad4372dab6d3 | 3818d81c6709e39d06b2738a8d3a2474 | 35661 | para de minas         | MG | delivered | 2018-01-14 14:33:31 | 2018-01-14 14:48:30 | 2018-01-16 12:36:48 | 2018-01-22 13:19:16 | 2018-02-05 | 1 | credit_card | 5 | 216.87 |\n| 4 | 00024acbcdf0a6daa1e931b038114c75 | d4eb9395c8c0431ee92fce09860c5a06 | af861d436cfc08b2c2ddefd0ba074622 | 12952 | atibaia               | SP | delivered | 2018-08-08 10:00:35 | 2018-08-08 10:10:18 | 2018-08-10 13:28:00 | 2018-08-14 13:32:39 | 2018-08-20 | 1 | credit_card | 2 |  25.78 |\n| 5 | 00042b26cf59d7ce69dfabb4e55b4fd9 | 58dbd0b2d70206bf40e62cd34e84d795 | 64b576fb70d441e8f1b2d7d446e483c5 | 13226 | varzea paulista       | SP | delivered | 2017-02-04 13:57:51 | 2017-02-04 14:10:13 | 2017-02-16 09:46:09 | 2017-03-01 16:42:31 | 2017-03-17 | 1 | credit_card | 3 | 218.04 |\n| 6 | 00048cc3ae777c65dbb7d2a0634bc1ea | 816cbea969fe5b689b39cfc97a506742 | 85c835d128beae5b4ce8602c491bf385 | 38017 | uberaba               | MG | delivered | 2017-05-15 21:42:34 | 2017-05-17 03:55:27 | 2017-05-17 11:05:55 | 2017-05-22 13:44:35 | 2017-06-06 | 1 | boleto      | 1 |  34.59 |\n\n",
            "text/latex": "A data.frame: 6 × 16\n\\begin{tabular}{r|llllllllllllllll}\n  & order\\_id & customer\\_id & customer\\_unique\\_id & customer\\_zip\\_code\\_prefix & customer\\_city & customer\\_state & order\\_status & order\\_purchase\\_timestamp & order\\_approved\\_at & order\\_delivered\\_carrier\\_date & order\\_delivered\\_customer\\_date & order\\_estimated\\_delivery\\_date & payment\\_sequential & payment\\_type & payment\\_installments & payment\\_value\\\\\n  & <chr> & <chr> & <chr> & <chr> & <chr> & <chr> & <chr> & <dttm> & <dttm> & <dttm> & <dttm> & <dttm> & <dbl> & <chr> & <dbl> & <dbl>\\\\\n\\hline\n\t1 & 00010242fe8c5a6d1ba2dd792cb16214 & 3ce436f183e68e07877b285a838db11a & 871766c5855e863f6eccc05f988b23cb & 28013 & campos dos goytacazes & RJ & delivered & 2017-09-13 08:59:02 & 2017-09-13 09:45:35 & 2017-09-19 18:34:16 & 2017-09-20 23:43:48 & 2017-09-29 & 1 & credit\\_card & 2 &  72.19\\\\\n\t2 & 00018f77f2f0320c557190d7a144bdd3 & f6dd3ec061db4e3987629fe6b26e5cce & eb28e67c4c0b83846050ddfb8a35d051 & 15775 & santa fe do sul       & SP & delivered & 2017-04-26 10:53:06 & 2017-04-26 11:05:13 & 2017-05-04 14:35:00 & 2017-05-12 16:04:24 & 2017-05-15 & 1 & credit\\_card & 3 & 259.83\\\\\n\t3 & 000229ec398224ef6ca0657da4fc703e & 6489ae5e4333f3693df5ad4372dab6d3 & 3818d81c6709e39d06b2738a8d3a2474 & 35661 & para de minas         & MG & delivered & 2018-01-14 14:33:31 & 2018-01-14 14:48:30 & 2018-01-16 12:36:48 & 2018-01-22 13:19:16 & 2018-02-05 & 1 & credit\\_card & 5 & 216.87\\\\\n\t4 & 00024acbcdf0a6daa1e931b038114c75 & d4eb9395c8c0431ee92fce09860c5a06 & af861d436cfc08b2c2ddefd0ba074622 & 12952 & atibaia               & SP & delivered & 2018-08-08 10:00:35 & 2018-08-08 10:10:18 & 2018-08-10 13:28:00 & 2018-08-14 13:32:39 & 2018-08-20 & 1 & credit\\_card & 2 &  25.78\\\\\n\t5 & 00042b26cf59d7ce69dfabb4e55b4fd9 & 58dbd0b2d70206bf40e62cd34e84d795 & 64b576fb70d441e8f1b2d7d446e483c5 & 13226 & varzea paulista       & SP & delivered & 2017-02-04 13:57:51 & 2017-02-04 14:10:13 & 2017-02-16 09:46:09 & 2017-03-01 16:42:31 & 2017-03-17 & 1 & credit\\_card & 3 & 218.04\\\\\n\t6 & 00048cc3ae777c65dbb7d2a0634bc1ea & 816cbea969fe5b689b39cfc97a506742 & 85c835d128beae5b4ce8602c491bf385 & 38017 & uberaba               & MG & delivered & 2017-05-15 21:42:34 & 2017-05-17 03:55:27 & 2017-05-17 11:05:55 & 2017-05-22 13:44:35 & 2017-06-06 & 1 & boleto      & 1 &  34.59\\\\\n\\end{tabular}\n",
            "text/plain": [
              "  order_id                         customer_id                     \n",
              "1 00010242fe8c5a6d1ba2dd792cb16214 3ce436f183e68e07877b285a838db11a\n",
              "2 00018f77f2f0320c557190d7a144bdd3 f6dd3ec061db4e3987629fe6b26e5cce\n",
              "3 000229ec398224ef6ca0657da4fc703e 6489ae5e4333f3693df5ad4372dab6d3\n",
              "4 00024acbcdf0a6daa1e931b038114c75 d4eb9395c8c0431ee92fce09860c5a06\n",
              "5 00042b26cf59d7ce69dfabb4e55b4fd9 58dbd0b2d70206bf40e62cd34e84d795\n",
              "6 00048cc3ae777c65dbb7d2a0634bc1ea 816cbea969fe5b689b39cfc97a506742\n",
              "  customer_unique_id               customer_zip_code_prefix\n",
              "1 871766c5855e863f6eccc05f988b23cb 28013                   \n",
              "2 eb28e67c4c0b83846050ddfb8a35d051 15775                   \n",
              "3 3818d81c6709e39d06b2738a8d3a2474 35661                   \n",
              "4 af861d436cfc08b2c2ddefd0ba074622 12952                   \n",
              "5 64b576fb70d441e8f1b2d7d446e483c5 13226                   \n",
              "6 85c835d128beae5b4ce8602c491bf385 38017                   \n",
              "  customer_city         customer_state order_status order_purchase_timestamp\n",
              "1 campos dos goytacazes RJ             delivered    2017-09-13 08:59:02     \n",
              "2 santa fe do sul       SP             delivered    2017-04-26 10:53:06     \n",
              "3 para de minas         MG             delivered    2018-01-14 14:33:31     \n",
              "4 atibaia               SP             delivered    2018-08-08 10:00:35     \n",
              "5 varzea paulista       SP             delivered    2017-02-04 13:57:51     \n",
              "6 uberaba               MG             delivered    2017-05-15 21:42:34     \n",
              "  order_approved_at   order_delivered_carrier_date\n",
              "1 2017-09-13 09:45:35 2017-09-19 18:34:16         \n",
              "2 2017-04-26 11:05:13 2017-05-04 14:35:00         \n",
              "3 2018-01-14 14:48:30 2018-01-16 12:36:48         \n",
              "4 2018-08-08 10:10:18 2018-08-10 13:28:00         \n",
              "5 2017-02-04 14:10:13 2017-02-16 09:46:09         \n",
              "6 2017-05-17 03:55:27 2017-05-17 11:05:55         \n",
              "  order_delivered_customer_date order_estimated_delivery_date\n",
              "1 2017-09-20 23:43:48           2017-09-29                   \n",
              "2 2017-05-12 16:04:24           2017-05-15                   \n",
              "3 2018-01-22 13:19:16           2018-02-05                   \n",
              "4 2018-08-14 13:32:39           2018-08-20                   \n",
              "5 2017-03-01 16:42:31           2017-03-17                   \n",
              "6 2017-05-22 13:44:35           2017-06-06                   \n",
              "  payment_sequential payment_type payment_installments payment_value\n",
              "1 1                  credit_card  2                     72.19       \n",
              "2 1                  credit_card  3                    259.83       \n",
              "3 1                  credit_card  5                    216.87       \n",
              "4 1                  credit_card  2                     25.78       \n",
              "5 1                  credit_card  3                    218.04       \n",
              "6 1                  boleto       1                     34.59       "
            ]
          },
          "metadata": {}
        }
      ]
    },
    {
      "cell_type": "code",
      "source": [
        "print(paste(\"O dataframe possui\", nrow(Olist_Customers), \"linhas e\", ncol(Olist_Customers), \"colunas.\"))"
      ],
      "metadata": {
        "colab": {
          "base_uri": "https://localhost:8080/"
        },
        "id": "UE11COc9wjmb",
        "outputId": "24ef1920-69a2-4b3c-b631-e82ac3261901"
      },
      "execution_count": null,
      "outputs": [
        {
          "output_type": "stream",
          "name": "stdout",
          "text": [
            "[1] \"O dataframe possui 103887 linhas e 16 colunas.\"\n"
          ]
        }
      ]
    },
    {
      "cell_type": "code",
      "source": [
        "### Qual é o intervalo de datas no campo de Order_purchase?\n",
        "print(paste('Date range:', min(Olist_Customers$order_purchase_timestamp), '-', max(Olist_Customers$order_purchase_timestamp)))"
      ],
      "metadata": {
        "colab": {
          "base_uri": "https://localhost:8080/"
        },
        "id": "rW_DJqOrxWlp",
        "outputId": "a14002cd-64b3-4488-8c71-66c60f7ed4d9"
      },
      "execution_count": null,
      "outputs": [
        {
          "output_type": "stream",
          "name": "stdout",
          "text": [
            "[1] \"Date range: 2016-09-04 21:15:19 - 2018-10-17 17:30:18\"\n"
          ]
        }
      ]
    },
    {
      "cell_type": "code",
      "source": [
        "### Utilizando a função str() para obter informações sobre o dataframe\n",
        "str(Olist_Customers)"
      ],
      "metadata": {
        "colab": {
          "base_uri": "https://localhost:8080/"
        },
        "id": "rpsi_2_lx_k-",
        "outputId": "0f24e948-4053-4120-d214-727951409e0b"
      },
      "execution_count": null,
      "outputs": [
        {
          "output_type": "stream",
          "name": "stdout",
          "text": [
            "'data.frame':\t103887 obs. of  16 variables:\n",
            " $ order_id                     : chr  \"00010242fe8c5a6d1ba2dd792cb16214\" \"00018f77f2f0320c557190d7a144bdd3\" \"000229ec398224ef6ca0657da4fc703e\" \"00024acbcdf0a6daa1e931b038114c75\" ...\n",
            " $ customer_id                  : chr  \"3ce436f183e68e07877b285a838db11a\" \"f6dd3ec061db4e3987629fe6b26e5cce\" \"6489ae5e4333f3693df5ad4372dab6d3\" \"d4eb9395c8c0431ee92fce09860c5a06\" ...\n",
            " $ customer_unique_id           : chr  \"871766c5855e863f6eccc05f988b23cb\" \"eb28e67c4c0b83846050ddfb8a35d051\" \"3818d81c6709e39d06b2738a8d3a2474\" \"af861d436cfc08b2c2ddefd0ba074622\" ...\n",
            " $ customer_zip_code_prefix     : chr  \"28013\" \"15775\" \"35661\" \"12952\" ...\n",
            " $ customer_city                : chr  \"campos dos goytacazes\" \"santa fe do sul\" \"para de minas\" \"atibaia\" ...\n",
            " $ customer_state               : chr  \"RJ\" \"SP\" \"MG\" \"SP\" ...\n",
            " $ order_status                 : chr  \"delivered\" \"delivered\" \"delivered\" \"delivered\" ...\n",
            " $ order_purchase_timestamp     : POSIXct, format: \"2017-09-13 08:59:02\" \"2017-04-26 10:53:06\" ...\n",
            " $ order_approved_at            : POSIXct, format: \"2017-09-13 09:45:35\" \"2017-04-26 11:05:13\" ...\n",
            " $ order_delivered_carrier_date : POSIXct, format: \"2017-09-19 18:34:16\" \"2017-05-04 14:35:00\" ...\n",
            " $ order_delivered_customer_date: POSIXct, format: \"2017-09-20 23:43:48\" \"2017-05-12 16:04:24\" ...\n",
            " $ order_estimated_delivery_date: POSIXct, format: \"2017-09-29\" \"2017-05-15\" ...\n",
            " $ payment_sequential           : num  1 1 1 1 1 1 1 1 1 1 ...\n",
            " $ payment_type                 : chr  \"credit_card\" \"credit_card\" \"credit_card\" \"credit_card\" ...\n",
            " $ payment_installments         : num  2 3 5 2 3 1 1 10 3 1 ...\n",
            " $ payment_value                : num  72.2 259.8 216.9 25.8 218 ...\n"
          ]
        }
      ]
    },
    {
      "cell_type": "code",
      "source": [
        "### Utilizando a função summary() para obter um resumo estatístico do dataframe\n",
        "summary(Olist_Customers)"
      ],
      "metadata": {
        "colab": {
          "base_uri": "https://localhost:8080/",
          "height": 850
        },
        "id": "H-pGRWRF-TyP",
        "outputId": "357505c5-2845-4cab-a7b6-14928f730dfa"
      },
      "execution_count": null,
      "outputs": [
        {
          "output_type": "display_data",
          "data": {
            "text/plain": [
              "   order_id         customer_id        customer_unique_id\n",
              " Length:103887      Length:103887      Length:103887     \n",
              " Class :character   Class :character   Class :character  \n",
              " Mode  :character   Mode  :character   Mode  :character  \n",
              "                                                         \n",
              "                                                         \n",
              "                                                         \n",
              "                                                         \n",
              " customer_zip_code_prefix customer_city      customer_state    \n",
              " Length:103887            Length:103887      Length:103887     \n",
              " Class :character         Class :character   Class :character  \n",
              " Mode  :character         Mode  :character   Mode  :character  \n",
              "                                                               \n",
              "                                                               \n",
              "                                                               \n",
              "                                                               \n",
              " order_status       order_purchase_timestamp        \n",
              " Length:103887      Min.   :2016-09-04 21:15:19.00  \n",
              " Class :character   1st Qu.:2017-09-10 08:02:59.50  \n",
              " Mode  :character   Median :2018-01-17 14:07:07.00  \n",
              "                    Mean   :2017-12-29 21:42:16.46  \n",
              "                    3rd Qu.:2018-05-03 18:35:46.50  \n",
              "                    Max.   :2018-10-17 17:30:18.00  \n",
              "                                                    \n",
              " order_approved_at                order_delivered_carrier_date    \n",
              " Min.   :2016-09-15 12:16:38.00   Min.   :2016-10-08 10:34:01.00  \n",
              " 1st Qu.:2017-09-10 20:08:59.00   1st Qu.:2017-09-14 15:41:34.50  \n",
              " Median :2018-01-17 18:18:30.50   Median :2018-01-23 17:46:49.00  \n",
              " Mean   :2017-12-30 07:30:58.08   Mean   :2018-01-03 11:00:29.14  \n",
              " 3rd Qu.:2018-05-03 23:55:07.50   3rd Qu.:2018-05-07 16:11:00.00  \n",
              " Max.   :2018-09-03 17:40:06.00   Max.   :2018-09-11 19:48:28.00  \n",
              " NA's   :175                      NA's   :1888                    \n",
              " order_delivered_customer_date    order_estimated_delivery_date   \n",
              " Min.   :2016-10-11 13:46:32.00   Min.   :2016-09-30 00:00:00.00  \n",
              " 1st Qu.:2017-09-22 17:04:11.50   1st Qu.:2017-09-29 00:00:00.00  \n",
              " Median :2018-02-01 17:02:22.00   Median :2018-02-14 00:00:00.00  \n",
              " Mean   :2018-01-13 03:01:23.60   Mean   :2018-01-22 16:50:25.63  \n",
              " 3rd Qu.:2018-05-15 17:31:00.00   3rd Qu.:2018-05-25 00:00:00.00  \n",
              " Max.   :2018-10-17 13:22:46.00   Max.   :2018-11-12 00:00:00.00  \n",
              " NA's   :3132                                                     \n",
              " payment_sequential payment_type       payment_installments payment_value     \n",
              " Min.   : 1.000     Length:103887      Min.   : 0.000       Min.   :    0.00  \n",
              " 1st Qu.: 1.000     Class :character   1st Qu.: 1.000       1st Qu.:   56.79  \n",
              " Median : 1.000     Mode  :character   Median : 1.000       Median :  100.00  \n",
              " Mean   : 1.093                        Mean   : 2.853       Mean   :  154.10  \n",
              " 3rd Qu.: 1.000                        3rd Qu.: 4.000       3rd Qu.:  171.84  \n",
              " Max.   :29.000                        Max.   :24.000       Max.   :13664.08  \n",
              " NA's   :1                             NA's   :1            NA's   :1         "
            ]
          },
          "metadata": {}
        }
      ]
    },
    {
      "cell_type": "markdown",
      "source": [
        "##### A média da coluna 'payment_value' está distante da mediana, provavelmente existe ouliers nessa coluna"
      ],
      "metadata": {
        "id": "HRRF42hsaZGR"
      }
    },
    {
      "cell_type": "markdown",
      "source": [
        "### 3.2 - Detecçao de Outliers"
      ],
      "metadata": {
        "id": "ZsOivrAwsyvE"
      }
    },
    {
      "cell_type": "code",
      "source": [
        "# Função para identificar outliers em uma variável\n",
        "detect_outliers <- function(column) {\n",
        "  if (is.numeric(column)) {\n",
        "    Q1 <- quantile(column, 0.25, na.rm = TRUE)\n",
        "    Q3 <- quantile(column, 0.75, na.rm = TRUE)\n",
        "    IQR <- Q3 - Q1\n",
        "    lower_bound <- Q1 - 1.5 * IQR\n",
        "    upper_bound <- Q3 + 1.5 * IQR\n",
        "    outliers <- column[(column < lower_bound) | (column > upper_bound)]\n",
        "    return(outliers)\n",
        "  } else {\n",
        "    return(NULL)\n",
        "  }\n",
        "}\n",
        "\n",
        "# Listando para armazenar os outliers de cada variável\n",
        "outliers_list <- list()\n",
        "\n",
        "# Loop através das variáveis numéricas\n",
        "for (col in names(Olist_Customers)) {\n",
        "  if (!(col %in% c())) {\n",
        "    outliers <- detect_outliers(Olist_Customers[[col]])\n",
        "    if (!is.null(outliers) && length(outliers) > 0) {\n",
        "      outliers_list[[col]] <- outliers\n",
        "    }\n",
        "  }\n",
        "}\n",
        "\n",
        "# Criando uma lista de dataframes com os outliers\n",
        "outliers_df <- stack(outliers_list)\n",
        "\n",
        "# Renomeando as colunas\n",
        "colnames(outliers_df) <- c(\"Outlier\", \"Variable\")\n",
        "\n",
        "# Contando quantos outliers cada variável possui\n",
        "contagem_outliers <- table(outliers_df$Variable)\n",
        "\n",
        "# Criando um DataFrame com a contagem de outliers para cada variável\n",
        "contagem_outliers_df <- data.frame(Variavel = names(contagem_outliers), Quantidade_de_Outliers = as.numeric(contagem_outliers))\n",
        "\n",
        "# Exibindo a contagem de outliers para cada variável\n",
        "print(contagem_outliers_df)"
      ],
      "metadata": {
        "colab": {
          "base_uri": "https://localhost:8080/"
        },
        "id": "ItMlMzaQ-e4a",
        "outputId": "e082cef5-035a-4612-ae51-4745edf3fcb5"
      },
      "execution_count": null,
      "outputs": [
        {
          "output_type": "stream",
          "name": "stdout",
          "text": [
            "              Variavel Quantidade_de_Outliers\n",
            "1   payment_sequential                   4527\n",
            "2 payment_installments                   6314\n",
            "3        payment_value                   7982\n"
          ]
        }
      ]
    },
    {
      "cell_type": "code",
      "source": [
        "# Criando um gráfico de barras com ggplot2\n",
        "grafico <- ggplot(contagem_outliers_df, aes(x = Variavel, y = Quantidade_de_Outliers, fill = Variavel, label = Quantidade_de_Outliers)) +\n",
        "  geom_bar(stat = \"identity\") +\n",
        "  labs(title = \"Distribuição dos Outliers nas Colunas do DataFrame\",\n",
        "       y = \"Quantidade de Outliers\") +\n",
        "  theme_minimal() +\n",
        "  theme(axis.text.x = element_text(angle = 45, hjust = 1)) +\n",
        "  geom_text(position = position_stack(vjust = 0.8))\n",
        "\n",
        "\n",
        "print(grafico)\n"
      ],
      "metadata": {
        "colab": {
          "base_uri": "https://localhost:8080/",
          "height": 437
        },
        "id": "WPFOztVf-f1v",
        "outputId": "c6d79e11-6d17-4987-cec4-4fa9d0d13cca"
      },
      "execution_count": null,
      "outputs": [
        {
          "output_type": "display_data",
          "data": {
            "text/plain": [
              "plot without title"
            ],
            "image/png": "[encoded data removed]"
          },
          "metadata": {
            "image/png": {
              "width": 420,
              "height": 420
            }
          }
        }
      ]
    },
    {
      "cell_type": "code",
      "source": [
        "# Selecionando apenas as colunas relevantes do seu dataframe\n",
        "numeric_data <- Olist_Customers %>%\n",
        "  select(payment_sequential, payment_installments, payment_value)\n",
        "\n",
        "# Mudando o formato dos dados para o gráfico\n",
        "numeric_data_long <- numeric_data %>%\n",
        "  pivot_longer(everything(), names_to = \"Variable\", values_to = \"Value\")\n",
        "\n",
        "# Criando um boxplot único\n",
        "boxplot_combined <- ggplot(data = numeric_data_long, aes(x = Variable, y = Value)) +\n",
        "  geom_boxplot() +\n",
        "  ggtitle(\"Boxplot - Payment Sequential, Installments, and Value\")\n",
        "\n",
        "\n",
        "print(boxplot_combined)"
      ],
      "metadata": {
        "colab": {
          "base_uri": "https://localhost:8080/",
          "height": 472
        },
        "id": "3Sew3brLWgiM",
        "outputId": "2f5d6a7f-07a2-4eda-b0a5-2b36cac78619"
      },
      "execution_count": null,
      "outputs": [
        {
          "output_type": "stream",
          "name": "stderr",
          "text": [
            "Warning message:\n",
            "“\u001b[1m\u001b[22mRemoved 3 rows containing non-finite values (`stat_boxplot()`).”\n"
          ]
        },
        {
          "output_type": "display_data",
          "data": {
            "text/plain": [
              "plot without title"
            ],
            "image/png": "[encoded data removed]"
          },
          "metadata": {
            "image/png": {
              "width": 420,
              "height": 420
            }
          }
        }
      ]
    },
    {
      "cell_type": "markdown",
      "source": [
        "Há um outlier no payment_value estranho no dataset, vamos verificar"
      ],
      "metadata": {
        "id": "OHWeCfa7jYgP"
      }
    },
    {
      "cell_type": "markdown",
      "source": [
        "### 4.3 - Identificando o motivo do Outlier"
      ],
      "metadata": {
        "id": "iSW9Ry7gkJLd"
      }
    },
    {
      "cell_type": "code",
      "source": [
        "# Baixando outros dataset para visualizar se foi erro na digitação\n",
        "\n",
        "olist_orders_items_dataset <- read_csv(\"/content/olist_order_items_dataset.csv\")\n",
        "olist_products_dataset <- read_csv(\"/content/olist_products_dataset.csv\")\n",
        "\n",
        "items = olist_orders_items_dataset\n",
        "products = olist_products_dataset"
      ],
      "metadata": {
        "id": "TC5aTwppn9i9",
        "colab": {
          "base_uri": "https://localhost:8080/"
        },
        "outputId": "ffde649b-d73d-4f61-c95f-151d80386176"
      },
      "execution_count": null,
      "outputs": [
        {
          "output_type": "stream",
          "name": "stderr",
          "text": [
            "\u001b[1mRows: \u001b[22m\u001b[34m112650\u001b[39m \u001b[1mColumns: \u001b[22m\u001b[34m7\u001b[39m\n",
            "\u001b[36m──\u001b[39m \u001b[1mColumn specification\u001b[22m \u001b[36m────────────────────────────────────────────────────────\u001b[39m\n",
            "\u001b[1mDelimiter:\u001b[22m \",\"\n",
            "\u001b[31mchr\u001b[39m  (3): order_id, product_id, seller_id\n",
            "\u001b[32mdbl\u001b[39m  (3): order_item_id, price, freight_value\n",
            "\u001b[34mdttm\u001b[39m (1): shipping_limit_date\n",
            "\n",
            "\u001b[36mℹ\u001b[39m Use `spec()` to retrieve the full column specification for this data.\n",
            "\u001b[36mℹ\u001b[39m Specify the column types or set `show_col_types = FALSE` to quiet this message.\n",
            "\u001b[1mRows: \u001b[22m\u001b[34m32951\u001b[39m \u001b[1mColumns: \u001b[22m\u001b[34m9\u001b[39m\n",
            "\u001b[36m──\u001b[39m \u001b[1mColumn specification\u001b[22m \u001b[36m────────────────────────────────────────────────────────\u001b[39m\n",
            "\u001b[1mDelimiter:\u001b[22m \",\"\n",
            "\u001b[31mchr\u001b[39m (2): product_id, product_category_name\n",
            "\u001b[32mdbl\u001b[39m (7): product_name_lenght, product_description_lenght, product_photos_qty...\n",
            "\n",
            "\u001b[36mℹ\u001b[39m Use `spec()` to retrieve the full column specification for this data.\n",
            "\u001b[36mℹ\u001b[39m Specify the column types or set `show_col_types = FALSE` to quiet this message.\n"
          ]
        }
      ]
    },
    {
      "cell_type": "code",
      "source": [
        "# Verificando os maiores valores de compras\n",
        "Max_payment <- Olist_Customers %>%\n",
        "  arrange(desc(payment_value))\n",
        "\n",
        "head(Max_payment)"
      ],
      "metadata": {
        "id": "rT1Y-_rAjiJS",
        "colab": {
          "base_uri": "https://localhost:8080/",
          "height": 306
        },
        "outputId": "276ffbe9-7d73-494f-9649-6efcebc46c3e"
      },
      "execution_count": null,
      "outputs": [
        {
          "output_type": "display_data",
          "data": {
            "text/html": [
              "<table class=\"dataframe\">\n",
              "<caption>A data.frame: 6 × 16</caption>\n",
              "<thead>\n",
              "\t<tr><th></th><th scope=col>order_id</th><th scope=col>customer_id</th><th scope=col>customer_unique_id</th><th scope=col>customer_zip_code_prefix</th><th scope=col>customer_city</th><th scope=col>customer_state</th><th scope=col>order_status</th><th scope=col>order_purchase_timestamp</th><th scope=col>order_approved_at</th><th scope=col>order_delivered_carrier_date</th><th scope=col>order_delivered_customer_date</th><th scope=col>order_estimated_delivery_date</th><th scope=col>payment_sequential</th><th scope=col>payment_type</th><th scope=col>payment_installments</th><th scope=col>payment_value</th></tr>\n",
              "\t<tr><th></th><th scope=col>&lt;chr&gt;</th><th scope=col>&lt;chr&gt;</th><th scope=col>&lt;chr&gt;</th><th scope=col>&lt;chr&gt;</th><th scope=col>&lt;chr&gt;</th><th scope=col>&lt;chr&gt;</th><th scope=col>&lt;chr&gt;</th><th scope=col>&lt;dttm&gt;</th><th scope=col>&lt;dttm&gt;</th><th scope=col>&lt;dttm&gt;</th><th scope=col>&lt;dttm&gt;</th><th scope=col>&lt;dttm&gt;</th><th scope=col>&lt;dbl&gt;</th><th scope=col>&lt;chr&gt;</th><th scope=col>&lt;dbl&gt;</th><th scope=col>&lt;dbl&gt;</th></tr>\n",
              "</thead>\n",
              "<tbody>\n",
              "\t<tr><th scope=row>1</th><td>03caa2c082116e1d31e67e9ae3700499</td><td>1617b1357756262bfa56ab541c47bc16</td><td>0a0a92112bd4c708ca5fde585afaa872</td><td>20080</td><td>rio de janeiro</td><td>RJ</td><td>delivered</td><td>2017-09-29 15:24:52</td><td>2017-10-02 15:28:20</td><td>2017-10-10 15:43:17</td><td>2017-10-17 18:22:29</td><td>2017-10-23</td><td>1</td><td>credit_card</td><td>1</td><td>13664.08</td></tr>\n",
              "\t<tr><th scope=row>2</th><td>736e1922ae60d0d6a89247b851902527</td><td>ec5b2ba62e574342386871631fafd3fc</td><td>763c8b1c9c68a0229c42c9fc6f662b93</td><td>29102</td><td>vila velha    </td><td>ES</td><td>delivered</td><td>2018-07-15 14:49:44</td><td>2018-07-17 04:31:36</td><td>2018-07-20 13:09:00</td><td>2018-07-26 22:03:06</td><td>2018-08-02</td><td>1</td><td>boleto     </td><td>1</td><td> 7274.88</td></tr>\n",
              "\t<tr><th scope=row>3</th><td>0812eb902a67711a1cb742b3cdaa65ae</td><td>c6e2731c5b391845f6800c97401a43a9</td><td>dc4802a71eae9be1dd28f5d788ceb526</td><td>79042</td><td>campo grande  </td><td>MS</td><td>delivered</td><td>2017-02-12 20:37:36</td><td>2017-02-12 20:45:12</td><td>2017-02-16 09:23:13</td><td>2017-03-03 14:23:18</td><td>2017-03-09</td><td>1</td><td>credit_card</td><td>8</td><td> 6929.31</td></tr>\n",
              "\t<tr><th scope=row>4</th><td>fefacc66af859508bf1a7934eab1e97f</td><td>f48d464a0baaea338cb25f816991ab1f</td><td>459bef486812aa25204be022145caa62</td><td>29066</td><td>vitoria       </td><td>ES</td><td>delivered</td><td>2018-07-25 18:10:17</td><td>2018-07-27 04:05:13</td><td>2018-08-03 14:42:00</td><td>2018-08-15 14:57:50</td><td>2018-08-10</td><td>1</td><td>boleto     </td><td>1</td><td> 6922.21</td></tr>\n",
              "\t<tr><th scope=row>5</th><td>f5136e38d1a14a4dbd87dff67da82701</td><td>3fd6777bbce08a352fddd04e4a7cc8f6</td><td>ff4159b92c40ebe40454e3e6a7c35ed6</td><td>17506</td><td>marilia       </td><td>SP</td><td>delivered</td><td>2017-05-24 18:14:34</td><td>2017-05-26 02:45:17</td><td>2017-05-26 11:20:47</td><td>2017-06-05 17:09:48</td><td>2017-06-28</td><td>1</td><td>boleto     </td><td>1</td><td> 6726.66</td></tr>\n",
              "\t<tr><th scope=row>6</th><td>2cc9089445046817a7539d90805e6e5a</td><td>05455dfa7cd02f13d132aa7a6a9729c6</td><td>4007669dec559734d6f53e029e360987</td><td>35501</td><td>divinopolis   </td><td>MG</td><td>delivered</td><td>2017-11-24 11:03:35</td><td>2017-11-28 12:55:46</td><td>2017-12-06 11:52:14</td><td>2017-12-13 12:16:02</td><td>2017-12-22</td><td>1</td><td>boleto     </td><td>1</td><td> 6081.54</td></tr>\n",
              "</tbody>\n",
              "</table>\n"
            ],
            "text/markdown": "\nA data.frame: 6 × 16\n\n| <!--/--> | order_id &lt;chr&gt; | customer_id &lt;chr&gt; | customer_unique_id &lt;chr&gt; | customer_zip_code_prefix &lt;chr&gt; | customer_city &lt;chr&gt; | customer_state &lt;chr&gt; | order_status &lt;chr&gt; | order_purchase_timestamp &lt;dttm&gt; | order_approved_at &lt;dttm&gt; | order_delivered_carrier_date &lt;dttm&gt; | order_delivered_customer_date &lt;dttm&gt; | order_estimated_delivery_date &lt;dttm&gt; | payment_sequential &lt;dbl&gt; | payment_type &lt;chr&gt; | payment_installments &lt;dbl&gt; | payment_value &lt;dbl&gt; |\n|---|---|---|---|---|---|---|---|---|---|---|---|---|---|---|---|---|\n| 1 | 03caa2c082116e1d31e67e9ae3700499 | 1617b1357756262bfa56ab541c47bc16 | 0a0a92112bd4c708ca5fde585afaa872 | 20080 | rio de janeiro | RJ | delivered | 2017-09-29 15:24:52 | 2017-10-02 15:28:20 | 2017-10-10 15:43:17 | 2017-10-17 18:22:29 | 2017-10-23 | 1 | credit_card | 1 | 13664.08 |\n| 2 | 736e1922ae60d0d6a89247b851902527 | ec5b2ba62e574342386871631fafd3fc | 763c8b1c9c68a0229c42c9fc6f662b93 | 29102 | vila velha     | ES | delivered | 2018-07-15 14:49:44 | 2018-07-17 04:31:36 | 2018-07-20 13:09:00 | 2018-07-26 22:03:06 | 2018-08-02 | 1 | boleto      | 1 |  7274.88 |\n| 3 | 0812eb902a67711a1cb742b3cdaa65ae | c6e2731c5b391845f6800c97401a43a9 | dc4802a71eae9be1dd28f5d788ceb526 | 79042 | campo grande   | MS | delivered | 2017-02-12 20:37:36 | 2017-02-12 20:45:12 | 2017-02-16 09:23:13 | 2017-03-03 14:23:18 | 2017-03-09 | 1 | credit_card | 8 |  6929.31 |\n| 4 | fefacc66af859508bf1a7934eab1e97f | f48d464a0baaea338cb25f816991ab1f | 459bef486812aa25204be022145caa62 | 29066 | vitoria        | ES | delivered | 2018-07-25 18:10:17 | 2018-07-27 04:05:13 | 2018-08-03 14:42:00 | 2018-08-15 14:57:50 | 2018-08-10 | 1 | boleto      | 1 |  6922.21 |\n| 5 | f5136e38d1a14a4dbd87dff67da82701 | 3fd6777bbce08a352fddd04e4a7cc8f6 | ff4159b92c40ebe40454e3e6a7c35ed6 | 17506 | marilia        | SP | delivered | 2017-05-24 18:14:34 | 2017-05-26 02:45:17 | 2017-05-26 11:20:47 | 2017-06-05 17:09:48 | 2017-06-28 | 1 | boleto      | 1 |  6726.66 |\n| 6 | 2cc9089445046817a7539d90805e6e5a | 05455dfa7cd02f13d132aa7a6a9729c6 | 4007669dec559734d6f53e029e360987 | 35501 | divinopolis    | MG | delivered | 2017-11-24 11:03:35 | 2017-11-28 12:55:46 | 2017-12-06 11:52:14 | 2017-12-13 12:16:02 | 2017-12-22 | 1 | boleto      | 1 |  6081.54 |\n\n",
            "text/latex": "A data.frame: 6 × 16\n\\begin{tabular}{r|llllllllllllllll}\n  & order\\_id & customer\\_id & customer\\_unique\\_id & customer\\_zip\\_code\\_prefix & customer\\_city & customer\\_state & order\\_status & order\\_purchase\\_timestamp & order\\_approved\\_at & order\\_delivered\\_carrier\\_date & order\\_delivered\\_customer\\_date & order\\_estimated\\_delivery\\_date & payment\\_sequential & payment\\_type & payment\\_installments & payment\\_value\\\\\n  & <chr> & <chr> & <chr> & <chr> & <chr> & <chr> & <chr> & <dttm> & <dttm> & <dttm> & <dttm> & <dttm> & <dbl> & <chr> & <dbl> & <dbl>\\\\\n\\hline\n\t1 & 03caa2c082116e1d31e67e9ae3700499 & 1617b1357756262bfa56ab541c47bc16 & 0a0a92112bd4c708ca5fde585afaa872 & 20080 & rio de janeiro & RJ & delivered & 2017-09-29 15:24:52 & 2017-10-02 15:28:20 & 2017-10-10 15:43:17 & 2017-10-17 18:22:29 & 2017-10-23 & 1 & credit\\_card & 1 & 13664.08\\\\\n\t2 & 736e1922ae60d0d6a89247b851902527 & ec5b2ba62e574342386871631fafd3fc & 763c8b1c9c68a0229c42c9fc6f662b93 & 29102 & vila velha     & ES & delivered & 2018-07-15 14:49:44 & 2018-07-17 04:31:36 & 2018-07-20 13:09:00 & 2018-07-26 22:03:06 & 2018-08-02 & 1 & boleto      & 1 &  7274.88\\\\\n\t3 & 0812eb902a67711a1cb742b3cdaa65ae & c6e2731c5b391845f6800c97401a43a9 & dc4802a71eae9be1dd28f5d788ceb526 & 79042 & campo grande   & MS & delivered & 2017-02-12 20:37:36 & 2017-02-12 20:45:12 & 2017-02-16 09:23:13 & 2017-03-03 14:23:18 & 2017-03-09 & 1 & credit\\_card & 8 &  6929.31\\\\\n\t4 & fefacc66af859508bf1a7934eab1e97f & f48d464a0baaea338cb25f816991ab1f & 459bef486812aa25204be022145caa62 & 29066 & vitoria        & ES & delivered & 2018-07-25 18:10:17 & 2018-07-27 04:05:13 & 2018-08-03 14:42:00 & 2018-08-15 14:57:50 & 2018-08-10 & 1 & boleto      & 1 &  6922.21\\\\\n\t5 & f5136e38d1a14a4dbd87dff67da82701 & 3fd6777bbce08a352fddd04e4a7cc8f6 & ff4159b92c40ebe40454e3e6a7c35ed6 & 17506 & marilia        & SP & delivered & 2017-05-24 18:14:34 & 2017-05-26 02:45:17 & 2017-05-26 11:20:47 & 2017-06-05 17:09:48 & 2017-06-28 & 1 & boleto      & 1 &  6726.66\\\\\n\t6 & 2cc9089445046817a7539d90805e6e5a & 05455dfa7cd02f13d132aa7a6a9729c6 & 4007669dec559734d6f53e029e360987 & 35501 & divinopolis    & MG & delivered & 2017-11-24 11:03:35 & 2017-11-28 12:55:46 & 2017-12-06 11:52:14 & 2017-12-13 12:16:02 & 2017-12-22 & 1 & boleto      & 1 &  6081.54\\\\\n\\end{tabular}\n",
            "text/plain": [
              "  order_id                         customer_id                     \n",
              "1 03caa2c082116e1d31e67e9ae3700499 1617b1357756262bfa56ab541c47bc16\n",
              "2 736e1922ae60d0d6a89247b851902527 ec5b2ba62e574342386871631fafd3fc\n",
              "3 0812eb902a67711a1cb742b3cdaa65ae c6e2731c5b391845f6800c97401a43a9\n",
              "4 fefacc66af859508bf1a7934eab1e97f f48d464a0baaea338cb25f816991ab1f\n",
              "5 f5136e38d1a14a4dbd87dff67da82701 3fd6777bbce08a352fddd04e4a7cc8f6\n",
              "6 2cc9089445046817a7539d90805e6e5a 05455dfa7cd02f13d132aa7a6a9729c6\n",
              "  customer_unique_id               customer_zip_code_prefix customer_city \n",
              "1 0a0a92112bd4c708ca5fde585afaa872 20080                    rio de janeiro\n",
              "2 763c8b1c9c68a0229c42c9fc6f662b93 29102                    vila velha    \n",
              "3 dc4802a71eae9be1dd28f5d788ceb526 79042                    campo grande  \n",
              "4 459bef486812aa25204be022145caa62 29066                    vitoria       \n",
              "5 ff4159b92c40ebe40454e3e6a7c35ed6 17506                    marilia       \n",
              "6 4007669dec559734d6f53e029e360987 35501                    divinopolis   \n",
              "  customer_state order_status order_purchase_timestamp order_approved_at  \n",
              "1 RJ             delivered    2017-09-29 15:24:52      2017-10-02 15:28:20\n",
              "2 ES             delivered    2018-07-15 14:49:44      2018-07-17 04:31:36\n",
              "3 MS             delivered    2017-02-12 20:37:36      2017-02-12 20:45:12\n",
              "4 ES             delivered    2018-07-25 18:10:17      2018-07-27 04:05:13\n",
              "5 SP             delivered    2017-05-24 18:14:34      2017-05-26 02:45:17\n",
              "6 MG             delivered    2017-11-24 11:03:35      2017-11-28 12:55:46\n",
              "  order_delivered_carrier_date order_delivered_customer_date\n",
              "1 2017-10-10 15:43:17          2017-10-17 18:22:29          \n",
              "2 2018-07-20 13:09:00          2018-07-26 22:03:06          \n",
              "3 2017-02-16 09:23:13          2017-03-03 14:23:18          \n",
              "4 2018-08-03 14:42:00          2018-08-15 14:57:50          \n",
              "5 2017-05-26 11:20:47          2017-06-05 17:09:48          \n",
              "6 2017-12-06 11:52:14          2017-12-13 12:16:02          \n",
              "  order_estimated_delivery_date payment_sequential payment_type\n",
              "1 2017-10-23                    1                  credit_card \n",
              "2 2018-08-02                    1                  boleto      \n",
              "3 2017-03-09                    1                  credit_card \n",
              "4 2018-08-10                    1                  boleto      \n",
              "5 2017-06-28                    1                  boleto      \n",
              "6 2017-12-22                    1                  boleto      \n",
              "  payment_installments payment_value\n",
              "1 1                    13664.08     \n",
              "2 1                     7274.88     \n",
              "3 8                     6929.31     \n",
              "4 1                     6922.21     \n",
              "5 1                     6726.66     \n",
              "6 1                     6081.54     "
            ]
          },
          "metadata": {}
        }
      ]
    },
    {
      "cell_type": "markdown",
      "source": [
        "Agora tenho o id do pedido , irei unir os novos dataset com o de pedidos"
      ],
      "metadata": {
        "id": "dfFgzr9D7cc2"
      }
    },
    {
      "cell_type": "code",
      "source": [
        "# Unindo os dataset\n",
        "Olist_Orders <- Orders %>%\n",
        "  inner_join(items, by = \"order_id\") %>%\n",
        "  inner_join(products, by = \"product_id\")\n",
        "\n",
        "\n",
        "head(Olist_Orders,8)"
      ],
      "metadata": {
        "colab": {
          "base_uri": "https://localhost:8080/",
          "height": 369
        },
        "id": "XdR2dh8B57ga",
        "outputId": "21fd5408-0a39-4bb5-8eef-7c66e047612f"
      },
      "execution_count": null,
      "outputs": [
        {
          "output_type": "display_data",
          "data": {
            "text/html": [
              "<table class=\"dataframe\">\n",
              "<caption>A tibble: 8 × 22</caption>\n",
              "<thead>\n",
              "\t<tr><th scope=col>order_id</th><th scope=col>customer_id</th><th scope=col>order_status</th><th scope=col>order_purchase_timestamp</th><th scope=col>order_approved_at</th><th scope=col>order_delivered_carrier_date</th><th scope=col>order_delivered_customer_date</th><th scope=col>order_estimated_delivery_date</th><th scope=col>order_item_id</th><th scope=col>product_id</th><th scope=col>⋯</th><th scope=col>price</th><th scope=col>freight_value</th><th scope=col>product_category_name</th><th scope=col>product_name_lenght</th><th scope=col>product_description_lenght</th><th scope=col>product_photos_qty</th><th scope=col>product_weight_g</th><th scope=col>product_length_cm</th><th scope=col>product_height_cm</th><th scope=col>product_width_cm</th></tr>\n",
              "\t<tr><th scope=col>&lt;chr&gt;</th><th scope=col>&lt;chr&gt;</th><th scope=col>&lt;chr&gt;</th><th scope=col>&lt;dttm&gt;</th><th scope=col>&lt;dttm&gt;</th><th scope=col>&lt;dttm&gt;</th><th scope=col>&lt;dttm&gt;</th><th scope=col>&lt;dttm&gt;</th><th scope=col>&lt;dbl&gt;</th><th scope=col>&lt;chr&gt;</th><th scope=col>⋯</th><th scope=col>&lt;dbl&gt;</th><th scope=col>&lt;dbl&gt;</th><th scope=col>&lt;chr&gt;</th><th scope=col>&lt;dbl&gt;</th><th scope=col>&lt;dbl&gt;</th><th scope=col>&lt;dbl&gt;</th><th scope=col>&lt;dbl&gt;</th><th scope=col>&lt;dbl&gt;</th><th scope=col>&lt;dbl&gt;</th><th scope=col>&lt;dbl&gt;</th></tr>\n",
              "</thead>\n",
              "<tbody>\n",
              "\t<tr><td>e481f51cbdc54678b7cc49136f2d6af7</td><td>9ef432eb6251297304e76186b10a928d</td><td>delivered</td><td>2017-10-02 10:56:33</td><td>2017-10-02 11:07:15</td><td>2017-10-04 19:55:00</td><td>2017-10-10 21:25:13</td><td>2017-10-18</td><td>1</td><td>87285b34884572647811a353c7ac498a</td><td>⋯</td><td> 29.99</td><td> 8.72</td><td>utilidades_domesticas</td><td>40</td><td>268</td><td> 4</td><td> 500</td><td>19</td><td> 8</td><td>13</td></tr>\n",
              "\t<tr><td>53cdb2fc8bc7dce0b6741e2150273451</td><td>b0830fb4747a6c6d20dea0b8c802d7ef</td><td>delivered</td><td>2018-07-24 20:41:37</td><td>2018-07-26 03:24:27</td><td>2018-07-26 14:31:00</td><td>2018-08-07 15:27:45</td><td>2018-08-13</td><td>1</td><td>595fac2a385ac33a80bd5114aec74eb8</td><td>⋯</td><td>118.70</td><td>22.76</td><td>perfumaria           </td><td>29</td><td>178</td><td> 1</td><td> 400</td><td>19</td><td>13</td><td>19</td></tr>\n",
              "\t<tr><td>47770eb9100c2d0c44946d9cf07ec65d</td><td>41ce2a54c0b03bf3443c3d931a367089</td><td>delivered</td><td>2018-08-08 08:38:49</td><td>2018-08-08 08:55:23</td><td>2018-08-08 13:50:00</td><td>2018-08-17 18:06:29</td><td>2018-09-04</td><td>1</td><td>aa4383b373c6aca5d8797843e5594415</td><td>⋯</td><td>159.90</td><td>19.22</td><td>automotivo           </td><td>46</td><td>232</td><td> 1</td><td> 420</td><td>24</td><td>19</td><td>21</td></tr>\n",
              "\t<tr><td>949d5b44dbf5de918fe9c16f97b45f8a</td><td>f88197465ea7920adcdbec7375364d82</td><td>delivered</td><td>2017-11-18 19:28:06</td><td>2017-11-18 19:45:59</td><td>2017-11-22 13:39:59</td><td>2017-12-02 00:28:42</td><td>2017-12-15</td><td>1</td><td>d0b61bfb1de832b15ba9d266ca96e5b0</td><td>⋯</td><td> 45.00</td><td>27.20</td><td>pet_shop             </td><td>59</td><td>468</td><td> 3</td><td> 450</td><td>30</td><td>10</td><td>20</td></tr>\n",
              "\t<tr><td>ad21c59c0840e6cb83a9ceb5573f8159</td><td>8ab97904e6daea8866dbdbc4fb7aad2c</td><td>delivered</td><td>2018-02-13 21:18:39</td><td>2018-02-13 22:20:29</td><td>2018-02-14 19:46:34</td><td>2018-02-16 18:17:02</td><td>2018-02-26</td><td>1</td><td>65266b2da20d04dbe00c5c2d3bb7859e</td><td>⋯</td><td> 19.90</td><td> 8.72</td><td>papelaria            </td><td>38</td><td>316</td><td> 4</td><td> 250</td><td>51</td><td>15</td><td>15</td></tr>\n",
              "\t<tr><td>a4591c265e18cb1dcee52889e2d8acc3</td><td>503740e9ca751ccdda7ba28e9ab8f608</td><td>delivered</td><td>2017-07-09 21:57:05</td><td>2017-07-09 22:10:13</td><td>2017-07-11 14:58:04</td><td>2017-07-26 10:57:55</td><td>2017-08-01</td><td>1</td><td>060cb19345d90064d1015407193c233d</td><td>⋯</td><td>147.90</td><td>27.36</td><td>automotivo           </td><td>49</td><td>608</td><td> 1</td><td>7150</td><td>65</td><td>10</td><td>65</td></tr>\n",
              "\t<tr><td>136cce7faa42fdb2cefd53fdc79a6098</td><td>ed0271e0b7da060a393796590e7b737a</td><td>invoiced </td><td>2017-04-11 12:22:08</td><td>2017-04-13 13:25:17</td><td>NA</td><td>NA</td><td>2017-05-09</td><td>1</td><td>a1804276d9941ac0733cfd409f5206eb</td><td>⋯</td><td> 49.90</td><td>16.05</td><td>NA                   </td><td>NA</td><td> NA</td><td>NA</td><td> 600</td><td>35</td><td>35</td><td>15</td></tr>\n",
              "\t<tr><td>6514b8ad8028c9f2cc2374ded245783f</td><td>9bdf08b4b3b52b5526ff42d37d47f222</td><td>delivered</td><td>2017-05-16 13:10:30</td><td>2017-05-16 13:22:11</td><td>2017-05-22 10:07:46</td><td>2017-05-26 12:55:51</td><td>2017-06-07</td><td>1</td><td>4520766ec412348b8d4caa5e8a18c464</td><td>⋯</td><td> 59.99</td><td>15.17</td><td>automotivo           </td><td>59</td><td>956</td><td> 1</td><td>  50</td><td>16</td><td>16</td><td>17</td></tr>\n",
              "</tbody>\n",
              "</table>\n"
            ],
            "text/markdown": "\nA tibble: 8 × 22\n\n| order_id &lt;chr&gt; | customer_id &lt;chr&gt; | order_status &lt;chr&gt; | order_purchase_timestamp &lt;dttm&gt; | order_approved_at &lt;dttm&gt; | order_delivered_carrier_date &lt;dttm&gt; | order_delivered_customer_date &lt;dttm&gt; | order_estimated_delivery_date &lt;dttm&gt; | order_item_id &lt;dbl&gt; | product_id &lt;chr&gt; | ⋯ ⋯ | price &lt;dbl&gt; | freight_value &lt;dbl&gt; | product_category_name &lt;chr&gt; | product_name_lenght &lt;dbl&gt; | product_description_lenght &lt;dbl&gt; | product_photos_qty &lt;dbl&gt; | product_weight_g &lt;dbl&gt; | product_length_cm &lt;dbl&gt; | product_height_cm &lt;dbl&gt; | product_width_cm &lt;dbl&gt; |\n|---|---|---|---|---|---|---|---|---|---|---|---|---|---|---|---|---|---|---|---|---|\n| e481f51cbdc54678b7cc49136f2d6af7 | 9ef432eb6251297304e76186b10a928d | delivered | 2017-10-02 10:56:33 | 2017-10-02 11:07:15 | 2017-10-04 19:55:00 | 2017-10-10 21:25:13 | 2017-10-18 | 1 | 87285b34884572647811a353c7ac498a | ⋯ |  29.99 |  8.72 | utilidades_domesticas | 40 | 268 |  4 |  500 | 19 |  8 | 13 |\n| 53cdb2fc8bc7dce0b6741e2150273451 | b0830fb4747a6c6d20dea0b8c802d7ef | delivered | 2018-07-24 20:41:37 | 2018-07-26 03:24:27 | 2018-07-26 14:31:00 | 2018-08-07 15:27:45 | 2018-08-13 | 1 | 595fac2a385ac33a80bd5114aec74eb8 | ⋯ | 118.70 | 22.76 | perfumaria            | 29 | 178 |  1 |  400 | 19 | 13 | 19 |\n| 47770eb9100c2d0c44946d9cf07ec65d | 41ce2a54c0b03bf3443c3d931a367089 | delivered | 2018-08-08 08:38:49 | 2018-08-08 08:55:23 | 2018-08-08 13:50:00 | 2018-08-17 18:06:29 | 2018-09-04 | 1 | aa4383b373c6aca5d8797843e5594415 | ⋯ | 159.90 | 19.22 | automotivo            | 46 | 232 |  1 |  420 | 24 | 19 | 21 |\n| 949d5b44dbf5de918fe9c16f97b45f8a | f88197465ea7920adcdbec7375364d82 | delivered | 2017-11-18 19:28:06 | 2017-11-18 19:45:59 | 2017-11-22 13:39:59 | 2017-12-02 00:28:42 | 2017-12-15 | 1 | d0b61bfb1de832b15ba9d266ca96e5b0 | ⋯ |  45.00 | 27.20 | pet_shop              | 59 | 468 |  3 |  450 | 30 | 10 | 20 |\n| ad21c59c0840e6cb83a9ceb5573f8159 | 8ab97904e6daea8866dbdbc4fb7aad2c | delivered | 2018-02-13 21:18:39 | 2018-02-13 22:20:29 | 2018-02-14 19:46:34 | 2018-02-16 18:17:02 | 2018-02-26 | 1 | 65266b2da20d04dbe00c5c2d3bb7859e | ⋯ |  19.90 |  8.72 | papelaria             | 38 | 316 |  4 |  250 | 51 | 15 | 15 |\n| a4591c265e18cb1dcee52889e2d8acc3 | 503740e9ca751ccdda7ba28e9ab8f608 | delivered | 2017-07-09 21:57:05 | 2017-07-09 22:10:13 | 2017-07-11 14:58:04 | 2017-07-26 10:57:55 | 2017-08-01 | 1 | 060cb19345d90064d1015407193c233d | ⋯ | 147.90 | 27.36 | automotivo            | 49 | 608 |  1 | 7150 | 65 | 10 | 65 |\n| 136cce7faa42fdb2cefd53fdc79a6098 | ed0271e0b7da060a393796590e7b737a | invoiced  | 2017-04-11 12:22:08 | 2017-04-13 13:25:17 | NA | NA | 2017-05-09 | 1 | a1804276d9941ac0733cfd409f5206eb | ⋯ |  49.90 | 16.05 | NA                    | NA |  NA | NA |  600 | 35 | 35 | 15 |\n| 6514b8ad8028c9f2cc2374ded245783f | 9bdf08b4b3b52b5526ff42d37d47f222 | delivered | 2017-05-16 13:10:30 | 2017-05-16 13:22:11 | 2017-05-22 10:07:46 | 2017-05-26 12:55:51 | 2017-06-07 | 1 | 4520766ec412348b8d4caa5e8a18c464 | ⋯ |  59.99 | 15.17 | automotivo            | 59 | 956 |  1 |   50 | 16 | 16 | 17 |\n\n",
            "text/latex": "A tibble: 8 × 22\n\\begin{tabular}{lllllllllllllllllllll}\n order\\_id & customer\\_id & order\\_status & order\\_purchase\\_timestamp & order\\_approved\\_at & order\\_delivered\\_carrier\\_date & order\\_delivered\\_customer\\_date & order\\_estimated\\_delivery\\_date & order\\_item\\_id & product\\_id & ⋯ & price & freight\\_value & product\\_category\\_name & product\\_name\\_lenght & product\\_description\\_lenght & product\\_photos\\_qty & product\\_weight\\_g & product\\_length\\_cm & product\\_height\\_cm & product\\_width\\_cm\\\\\n <chr> & <chr> & <chr> & <dttm> & <dttm> & <dttm> & <dttm> & <dttm> & <dbl> & <chr> & ⋯ & <dbl> & <dbl> & <chr> & <dbl> & <dbl> & <dbl> & <dbl> & <dbl> & <dbl> & <dbl>\\\\\n\\hline\n\t e481f51cbdc54678b7cc49136f2d6af7 & 9ef432eb6251297304e76186b10a928d & delivered & 2017-10-02 10:56:33 & 2017-10-02 11:07:15 & 2017-10-04 19:55:00 & 2017-10-10 21:25:13 & 2017-10-18 & 1 & 87285b34884572647811a353c7ac498a & ⋯ &  29.99 &  8.72 & utilidades\\_domesticas & 40 & 268 &  4 &  500 & 19 &  8 & 13\\\\\n\t 53cdb2fc8bc7dce0b6741e2150273451 & b0830fb4747a6c6d20dea0b8c802d7ef & delivered & 2018-07-24 20:41:37 & 2018-07-26 03:24:27 & 2018-07-26 14:31:00 & 2018-08-07 15:27:45 & 2018-08-13 & 1 & 595fac2a385ac33a80bd5114aec74eb8 & ⋯ & 118.70 & 22.76 & perfumaria            & 29 & 178 &  1 &  400 & 19 & 13 & 19\\\\\n\t 47770eb9100c2d0c44946d9cf07ec65d & 41ce2a54c0b03bf3443c3d931a367089 & delivered & 2018-08-08 08:38:49 & 2018-08-08 08:55:23 & 2018-08-08 13:50:00 & 2018-08-17 18:06:29 & 2018-09-04 & 1 & aa4383b373c6aca5d8797843e5594415 & ⋯ & 159.90 & 19.22 & automotivo            & 46 & 232 &  1 &  420 & 24 & 19 & 21\\\\\n\t 949d5b44dbf5de918fe9c16f97b45f8a & f88197465ea7920adcdbec7375364d82 & delivered & 2017-11-18 19:28:06 & 2017-11-18 19:45:59 & 2017-11-22 13:39:59 & 2017-12-02 00:28:42 & 2017-12-15 & 1 & d0b61bfb1de832b15ba9d266ca96e5b0 & ⋯ &  45.00 & 27.20 & pet\\_shop              & 59 & 468 &  3 &  450 & 30 & 10 & 20\\\\\n\t ad21c59c0840e6cb83a9ceb5573f8159 & 8ab97904e6daea8866dbdbc4fb7aad2c & delivered & 2018-02-13 21:18:39 & 2018-02-13 22:20:29 & 2018-02-14 19:46:34 & 2018-02-16 18:17:02 & 2018-02-26 & 1 & 65266b2da20d04dbe00c5c2d3bb7859e & ⋯ &  19.90 &  8.72 & papelaria             & 38 & 316 &  4 &  250 & 51 & 15 & 15\\\\\n\t a4591c265e18cb1dcee52889e2d8acc3 & 503740e9ca751ccdda7ba28e9ab8f608 & delivered & 2017-07-09 21:57:05 & 2017-07-09 22:10:13 & 2017-07-11 14:58:04 & 2017-07-26 10:57:55 & 2017-08-01 & 1 & 060cb19345d90064d1015407193c233d & ⋯ & 147.90 & 27.36 & automotivo            & 49 & 608 &  1 & 7150 & 65 & 10 & 65\\\\\n\t 136cce7faa42fdb2cefd53fdc79a6098 & ed0271e0b7da060a393796590e7b737a & invoiced  & 2017-04-11 12:22:08 & 2017-04-13 13:25:17 & NA & NA & 2017-05-09 & 1 & a1804276d9941ac0733cfd409f5206eb & ⋯ &  49.90 & 16.05 & NA                    & NA &  NA & NA &  600 & 35 & 35 & 15\\\\\n\t 6514b8ad8028c9f2cc2374ded245783f & 9bdf08b4b3b52b5526ff42d37d47f222 & delivered & 2017-05-16 13:10:30 & 2017-05-16 13:22:11 & 2017-05-22 10:07:46 & 2017-05-26 12:55:51 & 2017-06-07 & 1 & 4520766ec412348b8d4caa5e8a18c464 & ⋯ &  59.99 & 15.17 & automotivo            & 59 & 956 &  1 &   50 & 16 & 16 & 17\\\\\n\\end{tabular}\n",
            "text/plain": [
              "  order_id                         customer_id                     \n",
              "1 e481f51cbdc54678b7cc49136f2d6af7 9ef432eb6251297304e76186b10a928d\n",
              "2 53cdb2fc8bc7dce0b6741e2150273451 b0830fb4747a6c6d20dea0b8c802d7ef\n",
              "3 47770eb9100c2d0c44946d9cf07ec65d 41ce2a54c0b03bf3443c3d931a367089\n",
              "4 949d5b44dbf5de918fe9c16f97b45f8a f88197465ea7920adcdbec7375364d82\n",
              "5 ad21c59c0840e6cb83a9ceb5573f8159 8ab97904e6daea8866dbdbc4fb7aad2c\n",
              "6 a4591c265e18cb1dcee52889e2d8acc3 503740e9ca751ccdda7ba28e9ab8f608\n",
              "7 136cce7faa42fdb2cefd53fdc79a6098 ed0271e0b7da060a393796590e7b737a\n",
              "8 6514b8ad8028c9f2cc2374ded245783f 9bdf08b4b3b52b5526ff42d37d47f222\n",
              "  order_status order_purchase_timestamp order_approved_at  \n",
              "1 delivered    2017-10-02 10:56:33      2017-10-02 11:07:15\n",
              "2 delivered    2018-07-24 20:41:37      2018-07-26 03:24:27\n",
              "3 delivered    2018-08-08 08:38:49      2018-08-08 08:55:23\n",
              "4 delivered    2017-11-18 19:28:06      2017-11-18 19:45:59\n",
              "5 delivered    2018-02-13 21:18:39      2018-02-13 22:20:29\n",
              "6 delivered    2017-07-09 21:57:05      2017-07-09 22:10:13\n",
              "7 invoiced     2017-04-11 12:22:08      2017-04-13 13:25:17\n",
              "8 delivered    2017-05-16 13:10:30      2017-05-16 13:22:11\n",
              "  order_delivered_carrier_date order_delivered_customer_date\n",
              "1 2017-10-04 19:55:00          2017-10-10 21:25:13          \n",
              "2 2018-07-26 14:31:00          2018-08-07 15:27:45          \n",
              "3 2018-08-08 13:50:00          2018-08-17 18:06:29          \n",
              "4 2017-11-22 13:39:59          2017-12-02 00:28:42          \n",
              "5 2018-02-14 19:46:34          2018-02-16 18:17:02          \n",
              "6 2017-07-11 14:58:04          2017-07-26 10:57:55          \n",
              "7 <NA>                         <NA>                         \n",
              "8 2017-05-22 10:07:46          2017-05-26 12:55:51          \n",
              "  order_estimated_delivery_date order_item_id product_id                      \n",
              "1 2017-10-18                    1             87285b34884572647811a353c7ac498a\n",
              "2 2018-08-13                    1             595fac2a385ac33a80bd5114aec74eb8\n",
              "3 2018-09-04                    1             aa4383b373c6aca5d8797843e5594415\n",
              "4 2017-12-15                    1             d0b61bfb1de832b15ba9d266ca96e5b0\n",
              "5 2018-02-26                    1             65266b2da20d04dbe00c5c2d3bb7859e\n",
              "6 2017-08-01                    1             060cb19345d90064d1015407193c233d\n",
              "7 2017-05-09                    1             a1804276d9941ac0733cfd409f5206eb\n",
              "8 2017-06-07                    1             4520766ec412348b8d4caa5e8a18c464\n",
              "  ⋯ price  freight_value product_category_name product_name_lenght\n",
              "1 ⋯  29.99  8.72         utilidades_domesticas 40                 \n",
              "2 ⋯ 118.70 22.76         perfumaria            29                 \n",
              "3 ⋯ 159.90 19.22         automotivo            46                 \n",
              "4 ⋯  45.00 27.20         pet_shop              59                 \n",
              "5 ⋯  19.90  8.72         papelaria             38                 \n",
              "6 ⋯ 147.90 27.36         automotivo            49                 \n",
              "7 ⋯  49.90 16.05         NA                    NA                 \n",
              "8 ⋯  59.99 15.17         automotivo            59                 \n",
              "  product_description_lenght product_photos_qty product_weight_g\n",
              "1 268                         4                  500            \n",
              "2 178                         1                  400            \n",
              "3 232                         1                  420            \n",
              "4 468                         3                  450            \n",
              "5 316                         4                  250            \n",
              "6 608                         1                 7150            \n",
              "7  NA                        NA                  600            \n",
              "8 956                         1                   50            \n",
              "  product_length_cm product_height_cm product_width_cm\n",
              "1 19                 8                13              \n",
              "2 19                13                19              \n",
              "3 24                19                21              \n",
              "4 30                10                20              \n",
              "5 51                15                15              \n",
              "6 65                10                65              \n",
              "7 35                35                15              \n",
              "8 16                16                17              "
            ]
          },
          "metadata": {}
        }
      ]
    },
    {
      "cell_type": "code",
      "source": [
        "# Verificar os produtos do pedido\n",
        "# Filtrar o pedido específico\n",
        "order_id_especifico <- \"03caa2c082116e1d31e67e9ae3700499\"\n",
        "\n",
        "order_outlier <- Olist_Orders %>%\n",
        "  filter(order_id == order_id_especifico)\n",
        "\n",
        "\n",
        "head(order_outlier,10)"
      ],
      "metadata": {
        "colab": {
          "base_uri": "https://localhost:8080/",
          "height": 369
        },
        "id": "EG4DFdADpK_p",
        "outputId": "cb29e370-7f18-46d0-cb4f-0a7462e54be1"
      },
      "execution_count": null,
      "outputs": [
        {
          "output_type": "display_data",
          "data": {
            "text/html": [
              "<table class=\"dataframe\">\n",
              "<caption>A tibble: 8 × 22</caption>\n",
              "<thead>\n",
              "\t<tr><th scope=col>order_id</th><th scope=col>customer_id</th><th scope=col>order_status</th><th scope=col>order_purchase_timestamp</th><th scope=col>order_approved_at</th><th scope=col>order_delivered_carrier_date</th><th scope=col>order_delivered_customer_date</th><th scope=col>order_estimated_delivery_date</th><th scope=col>order_item_id</th><th scope=col>product_id</th><th scope=col>⋯</th><th scope=col>price</th><th scope=col>freight_value</th><th scope=col>product_category_name</th><th scope=col>product_name_lenght</th><th scope=col>product_description_lenght</th><th scope=col>product_photos_qty</th><th scope=col>product_weight_g</th><th scope=col>product_length_cm</th><th scope=col>product_height_cm</th><th scope=col>product_width_cm</th></tr>\n",
              "\t<tr><th scope=col>&lt;chr&gt;</th><th scope=col>&lt;chr&gt;</th><th scope=col>&lt;chr&gt;</th><th scope=col>&lt;dttm&gt;</th><th scope=col>&lt;dttm&gt;</th><th scope=col>&lt;dttm&gt;</th><th scope=col>&lt;dttm&gt;</th><th scope=col>&lt;dttm&gt;</th><th scope=col>&lt;dbl&gt;</th><th scope=col>&lt;chr&gt;</th><th scope=col>⋯</th><th scope=col>&lt;dbl&gt;</th><th scope=col>&lt;dbl&gt;</th><th scope=col>&lt;chr&gt;</th><th scope=col>&lt;dbl&gt;</th><th scope=col>&lt;dbl&gt;</th><th scope=col>&lt;dbl&gt;</th><th scope=col>&lt;dbl&gt;</th><th scope=col>&lt;dbl&gt;</th><th scope=col>&lt;dbl&gt;</th><th scope=col>&lt;dbl&gt;</th></tr>\n",
              "</thead>\n",
              "<tbody>\n",
              "\t<tr><td>03caa2c082116e1d31e67e9ae3700499</td><td>1617b1357756262bfa56ab541c47bc16</td><td>delivered</td><td>2017-09-29 15:24:52</td><td>2017-10-02 15:28:20</td><td>2017-10-10 15:43:17</td><td>2017-10-17 18:22:29</td><td>2017-10-23</td><td>1</td><td>5769ef0a239114ac3a854af00df129e4</td><td>⋯</td><td>1680</td><td>28.01</td><td>telefonia_fixa</td><td>39</td><td>2493</td><td>3</td><td>750</td><td>16</td><td>16</td><td>16</td></tr>\n",
              "\t<tr><td>03caa2c082116e1d31e67e9ae3700499</td><td>1617b1357756262bfa56ab541c47bc16</td><td>delivered</td><td>2017-09-29 15:24:52</td><td>2017-10-02 15:28:20</td><td>2017-10-10 15:43:17</td><td>2017-10-17 18:22:29</td><td>2017-10-23</td><td>2</td><td>5769ef0a239114ac3a854af00df129e4</td><td>⋯</td><td>1680</td><td>28.01</td><td>telefonia_fixa</td><td>39</td><td>2493</td><td>3</td><td>750</td><td>16</td><td>16</td><td>16</td></tr>\n",
              "\t<tr><td>03caa2c082116e1d31e67e9ae3700499</td><td>1617b1357756262bfa56ab541c47bc16</td><td>delivered</td><td>2017-09-29 15:24:52</td><td>2017-10-02 15:28:20</td><td>2017-10-10 15:43:17</td><td>2017-10-17 18:22:29</td><td>2017-10-23</td><td>3</td><td>5769ef0a239114ac3a854af00df129e4</td><td>⋯</td><td>1680</td><td>28.01</td><td>telefonia_fixa</td><td>39</td><td>2493</td><td>3</td><td>750</td><td>16</td><td>16</td><td>16</td></tr>\n",
              "\t<tr><td>03caa2c082116e1d31e67e9ae3700499</td><td>1617b1357756262bfa56ab541c47bc16</td><td>delivered</td><td>2017-09-29 15:24:52</td><td>2017-10-02 15:28:20</td><td>2017-10-10 15:43:17</td><td>2017-10-17 18:22:29</td><td>2017-10-23</td><td>4</td><td>5769ef0a239114ac3a854af00df129e4</td><td>⋯</td><td>1680</td><td>28.01</td><td>telefonia_fixa</td><td>39</td><td>2493</td><td>3</td><td>750</td><td>16</td><td>16</td><td>16</td></tr>\n",
              "\t<tr><td>03caa2c082116e1d31e67e9ae3700499</td><td>1617b1357756262bfa56ab541c47bc16</td><td>delivered</td><td>2017-09-29 15:24:52</td><td>2017-10-02 15:28:20</td><td>2017-10-10 15:43:17</td><td>2017-10-17 18:22:29</td><td>2017-10-23</td><td>5</td><td>5769ef0a239114ac3a854af00df129e4</td><td>⋯</td><td>1680</td><td>28.01</td><td>telefonia_fixa</td><td>39</td><td>2493</td><td>3</td><td>750</td><td>16</td><td>16</td><td>16</td></tr>\n",
              "\t<tr><td>03caa2c082116e1d31e67e9ae3700499</td><td>1617b1357756262bfa56ab541c47bc16</td><td>delivered</td><td>2017-09-29 15:24:52</td><td>2017-10-02 15:28:20</td><td>2017-10-10 15:43:17</td><td>2017-10-17 18:22:29</td><td>2017-10-23</td><td>6</td><td>5769ef0a239114ac3a854af00df129e4</td><td>⋯</td><td>1680</td><td>28.01</td><td>telefonia_fixa</td><td>39</td><td>2493</td><td>3</td><td>750</td><td>16</td><td>16</td><td>16</td></tr>\n",
              "\t<tr><td>03caa2c082116e1d31e67e9ae3700499</td><td>1617b1357756262bfa56ab541c47bc16</td><td>delivered</td><td>2017-09-29 15:24:52</td><td>2017-10-02 15:28:20</td><td>2017-10-10 15:43:17</td><td>2017-10-17 18:22:29</td><td>2017-10-23</td><td>7</td><td>5769ef0a239114ac3a854af00df129e4</td><td>⋯</td><td>1680</td><td>28.01</td><td>telefonia_fixa</td><td>39</td><td>2493</td><td>3</td><td>750</td><td>16</td><td>16</td><td>16</td></tr>\n",
              "\t<tr><td>03caa2c082116e1d31e67e9ae3700499</td><td>1617b1357756262bfa56ab541c47bc16</td><td>delivered</td><td>2017-09-29 15:24:52</td><td>2017-10-02 15:28:20</td><td>2017-10-10 15:43:17</td><td>2017-10-17 18:22:29</td><td>2017-10-23</td><td>8</td><td>5769ef0a239114ac3a854af00df129e4</td><td>⋯</td><td>1680</td><td>28.01</td><td>telefonia_fixa</td><td>39</td><td>2493</td><td>3</td><td>750</td><td>16</td><td>16</td><td>16</td></tr>\n",
              "</tbody>\n",
              "</table>\n"
            ],
            "text/markdown": "\nA tibble: 8 × 22\n\n| order_id &lt;chr&gt; | customer_id &lt;chr&gt; | order_status &lt;chr&gt; | order_purchase_timestamp &lt;dttm&gt; | order_approved_at &lt;dttm&gt; | order_delivered_carrier_date &lt;dttm&gt; | order_delivered_customer_date &lt;dttm&gt; | order_estimated_delivery_date &lt;dttm&gt; | order_item_id &lt;dbl&gt; | product_id &lt;chr&gt; | ⋯ ⋯ | price &lt;dbl&gt; | freight_value &lt;dbl&gt; | product_category_name &lt;chr&gt; | product_name_lenght &lt;dbl&gt; | product_description_lenght &lt;dbl&gt; | product_photos_qty &lt;dbl&gt; | product_weight_g &lt;dbl&gt; | product_length_cm &lt;dbl&gt; | product_height_cm &lt;dbl&gt; | product_width_cm &lt;dbl&gt; |\n|---|---|---|---|---|---|---|---|---|---|---|---|---|---|---|---|---|---|---|---|---|\n| 03caa2c082116e1d31e67e9ae3700499 | 1617b1357756262bfa56ab541c47bc16 | delivered | 2017-09-29 15:24:52 | 2017-10-02 15:28:20 | 2017-10-10 15:43:17 | 2017-10-17 18:22:29 | 2017-10-23 | 1 | 5769ef0a239114ac3a854af00df129e4 | ⋯ | 1680 | 28.01 | telefonia_fixa | 39 | 2493 | 3 | 750 | 16 | 16 | 16 |\n| 03caa2c082116e1d31e67e9ae3700499 | 1617b1357756262bfa56ab541c47bc16 | delivered | 2017-09-29 15:24:52 | 2017-10-02 15:28:20 | 2017-10-10 15:43:17 | 2017-10-17 18:22:29 | 2017-10-23 | 2 | 5769ef0a239114ac3a854af00df129e4 | ⋯ | 1680 | 28.01 | telefonia_fixa | 39 | 2493 | 3 | 750 | 16 | 16 | 16 |\n| 03caa2c082116e1d31e67e9ae3700499 | 1617b1357756262bfa56ab541c47bc16 | delivered | 2017-09-29 15:24:52 | 2017-10-02 15:28:20 | 2017-10-10 15:43:17 | 2017-10-17 18:22:29 | 2017-10-23 | 3 | 5769ef0a239114ac3a854af00df129e4 | ⋯ | 1680 | 28.01 | telefonia_fixa | 39 | 2493 | 3 | 750 | 16 | 16 | 16 |\n| 03caa2c082116e1d31e67e9ae3700499 | 1617b1357756262bfa56ab541c47bc16 | delivered | 2017-09-29 15:24:52 | 2017-10-02 15:28:20 | 2017-10-10 15:43:17 | 2017-10-17 18:22:29 | 2017-10-23 | 4 | 5769ef0a239114ac3a854af00df129e4 | ⋯ | 1680 | 28.01 | telefonia_fixa | 39 | 2493 | 3 | 750 | 16 | 16 | 16 |\n| 03caa2c082116e1d31e67e9ae3700499 | 1617b1357756262bfa56ab541c47bc16 | delivered | 2017-09-29 15:24:52 | 2017-10-02 15:28:20 | 2017-10-10 15:43:17 | 2017-10-17 18:22:29 | 2017-10-23 | 5 | 5769ef0a239114ac3a854af00df129e4 | ⋯ | 1680 | 28.01 | telefonia_fixa | 39 | 2493 | 3 | 750 | 16 | 16 | 16 |\n| 03caa2c082116e1d31e67e9ae3700499 | 1617b1357756262bfa56ab541c47bc16 | delivered | 2017-09-29 15:24:52 | 2017-10-02 15:28:20 | 2017-10-10 15:43:17 | 2017-10-17 18:22:29 | 2017-10-23 | 6 | 5769ef0a239114ac3a854af00df129e4 | ⋯ | 1680 | 28.01 | telefonia_fixa | 39 | 2493 | 3 | 750 | 16 | 16 | 16 |\n| 03caa2c082116e1d31e67e9ae3700499 | 1617b1357756262bfa56ab541c47bc16 | delivered | 2017-09-29 15:24:52 | 2017-10-02 15:28:20 | 2017-10-10 15:43:17 | 2017-10-17 18:22:29 | 2017-10-23 | 7 | 5769ef0a239114ac3a854af00df129e4 | ⋯ | 1680 | 28.01 | telefonia_fixa | 39 | 2493 | 3 | 750 | 16 | 16 | 16 |\n| 03caa2c082116e1d31e67e9ae3700499 | 1617b1357756262bfa56ab541c47bc16 | delivered | 2017-09-29 15:24:52 | 2017-10-02 15:28:20 | 2017-10-10 15:43:17 | 2017-10-17 18:22:29 | 2017-10-23 | 8 | 5769ef0a239114ac3a854af00df129e4 | ⋯ | 1680 | 28.01 | telefonia_fixa | 39 | 2493 | 3 | 750 | 16 | 16 | 16 |\n\n",
            "text/latex": "A tibble: 8 × 22\n\\begin{tabular}{lllllllllllllllllllll}\n order\\_id & customer\\_id & order\\_status & order\\_purchase\\_timestamp & order\\_approved\\_at & order\\_delivered\\_carrier\\_date & order\\_delivered\\_customer\\_date & order\\_estimated\\_delivery\\_date & order\\_item\\_id & product\\_id & ⋯ & price & freight\\_value & product\\_category\\_name & product\\_name\\_lenght & product\\_description\\_lenght & product\\_photos\\_qty & product\\_weight\\_g & product\\_length\\_cm & product\\_height\\_cm & product\\_width\\_cm\\\\\n <chr> & <chr> & <chr> & <dttm> & <dttm> & <dttm> & <dttm> & <dttm> & <dbl> & <chr> & ⋯ & <dbl> & <dbl> & <chr> & <dbl> & <dbl> & <dbl> & <dbl> & <dbl> & <dbl> & <dbl>\\\\\n\\hline\n\t 03caa2c082116e1d31e67e9ae3700499 & 1617b1357756262bfa56ab541c47bc16 & delivered & 2017-09-29 15:24:52 & 2017-10-02 15:28:20 & 2017-10-10 15:43:17 & 2017-10-17 18:22:29 & 2017-10-23 & 1 & 5769ef0a239114ac3a854af00df129e4 & ⋯ & 1680 & 28.01 & telefonia\\_fixa & 39 & 2493 & 3 & 750 & 16 & 16 & 16\\\\\n\t 03caa2c082116e1d31e67e9ae3700499 & 1617b1357756262bfa56ab541c47bc16 & delivered & 2017-09-29 15:24:52 & 2017-10-02 15:28:20 & 2017-10-10 15:43:17 & 2017-10-17 18:22:29 & 2017-10-23 & 2 & 5769ef0a239114ac3a854af00df129e4 & ⋯ & 1680 & 28.01 & telefonia\\_fixa & 39 & 2493 & 3 & 750 & 16 & 16 & 16\\\\\n\t 03caa2c082116e1d31e67e9ae3700499 & 1617b1357756262bfa56ab541c47bc16 & delivered & 2017-09-29 15:24:52 & 2017-10-02 15:28:20 & 2017-10-10 15:43:17 & 2017-10-17 18:22:29 & 2017-10-23 & 3 & 5769ef0a239114ac3a854af00df129e4 & ⋯ & 1680 & 28.01 & telefonia\\_fixa & 39 & 2493 & 3 & 750 & 16 & 16 & 16\\\\\n\t 03caa2c082116e1d31e67e9ae3700499 & 1617b1357756262bfa56ab541c47bc16 & delivered & 2017-09-29 15:24:52 & 2017-10-02 15:28:20 & 2017-10-10 15:43:17 & 2017-10-17 18:22:29 & 2017-10-23 & 4 & 5769ef0a239114ac3a854af00df129e4 & ⋯ & 1680 & 28.01 & telefonia\\_fixa & 39 & 2493 & 3 & 750 & 16 & 16 & 16\\\\\n\t 03caa2c082116e1d31e67e9ae3700499 & 1617b1357756262bfa56ab541c47bc16 & delivered & 2017-09-29 15:24:52 & 2017-10-02 15:28:20 & 2017-10-10 15:43:17 & 2017-10-17 18:22:29 & 2017-10-23 & 5 & 5769ef0a239114ac3a854af00df129e4 & ⋯ & 1680 & 28.01 & telefonia\\_fixa & 39 & 2493 & 3 & 750 & 16 & 16 & 16\\\\\n\t 03caa2c082116e1d31e67e9ae3700499 & 1617b1357756262bfa56ab541c47bc16 & delivered & 2017-09-29 15:24:52 & 2017-10-02 15:28:20 & 2017-10-10 15:43:17 & 2017-10-17 18:22:29 & 2017-10-23 & 6 & 5769ef0a239114ac3a854af00df129e4 & ⋯ & 1680 & 28.01 & telefonia\\_fixa & 39 & 2493 & 3 & 750 & 16 & 16 & 16\\\\\n\t 03caa2c082116e1d31e67e9ae3700499 & 1617b1357756262bfa56ab541c47bc16 & delivered & 2017-09-29 15:24:52 & 2017-10-02 15:28:20 & 2017-10-10 15:43:17 & 2017-10-17 18:22:29 & 2017-10-23 & 7 & 5769ef0a239114ac3a854af00df129e4 & ⋯ & 1680 & 28.01 & telefonia\\_fixa & 39 & 2493 & 3 & 750 & 16 & 16 & 16\\\\\n\t 03caa2c082116e1d31e67e9ae3700499 & 1617b1357756262bfa56ab541c47bc16 & delivered & 2017-09-29 15:24:52 & 2017-10-02 15:28:20 & 2017-10-10 15:43:17 & 2017-10-17 18:22:29 & 2017-10-23 & 8 & 5769ef0a239114ac3a854af00df129e4 & ⋯ & 1680 & 28.01 & telefonia\\_fixa & 39 & 2493 & 3 & 750 & 16 & 16 & 16\\\\\n\\end{tabular}\n",
            "text/plain": [
              "  order_id                         customer_id                     \n",
              "1 03caa2c082116e1d31e67e9ae3700499 1617b1357756262bfa56ab541c47bc16\n",
              "2 03caa2c082116e1d31e67e9ae3700499 1617b1357756262bfa56ab541c47bc16\n",
              "3 03caa2c082116e1d31e67e9ae3700499 1617b1357756262bfa56ab541c47bc16\n",
              "4 03caa2c082116e1d31e67e9ae3700499 1617b1357756262bfa56ab541c47bc16\n",
              "5 03caa2c082116e1d31e67e9ae3700499 1617b1357756262bfa56ab541c47bc16\n",
              "6 03caa2c082116e1d31e67e9ae3700499 1617b1357756262bfa56ab541c47bc16\n",
              "7 03caa2c082116e1d31e67e9ae3700499 1617b1357756262bfa56ab541c47bc16\n",
              "8 03caa2c082116e1d31e67e9ae3700499 1617b1357756262bfa56ab541c47bc16\n",
              "  order_status order_purchase_timestamp order_approved_at  \n",
              "1 delivered    2017-09-29 15:24:52      2017-10-02 15:28:20\n",
              "2 delivered    2017-09-29 15:24:52      2017-10-02 15:28:20\n",
              "3 delivered    2017-09-29 15:24:52      2017-10-02 15:28:20\n",
              "4 delivered    2017-09-29 15:24:52      2017-10-02 15:28:20\n",
              "5 delivered    2017-09-29 15:24:52      2017-10-02 15:28:20\n",
              "6 delivered    2017-09-29 15:24:52      2017-10-02 15:28:20\n",
              "7 delivered    2017-09-29 15:24:52      2017-10-02 15:28:20\n",
              "8 delivered    2017-09-29 15:24:52      2017-10-02 15:28:20\n",
              "  order_delivered_carrier_date order_delivered_customer_date\n",
              "1 2017-10-10 15:43:17          2017-10-17 18:22:29          \n",
              "2 2017-10-10 15:43:17          2017-10-17 18:22:29          \n",
              "3 2017-10-10 15:43:17          2017-10-17 18:22:29          \n",
              "4 2017-10-10 15:43:17          2017-10-17 18:22:29          \n",
              "5 2017-10-10 15:43:17          2017-10-17 18:22:29          \n",
              "6 2017-10-10 15:43:17          2017-10-17 18:22:29          \n",
              "7 2017-10-10 15:43:17          2017-10-17 18:22:29          \n",
              "8 2017-10-10 15:43:17          2017-10-17 18:22:29          \n",
              "  order_estimated_delivery_date order_item_id product_id                      \n",
              "1 2017-10-23                    1             5769ef0a239114ac3a854af00df129e4\n",
              "2 2017-10-23                    2             5769ef0a239114ac3a854af00df129e4\n",
              "3 2017-10-23                    3             5769ef0a239114ac3a854af00df129e4\n",
              "4 2017-10-23                    4             5769ef0a239114ac3a854af00df129e4\n",
              "5 2017-10-23                    5             5769ef0a239114ac3a854af00df129e4\n",
              "6 2017-10-23                    6             5769ef0a239114ac3a854af00df129e4\n",
              "7 2017-10-23                    7             5769ef0a239114ac3a854af00df129e4\n",
              "8 2017-10-23                    8             5769ef0a239114ac3a854af00df129e4\n",
              "  ⋯ price freight_value product_category_name product_name_lenght\n",
              "1 ⋯ 1680  28.01         telefonia_fixa        39                 \n",
              "2 ⋯ 1680  28.01         telefonia_fixa        39                 \n",
              "3 ⋯ 1680  28.01         telefonia_fixa        39                 \n",
              "4 ⋯ 1680  28.01         telefonia_fixa        39                 \n",
              "5 ⋯ 1680  28.01         telefonia_fixa        39                 \n",
              "6 ⋯ 1680  28.01         telefonia_fixa        39                 \n",
              "7 ⋯ 1680  28.01         telefonia_fixa        39                 \n",
              "8 ⋯ 1680  28.01         telefonia_fixa        39                 \n",
              "  product_description_lenght product_photos_qty product_weight_g\n",
              "1 2493                       3                  750             \n",
              "2 2493                       3                  750             \n",
              "3 2493                       3                  750             \n",
              "4 2493                       3                  750             \n",
              "5 2493                       3                  750             \n",
              "6 2493                       3                  750             \n",
              "7 2493                       3                  750             \n",
              "8 2493                       3                  750             \n",
              "  product_length_cm product_height_cm product_width_cm\n",
              "1 16                16                16              \n",
              "2 16                16                16              \n",
              "3 16                16                16              \n",
              "4 16                16                16              \n",
              "5 16                16                16              \n",
              "6 16                16                16              \n",
              "7 16                16                16              \n",
              "8 16                16                16              "
            ]
          },
          "metadata": {}
        }
      ]
    },
    {
      "cell_type": "markdown",
      "source": [
        "Foram feitos 8 pedidos de um mesmo produto de telefonia fixa, talvez o preço do produto esteja errado nesse pedido, vou filtrar o produto para vê-lo em outros pedidos"
      ],
      "metadata": {
        "id": "RvWLlgx39uqR"
      }
    },
    {
      "cell_type": "code",
      "source": [
        "# ID do produto desejado\n",
        "produto_desejado <- \"5769ef0a239114ac3a854af00df129e4\"\n",
        "\n",
        "# Filtrar os pedidos que possuem o produto desejado\n",
        "pedidos_com_produto <- Olist_Orders %>%\n",
        "  filter(product_id == produto_desejado)\n",
        "\n",
        "\n",
        "head(pedidos_com_produto,10)"
      ],
      "metadata": {
        "colab": {
          "base_uri": "https://localhost:8080/",
          "height": 369
        },
        "id": "hMG2ed6rtmVj",
        "outputId": "c35544ae-f830-4e7a-b594-4431bb0d15aa"
      },
      "execution_count": null,
      "outputs": [
        {
          "output_type": "display_data",
          "data": {
            "text/html": [
              "<table class=\"dataframe\">\n",
              "<caption>A tibble: 8 × 22</caption>\n",
              "<thead>\n",
              "\t<tr><th scope=col>order_id</th><th scope=col>customer_id</th><th scope=col>order_status</th><th scope=col>order_purchase_timestamp</th><th scope=col>order_approved_at</th><th scope=col>order_delivered_carrier_date</th><th scope=col>order_delivered_customer_date</th><th scope=col>order_estimated_delivery_date</th><th scope=col>order_item_id</th><th scope=col>product_id</th><th scope=col>⋯</th><th scope=col>price</th><th scope=col>freight_value</th><th scope=col>product_category_name</th><th scope=col>product_name_lenght</th><th scope=col>product_description_lenght</th><th scope=col>product_photos_qty</th><th scope=col>product_weight_g</th><th scope=col>product_length_cm</th><th scope=col>product_height_cm</th><th scope=col>product_width_cm</th></tr>\n",
              "\t<tr><th scope=col>&lt;chr&gt;</th><th scope=col>&lt;chr&gt;</th><th scope=col>&lt;chr&gt;</th><th scope=col>&lt;dttm&gt;</th><th scope=col>&lt;dttm&gt;</th><th scope=col>&lt;dttm&gt;</th><th scope=col>&lt;dttm&gt;</th><th scope=col>&lt;dttm&gt;</th><th scope=col>&lt;dbl&gt;</th><th scope=col>&lt;chr&gt;</th><th scope=col>⋯</th><th scope=col>&lt;dbl&gt;</th><th scope=col>&lt;dbl&gt;</th><th scope=col>&lt;chr&gt;</th><th scope=col>&lt;dbl&gt;</th><th scope=col>&lt;dbl&gt;</th><th scope=col>&lt;dbl&gt;</th><th scope=col>&lt;dbl&gt;</th><th scope=col>&lt;dbl&gt;</th><th scope=col>&lt;dbl&gt;</th><th scope=col>&lt;dbl&gt;</th></tr>\n",
              "</thead>\n",
              "<tbody>\n",
              "\t<tr><td>03caa2c082116e1d31e67e9ae3700499</td><td>1617b1357756262bfa56ab541c47bc16</td><td>delivered</td><td>2017-09-29 15:24:52</td><td>2017-10-02 15:28:20</td><td>2017-10-10 15:43:17</td><td>2017-10-17 18:22:29</td><td>2017-10-23</td><td>1</td><td>5769ef0a239114ac3a854af00df129e4</td><td>⋯</td><td>1680</td><td>28.01</td><td>telefonia_fixa</td><td>39</td><td>2493</td><td>3</td><td>750</td><td>16</td><td>16</td><td>16</td></tr>\n",
              "\t<tr><td>03caa2c082116e1d31e67e9ae3700499</td><td>1617b1357756262bfa56ab541c47bc16</td><td>delivered</td><td>2017-09-29 15:24:52</td><td>2017-10-02 15:28:20</td><td>2017-10-10 15:43:17</td><td>2017-10-17 18:22:29</td><td>2017-10-23</td><td>2</td><td>5769ef0a239114ac3a854af00df129e4</td><td>⋯</td><td>1680</td><td>28.01</td><td>telefonia_fixa</td><td>39</td><td>2493</td><td>3</td><td>750</td><td>16</td><td>16</td><td>16</td></tr>\n",
              "\t<tr><td>03caa2c082116e1d31e67e9ae3700499</td><td>1617b1357756262bfa56ab541c47bc16</td><td>delivered</td><td>2017-09-29 15:24:52</td><td>2017-10-02 15:28:20</td><td>2017-10-10 15:43:17</td><td>2017-10-17 18:22:29</td><td>2017-10-23</td><td>3</td><td>5769ef0a239114ac3a854af00df129e4</td><td>⋯</td><td>1680</td><td>28.01</td><td>telefonia_fixa</td><td>39</td><td>2493</td><td>3</td><td>750</td><td>16</td><td>16</td><td>16</td></tr>\n",
              "\t<tr><td>03caa2c082116e1d31e67e9ae3700499</td><td>1617b1357756262bfa56ab541c47bc16</td><td>delivered</td><td>2017-09-29 15:24:52</td><td>2017-10-02 15:28:20</td><td>2017-10-10 15:43:17</td><td>2017-10-17 18:22:29</td><td>2017-10-23</td><td>4</td><td>5769ef0a239114ac3a854af00df129e4</td><td>⋯</td><td>1680</td><td>28.01</td><td>telefonia_fixa</td><td>39</td><td>2493</td><td>3</td><td>750</td><td>16</td><td>16</td><td>16</td></tr>\n",
              "\t<tr><td>03caa2c082116e1d31e67e9ae3700499</td><td>1617b1357756262bfa56ab541c47bc16</td><td>delivered</td><td>2017-09-29 15:24:52</td><td>2017-10-02 15:28:20</td><td>2017-10-10 15:43:17</td><td>2017-10-17 18:22:29</td><td>2017-10-23</td><td>5</td><td>5769ef0a239114ac3a854af00df129e4</td><td>⋯</td><td>1680</td><td>28.01</td><td>telefonia_fixa</td><td>39</td><td>2493</td><td>3</td><td>750</td><td>16</td><td>16</td><td>16</td></tr>\n",
              "\t<tr><td>03caa2c082116e1d31e67e9ae3700499</td><td>1617b1357756262bfa56ab541c47bc16</td><td>delivered</td><td>2017-09-29 15:24:52</td><td>2017-10-02 15:28:20</td><td>2017-10-10 15:43:17</td><td>2017-10-17 18:22:29</td><td>2017-10-23</td><td>6</td><td>5769ef0a239114ac3a854af00df129e4</td><td>⋯</td><td>1680</td><td>28.01</td><td>telefonia_fixa</td><td>39</td><td>2493</td><td>3</td><td>750</td><td>16</td><td>16</td><td>16</td></tr>\n",
              "\t<tr><td>03caa2c082116e1d31e67e9ae3700499</td><td>1617b1357756262bfa56ab541c47bc16</td><td>delivered</td><td>2017-09-29 15:24:52</td><td>2017-10-02 15:28:20</td><td>2017-10-10 15:43:17</td><td>2017-10-17 18:22:29</td><td>2017-10-23</td><td>7</td><td>5769ef0a239114ac3a854af00df129e4</td><td>⋯</td><td>1680</td><td>28.01</td><td>telefonia_fixa</td><td>39</td><td>2493</td><td>3</td><td>750</td><td>16</td><td>16</td><td>16</td></tr>\n",
              "\t<tr><td>03caa2c082116e1d31e67e9ae3700499</td><td>1617b1357756262bfa56ab541c47bc16</td><td>delivered</td><td>2017-09-29 15:24:52</td><td>2017-10-02 15:28:20</td><td>2017-10-10 15:43:17</td><td>2017-10-17 18:22:29</td><td>2017-10-23</td><td>8</td><td>5769ef0a239114ac3a854af00df129e4</td><td>⋯</td><td>1680</td><td>28.01</td><td>telefonia_fixa</td><td>39</td><td>2493</td><td>3</td><td>750</td><td>16</td><td>16</td><td>16</td></tr>\n",
              "</tbody>\n",
              "</table>\n"
            ],
            "text/markdown": "\nA tibble: 8 × 22\n\n| order_id &lt;chr&gt; | customer_id &lt;chr&gt; | order_status &lt;chr&gt; | order_purchase_timestamp &lt;dttm&gt; | order_approved_at &lt;dttm&gt; | order_delivered_carrier_date &lt;dttm&gt; | order_delivered_customer_date &lt;dttm&gt; | order_estimated_delivery_date &lt;dttm&gt; | order_item_id &lt;dbl&gt; | product_id &lt;chr&gt; | ⋯ ⋯ | price &lt;dbl&gt; | freight_value &lt;dbl&gt; | product_category_name &lt;chr&gt; | product_name_lenght &lt;dbl&gt; | product_description_lenght &lt;dbl&gt; | product_photos_qty &lt;dbl&gt; | product_weight_g &lt;dbl&gt; | product_length_cm &lt;dbl&gt; | product_height_cm &lt;dbl&gt; | product_width_cm &lt;dbl&gt; |\n|---|---|---|---|---|---|---|---|---|---|---|---|---|---|---|---|---|---|---|---|---|\n| 03caa2c082116e1d31e67e9ae3700499 | 1617b1357756262bfa56ab541c47bc16 | delivered | 2017-09-29 15:24:52 | 2017-10-02 15:28:20 | 2017-10-10 15:43:17 | 2017-10-17 18:22:29 | 2017-10-23 | 1 | 5769ef0a239114ac3a854af00df129e4 | ⋯ | 1680 | 28.01 | telefonia_fixa | 39 | 2493 | 3 | 750 | 16 | 16 | 16 |\n| 03caa2c082116e1d31e67e9ae3700499 | 1617b1357756262bfa56ab541c47bc16 | delivered | 2017-09-29 15:24:52 | 2017-10-02 15:28:20 | 2017-10-10 15:43:17 | 2017-10-17 18:22:29 | 2017-10-23 | 2 | 5769ef0a239114ac3a854af00df129e4 | ⋯ | 1680 | 28.01 | telefonia_fixa | 39 | 2493 | 3 | 750 | 16 | 16 | 16 |\n| 03caa2c082116e1d31e67e9ae3700499 | 1617b1357756262bfa56ab541c47bc16 | delivered | 2017-09-29 15:24:52 | 2017-10-02 15:28:20 | 2017-10-10 15:43:17 | 2017-10-17 18:22:29 | 2017-10-23 | 3 | 5769ef0a239114ac3a854af00df129e4 | ⋯ | 1680 | 28.01 | telefonia_fixa | 39 | 2493 | 3 | 750 | 16 | 16 | 16 |\n| 03caa2c082116e1d31e67e9ae3700499 | 1617b1357756262bfa56ab541c47bc16 | delivered | 2017-09-29 15:24:52 | 2017-10-02 15:28:20 | 2017-10-10 15:43:17 | 2017-10-17 18:22:29 | 2017-10-23 | 4 | 5769ef0a239114ac3a854af00df129e4 | ⋯ | 1680 | 28.01 | telefonia_fixa | 39 | 2493 | 3 | 750 | 16 | 16 | 16 |\n| 03caa2c082116e1d31e67e9ae3700499 | 1617b1357756262bfa56ab541c47bc16 | delivered | 2017-09-29 15:24:52 | 2017-10-02 15:28:20 | 2017-10-10 15:43:17 | 2017-10-17 18:22:29 | 2017-10-23 | 5 | 5769ef0a239114ac3a854af00df129e4 | ⋯ | 1680 | 28.01 | telefonia_fixa | 39 | 2493 | 3 | 750 | 16 | 16 | 16 |\n| 03caa2c082116e1d31e67e9ae3700499 | 1617b1357756262bfa56ab541c47bc16 | delivered | 2017-09-29 15:24:52 | 2017-10-02 15:28:20 | 2017-10-10 15:43:17 | 2017-10-17 18:22:29 | 2017-10-23 | 6 | 5769ef0a239114ac3a854af00df129e4 | ⋯ | 1680 | 28.01 | telefonia_fixa | 39 | 2493 | 3 | 750 | 16 | 16 | 16 |\n| 03caa2c082116e1d31e67e9ae3700499 | 1617b1357756262bfa56ab541c47bc16 | delivered | 2017-09-29 15:24:52 | 2017-10-02 15:28:20 | 2017-10-10 15:43:17 | 2017-10-17 18:22:29 | 2017-10-23 | 7 | 5769ef0a239114ac3a854af00df129e4 | ⋯ | 1680 | 28.01 | telefonia_fixa | 39 | 2493 | 3 | 750 | 16 | 16 | 16 |\n| 03caa2c082116e1d31e67e9ae3700499 | 1617b1357756262bfa56ab541c47bc16 | delivered | 2017-09-29 15:24:52 | 2017-10-02 15:28:20 | 2017-10-10 15:43:17 | 2017-10-17 18:22:29 | 2017-10-23 | 8 | 5769ef0a239114ac3a854af00df129e4 | ⋯ | 1680 | 28.01 | telefonia_fixa | 39 | 2493 | 3 | 750 | 16 | 16 | 16 |\n\n",
            "text/latex": "A tibble: 8 × 22\n\\begin{tabular}{lllllllllllllllllllll}\n order\\_id & customer\\_id & order\\_status & order\\_purchase\\_timestamp & order\\_approved\\_at & order\\_delivered\\_carrier\\_date & order\\_delivered\\_customer\\_date & order\\_estimated\\_delivery\\_date & order\\_item\\_id & product\\_id & ⋯ & price & freight\\_value & product\\_category\\_name & product\\_name\\_lenght & product\\_description\\_lenght & product\\_photos\\_qty & product\\_weight\\_g & product\\_length\\_cm & product\\_height\\_cm & product\\_width\\_cm\\\\\n <chr> & <chr> & <chr> & <dttm> & <dttm> & <dttm> & <dttm> & <dttm> & <dbl> & <chr> & ⋯ & <dbl> & <dbl> & <chr> & <dbl> & <dbl> & <dbl> & <dbl> & <dbl> & <dbl> & <dbl>\\\\\n\\hline\n\t 03caa2c082116e1d31e67e9ae3700499 & 1617b1357756262bfa56ab541c47bc16 & delivered & 2017-09-29 15:24:52 & 2017-10-02 15:28:20 & 2017-10-10 15:43:17 & 2017-10-17 18:22:29 & 2017-10-23 & 1 & 5769ef0a239114ac3a854af00df129e4 & ⋯ & 1680 & 28.01 & telefonia\\_fixa & 39 & 2493 & 3 & 750 & 16 & 16 & 16\\\\\n\t 03caa2c082116e1d31e67e9ae3700499 & 1617b1357756262bfa56ab541c47bc16 & delivered & 2017-09-29 15:24:52 & 2017-10-02 15:28:20 & 2017-10-10 15:43:17 & 2017-10-17 18:22:29 & 2017-10-23 & 2 & 5769ef0a239114ac3a854af00df129e4 & ⋯ & 1680 & 28.01 & telefonia\\_fixa & 39 & 2493 & 3 & 750 & 16 & 16 & 16\\\\\n\t 03caa2c082116e1d31e67e9ae3700499 & 1617b1357756262bfa56ab541c47bc16 & delivered & 2017-09-29 15:24:52 & 2017-10-02 15:28:20 & 2017-10-10 15:43:17 & 2017-10-17 18:22:29 & 2017-10-23 & 3 & 5769ef0a239114ac3a854af00df129e4 & ⋯ & 1680 & 28.01 & telefonia\\_fixa & 39 & 2493 & 3 & 750 & 16 & 16 & 16\\\\\n\t 03caa2c082116e1d31e67e9ae3700499 & 1617b1357756262bfa56ab541c47bc16 & delivered & 2017-09-29 15:24:52 & 2017-10-02 15:28:20 & 2017-10-10 15:43:17 & 2017-10-17 18:22:29 & 2017-10-23 & 4 & 5769ef0a239114ac3a854af00df129e4 & ⋯ & 1680 & 28.01 & telefonia\\_fixa & 39 & 2493 & 3 & 750 & 16 & 16 & 16\\\\\n\t 03caa2c082116e1d31e67e9ae3700499 & 1617b1357756262bfa56ab541c47bc16 & delivered & 2017-09-29 15:24:52 & 2017-10-02 15:28:20 & 2017-10-10 15:43:17 & 2017-10-17 18:22:29 & 2017-10-23 & 5 & 5769ef0a239114ac3a854af00df129e4 & ⋯ & 1680 & 28.01 & telefonia\\_fixa & 39 & 2493 & 3 & 750 & 16 & 16 & 16\\\\\n\t 03caa2c082116e1d31e67e9ae3700499 & 1617b1357756262bfa56ab541c47bc16 & delivered & 2017-09-29 15:24:52 & 2017-10-02 15:28:20 & 2017-10-10 15:43:17 & 2017-10-17 18:22:29 & 2017-10-23 & 6 & 5769ef0a239114ac3a854af00df129e4 & ⋯ & 1680 & 28.01 & telefonia\\_fixa & 39 & 2493 & 3 & 750 & 16 & 16 & 16\\\\\n\t 03caa2c082116e1d31e67e9ae3700499 & 1617b1357756262bfa56ab541c47bc16 & delivered & 2017-09-29 15:24:52 & 2017-10-02 15:28:20 & 2017-10-10 15:43:17 & 2017-10-17 18:22:29 & 2017-10-23 & 7 & 5769ef0a239114ac3a854af00df129e4 & ⋯ & 1680 & 28.01 & telefonia\\_fixa & 39 & 2493 & 3 & 750 & 16 & 16 & 16\\\\\n\t 03caa2c082116e1d31e67e9ae3700499 & 1617b1357756262bfa56ab541c47bc16 & delivered & 2017-09-29 15:24:52 & 2017-10-02 15:28:20 & 2017-10-10 15:43:17 & 2017-10-17 18:22:29 & 2017-10-23 & 8 & 5769ef0a239114ac3a854af00df129e4 & ⋯ & 1680 & 28.01 & telefonia\\_fixa & 39 & 2493 & 3 & 750 & 16 & 16 & 16\\\\\n\\end{tabular}\n",
            "text/plain": [
              "  order_id                         customer_id                     \n",
              "1 03caa2c082116e1d31e67e9ae3700499 1617b1357756262bfa56ab541c47bc16\n",
              "2 03caa2c082116e1d31e67e9ae3700499 1617b1357756262bfa56ab541c47bc16\n",
              "3 03caa2c082116e1d31e67e9ae3700499 1617b1357756262bfa56ab541c47bc16\n",
              "4 03caa2c082116e1d31e67e9ae3700499 1617b1357756262bfa56ab541c47bc16\n",
              "5 03caa2c082116e1d31e67e9ae3700499 1617b1357756262bfa56ab541c47bc16\n",
              "6 03caa2c082116e1d31e67e9ae3700499 1617b1357756262bfa56ab541c47bc16\n",
              "7 03caa2c082116e1d31e67e9ae3700499 1617b1357756262bfa56ab541c47bc16\n",
              "8 03caa2c082116e1d31e67e9ae3700499 1617b1357756262bfa56ab541c47bc16\n",
              "  order_status order_purchase_timestamp order_approved_at  \n",
              "1 delivered    2017-09-29 15:24:52      2017-10-02 15:28:20\n",
              "2 delivered    2017-09-29 15:24:52      2017-10-02 15:28:20\n",
              "3 delivered    2017-09-29 15:24:52      2017-10-02 15:28:20\n",
              "4 delivered    2017-09-29 15:24:52      2017-10-02 15:28:20\n",
              "5 delivered    2017-09-29 15:24:52      2017-10-02 15:28:20\n",
              "6 delivered    2017-09-29 15:24:52      2017-10-02 15:28:20\n",
              "7 delivered    2017-09-29 15:24:52      2017-10-02 15:28:20\n",
              "8 delivered    2017-09-29 15:24:52      2017-10-02 15:28:20\n",
              "  order_delivered_carrier_date order_delivered_customer_date\n",
              "1 2017-10-10 15:43:17          2017-10-17 18:22:29          \n",
              "2 2017-10-10 15:43:17          2017-10-17 18:22:29          \n",
              "3 2017-10-10 15:43:17          2017-10-17 18:22:29          \n",
              "4 2017-10-10 15:43:17          2017-10-17 18:22:29          \n",
              "5 2017-10-10 15:43:17          2017-10-17 18:22:29          \n",
              "6 2017-10-10 15:43:17          2017-10-17 18:22:29          \n",
              "7 2017-10-10 15:43:17          2017-10-17 18:22:29          \n",
              "8 2017-10-10 15:43:17          2017-10-17 18:22:29          \n",
              "  order_estimated_delivery_date order_item_id product_id                      \n",
              "1 2017-10-23                    1             5769ef0a239114ac3a854af00df129e4\n",
              "2 2017-10-23                    2             5769ef0a239114ac3a854af00df129e4\n",
              "3 2017-10-23                    3             5769ef0a239114ac3a854af00df129e4\n",
              "4 2017-10-23                    4             5769ef0a239114ac3a854af00df129e4\n",
              "5 2017-10-23                    5             5769ef0a239114ac3a854af00df129e4\n",
              "6 2017-10-23                    6             5769ef0a239114ac3a854af00df129e4\n",
              "7 2017-10-23                    7             5769ef0a239114ac3a854af00df129e4\n",
              "8 2017-10-23                    8             5769ef0a239114ac3a854af00df129e4\n",
              "  ⋯ price freight_value product_category_name product_name_lenght\n",
              "1 ⋯ 1680  28.01         telefonia_fixa        39                 \n",
              "2 ⋯ 1680  28.01         telefonia_fixa        39                 \n",
              "3 ⋯ 1680  28.01         telefonia_fixa        39                 \n",
              "4 ⋯ 1680  28.01         telefonia_fixa        39                 \n",
              "5 ⋯ 1680  28.01         telefonia_fixa        39                 \n",
              "6 ⋯ 1680  28.01         telefonia_fixa        39                 \n",
              "7 ⋯ 1680  28.01         telefonia_fixa        39                 \n",
              "8 ⋯ 1680  28.01         telefonia_fixa        39                 \n",
              "  product_description_lenght product_photos_qty product_weight_g\n",
              "1 2493                       3                  750             \n",
              "2 2493                       3                  750             \n",
              "3 2493                       3                  750             \n",
              "4 2493                       3                  750             \n",
              "5 2493                       3                  750             \n",
              "6 2493                       3                  750             \n",
              "7 2493                       3                  750             \n",
              "8 2493                       3                  750             \n",
              "  product_length_cm product_height_cm product_width_cm\n",
              "1 16                16                16              \n",
              "2 16                16                16              \n",
              "3 16                16                16              \n",
              "4 16                16                16              \n",
              "5 16                16                16              \n",
              "6 16                16                16              \n",
              "7 16                16                16              \n",
              "8 16                16                16              "
            ]
          },
          "metadata": {}
        }
      ]
    },
    {
      "cell_type": "markdown",
      "source": [
        "Infelizmente o produto só foi vendido nesse pedido, vou verificar se outros produtos nessa categoria de telefonia fixa possuem um preço equivalente a esse"
      ],
      "metadata": {
        "id": "h_OeXsym-oKU"
      }
    },
    {
      "cell_type": "code",
      "source": [
        "# Criando um dataframe apenas com os dados de 'telefonia_fixa'\n",
        "Ctg_telefonia_fixa <- Olist_Orders %>%\n",
        "  filter(product_category_name == 'telefonia_fixa') %>%\n",
        "  arrange(desc(price))\n",
        "\n",
        "\n",
        "head(Ctg_telefonia_fixa)"
      ],
      "metadata": {
        "colab": {
          "base_uri": "https://localhost:8080/",
          "height": 306
        },
        "id": "P551u4N85Ssr",
        "outputId": "2a17cdcc-8e79-474c-baa8-4d5cc1fc160a"
      },
      "execution_count": null,
      "outputs": [
        {
          "output_type": "display_data",
          "data": {
            "text/html": [
              "<table class=\"dataframe\">\n",
              "<caption>A tibble: 6 × 22</caption>\n",
              "<thead>\n",
              "\t<tr><th scope=col>order_id</th><th scope=col>customer_id</th><th scope=col>order_status</th><th scope=col>order_purchase_timestamp</th><th scope=col>order_approved_at</th><th scope=col>order_delivered_carrier_date</th><th scope=col>order_delivered_customer_date</th><th scope=col>order_estimated_delivery_date</th><th scope=col>order_item_id</th><th scope=col>product_id</th><th scope=col>⋯</th><th scope=col>price</th><th scope=col>freight_value</th><th scope=col>product_category_name</th><th scope=col>product_name_lenght</th><th scope=col>product_description_lenght</th><th scope=col>product_photos_qty</th><th scope=col>product_weight_g</th><th scope=col>product_length_cm</th><th scope=col>product_height_cm</th><th scope=col>product_width_cm</th></tr>\n",
              "\t<tr><th scope=col>&lt;chr&gt;</th><th scope=col>&lt;chr&gt;</th><th scope=col>&lt;chr&gt;</th><th scope=col>&lt;dttm&gt;</th><th scope=col>&lt;dttm&gt;</th><th scope=col>&lt;dttm&gt;</th><th scope=col>&lt;dttm&gt;</th><th scope=col>&lt;dttm&gt;</th><th scope=col>&lt;dbl&gt;</th><th scope=col>&lt;chr&gt;</th><th scope=col>⋯</th><th scope=col>&lt;dbl&gt;</th><th scope=col>&lt;dbl&gt;</th><th scope=col>&lt;chr&gt;</th><th scope=col>&lt;dbl&gt;</th><th scope=col>&lt;dbl&gt;</th><th scope=col>&lt;dbl&gt;</th><th scope=col>&lt;dbl&gt;</th><th scope=col>&lt;dbl&gt;</th><th scope=col>&lt;dbl&gt;</th><th scope=col>&lt;dbl&gt;</th></tr>\n",
              "</thead>\n",
              "<tbody>\n",
              "\t<tr><td>736e1922ae60d0d6a89247b851902527</td><td>ec5b2ba62e574342386871631fafd3fc</td><td>delivered</td><td>2018-07-15 14:49:44</td><td>2018-07-17 04:31:36</td><td>2018-07-20 13:09:00</td><td>2018-07-26 22:03:06</td><td>2018-08-02</td><td>1</td><td>19936fa4f614ee0590d3b77ac83fd648</td><td>⋯</td><td>1790</td><td>28.72</td><td>telefonia_fixa</td><td>34</td><td>1016</td><td>2</td><td>1100</td><td>20</td><td>16</td><td>20</td></tr>\n",
              "\t<tr><td>736e1922ae60d0d6a89247b851902527</td><td>ec5b2ba62e574342386871631fafd3fc</td><td>delivered</td><td>2018-07-15 14:49:44</td><td>2018-07-17 04:31:36</td><td>2018-07-20 13:09:00</td><td>2018-07-26 22:03:06</td><td>2018-08-02</td><td>2</td><td>19936fa4f614ee0590d3b77ac83fd648</td><td>⋯</td><td>1790</td><td>28.72</td><td>telefonia_fixa</td><td>34</td><td>1016</td><td>2</td><td>1100</td><td>20</td><td>16</td><td>20</td></tr>\n",
              "\t<tr><td>736e1922ae60d0d6a89247b851902527</td><td>ec5b2ba62e574342386871631fafd3fc</td><td>delivered</td><td>2018-07-15 14:49:44</td><td>2018-07-17 04:31:36</td><td>2018-07-20 13:09:00</td><td>2018-07-26 22:03:06</td><td>2018-08-02</td><td>3</td><td>19936fa4f614ee0590d3b77ac83fd648</td><td>⋯</td><td>1790</td><td>28.72</td><td>telefonia_fixa</td><td>34</td><td>1016</td><td>2</td><td>1100</td><td>20</td><td>16</td><td>20</td></tr>\n",
              "\t<tr><td>736e1922ae60d0d6a89247b851902527</td><td>ec5b2ba62e574342386871631fafd3fc</td><td>delivered</td><td>2018-07-15 14:49:44</td><td>2018-07-17 04:31:36</td><td>2018-07-20 13:09:00</td><td>2018-07-26 22:03:06</td><td>2018-08-02</td><td>4</td><td>19936fa4f614ee0590d3b77ac83fd648</td><td>⋯</td><td>1790</td><td>28.72</td><td>telefonia_fixa</td><td>34</td><td>1016</td><td>2</td><td>1100</td><td>20</td><td>16</td><td>20</td></tr>\n",
              "\t<tr><td>03caa2c082116e1d31e67e9ae3700499</td><td>1617b1357756262bfa56ab541c47bc16</td><td>delivered</td><td>2017-09-29 15:24:52</td><td>2017-10-02 15:28:20</td><td>2017-10-10 15:43:17</td><td>2017-10-17 18:22:29</td><td>2017-10-23</td><td>1</td><td>5769ef0a239114ac3a854af00df129e4</td><td>⋯</td><td>1680</td><td>28.01</td><td>telefonia_fixa</td><td>39</td><td>2493</td><td>3</td><td> 750</td><td>16</td><td>16</td><td>16</td></tr>\n",
              "\t<tr><td>03caa2c082116e1d31e67e9ae3700499</td><td>1617b1357756262bfa56ab541c47bc16</td><td>delivered</td><td>2017-09-29 15:24:52</td><td>2017-10-02 15:28:20</td><td>2017-10-10 15:43:17</td><td>2017-10-17 18:22:29</td><td>2017-10-23</td><td>2</td><td>5769ef0a239114ac3a854af00df129e4</td><td>⋯</td><td>1680</td><td>28.01</td><td>telefonia_fixa</td><td>39</td><td>2493</td><td>3</td><td> 750</td><td>16</td><td>16</td><td>16</td></tr>\n",
              "</tbody>\n",
              "</table>\n"
            ],
            "text/markdown": "\nA tibble: 6 × 22\n\n| order_id &lt;chr&gt; | customer_id &lt;chr&gt; | order_status &lt;chr&gt; | order_purchase_timestamp &lt;dttm&gt; | order_approved_at &lt;dttm&gt; | order_delivered_carrier_date &lt;dttm&gt; | order_delivered_customer_date &lt;dttm&gt; | order_estimated_delivery_date &lt;dttm&gt; | order_item_id &lt;dbl&gt; | product_id &lt;chr&gt; | ⋯ ⋯ | price &lt;dbl&gt; | freight_value &lt;dbl&gt; | product_category_name &lt;chr&gt; | product_name_lenght &lt;dbl&gt; | product_description_lenght &lt;dbl&gt; | product_photos_qty &lt;dbl&gt; | product_weight_g &lt;dbl&gt; | product_length_cm &lt;dbl&gt; | product_height_cm &lt;dbl&gt; | product_width_cm &lt;dbl&gt; |\n|---|---|---|---|---|---|---|---|---|---|---|---|---|---|---|---|---|---|---|---|---|\n| 736e1922ae60d0d6a89247b851902527 | ec5b2ba62e574342386871631fafd3fc | delivered | 2018-07-15 14:49:44 | 2018-07-17 04:31:36 | 2018-07-20 13:09:00 | 2018-07-26 22:03:06 | 2018-08-02 | 1 | 19936fa4f614ee0590d3b77ac83fd648 | ⋯ | 1790 | 28.72 | telefonia_fixa | 34 | 1016 | 2 | 1100 | 20 | 16 | 20 |\n| 736e1922ae60d0d6a89247b851902527 | ec5b2ba62e574342386871631fafd3fc | delivered | 2018-07-15 14:49:44 | 2018-07-17 04:31:36 | 2018-07-20 13:09:00 | 2018-07-26 22:03:06 | 2018-08-02 | 2 | 19936fa4f614ee0590d3b77ac83fd648 | ⋯ | 1790 | 28.72 | telefonia_fixa | 34 | 1016 | 2 | 1100 | 20 | 16 | 20 |\n| 736e1922ae60d0d6a89247b851902527 | ec5b2ba62e574342386871631fafd3fc | delivered | 2018-07-15 14:49:44 | 2018-07-17 04:31:36 | 2018-07-20 13:09:00 | 2018-07-26 22:03:06 | 2018-08-02 | 3 | 19936fa4f614ee0590d3b77ac83fd648 | ⋯ | 1790 | 28.72 | telefonia_fixa | 34 | 1016 | 2 | 1100 | 20 | 16 | 20 |\n| 736e1922ae60d0d6a89247b851902527 | ec5b2ba62e574342386871631fafd3fc | delivered | 2018-07-15 14:49:44 | 2018-07-17 04:31:36 | 2018-07-20 13:09:00 | 2018-07-26 22:03:06 | 2018-08-02 | 4 | 19936fa4f614ee0590d3b77ac83fd648 | ⋯ | 1790 | 28.72 | telefonia_fixa | 34 | 1016 | 2 | 1100 | 20 | 16 | 20 |\n| 03caa2c082116e1d31e67e9ae3700499 | 1617b1357756262bfa56ab541c47bc16 | delivered | 2017-09-29 15:24:52 | 2017-10-02 15:28:20 | 2017-10-10 15:43:17 | 2017-10-17 18:22:29 | 2017-10-23 | 1 | 5769ef0a239114ac3a854af00df129e4 | ⋯ | 1680 | 28.01 | telefonia_fixa | 39 | 2493 | 3 |  750 | 16 | 16 | 16 |\n| 03caa2c082116e1d31e67e9ae3700499 | 1617b1357756262bfa56ab541c47bc16 | delivered | 2017-09-29 15:24:52 | 2017-10-02 15:28:20 | 2017-10-10 15:43:17 | 2017-10-17 18:22:29 | 2017-10-23 | 2 | 5769ef0a239114ac3a854af00df129e4 | ⋯ | 1680 | 28.01 | telefonia_fixa | 39 | 2493 | 3 |  750 | 16 | 16 | 16 |\n\n",
            "text/latex": "A tibble: 6 × 22\n\\begin{tabular}{lllllllllllllllllllll}\n order\\_id & customer\\_id & order\\_status & order\\_purchase\\_timestamp & order\\_approved\\_at & order\\_delivered\\_carrier\\_date & order\\_delivered\\_customer\\_date & order\\_estimated\\_delivery\\_date & order\\_item\\_id & product\\_id & ⋯ & price & freight\\_value & product\\_category\\_name & product\\_name\\_lenght & product\\_description\\_lenght & product\\_photos\\_qty & product\\_weight\\_g & product\\_length\\_cm & product\\_height\\_cm & product\\_width\\_cm\\\\\n <chr> & <chr> & <chr> & <dttm> & <dttm> & <dttm> & <dttm> & <dttm> & <dbl> & <chr> & ⋯ & <dbl> & <dbl> & <chr> & <dbl> & <dbl> & <dbl> & <dbl> & <dbl> & <dbl> & <dbl>\\\\\n\\hline\n\t 736e1922ae60d0d6a89247b851902527 & ec5b2ba62e574342386871631fafd3fc & delivered & 2018-07-15 14:49:44 & 2018-07-17 04:31:36 & 2018-07-20 13:09:00 & 2018-07-26 22:03:06 & 2018-08-02 & 1 & 19936fa4f614ee0590d3b77ac83fd648 & ⋯ & 1790 & 28.72 & telefonia\\_fixa & 34 & 1016 & 2 & 1100 & 20 & 16 & 20\\\\\n\t 736e1922ae60d0d6a89247b851902527 & ec5b2ba62e574342386871631fafd3fc & delivered & 2018-07-15 14:49:44 & 2018-07-17 04:31:36 & 2018-07-20 13:09:00 & 2018-07-26 22:03:06 & 2018-08-02 & 2 & 19936fa4f614ee0590d3b77ac83fd648 & ⋯ & 1790 & 28.72 & telefonia\\_fixa & 34 & 1016 & 2 & 1100 & 20 & 16 & 20\\\\\n\t 736e1922ae60d0d6a89247b851902527 & ec5b2ba62e574342386871631fafd3fc & delivered & 2018-07-15 14:49:44 & 2018-07-17 04:31:36 & 2018-07-20 13:09:00 & 2018-07-26 22:03:06 & 2018-08-02 & 3 & 19936fa4f614ee0590d3b77ac83fd648 & ⋯ & 1790 & 28.72 & telefonia\\_fixa & 34 & 1016 & 2 & 1100 & 20 & 16 & 20\\\\\n\t 736e1922ae60d0d6a89247b851902527 & ec5b2ba62e574342386871631fafd3fc & delivered & 2018-07-15 14:49:44 & 2018-07-17 04:31:36 & 2018-07-20 13:09:00 & 2018-07-26 22:03:06 & 2018-08-02 & 4 & 19936fa4f614ee0590d3b77ac83fd648 & ⋯ & 1790 & 28.72 & telefonia\\_fixa & 34 & 1016 & 2 & 1100 & 20 & 16 & 20\\\\\n\t 03caa2c082116e1d31e67e9ae3700499 & 1617b1357756262bfa56ab541c47bc16 & delivered & 2017-09-29 15:24:52 & 2017-10-02 15:28:20 & 2017-10-10 15:43:17 & 2017-10-17 18:22:29 & 2017-10-23 & 1 & 5769ef0a239114ac3a854af00df129e4 & ⋯ & 1680 & 28.01 & telefonia\\_fixa & 39 & 2493 & 3 &  750 & 16 & 16 & 16\\\\\n\t 03caa2c082116e1d31e67e9ae3700499 & 1617b1357756262bfa56ab541c47bc16 & delivered & 2017-09-29 15:24:52 & 2017-10-02 15:28:20 & 2017-10-10 15:43:17 & 2017-10-17 18:22:29 & 2017-10-23 & 2 & 5769ef0a239114ac3a854af00df129e4 & ⋯ & 1680 & 28.01 & telefonia\\_fixa & 39 & 2493 & 3 &  750 & 16 & 16 & 16\\\\\n\\end{tabular}\n",
            "text/plain": [
              "  order_id                         customer_id                     \n",
              "1 736e1922ae60d0d6a89247b851902527 ec5b2ba62e574342386871631fafd3fc\n",
              "2 736e1922ae60d0d6a89247b851902527 ec5b2ba62e574342386871631fafd3fc\n",
              "3 736e1922ae60d0d6a89247b851902527 ec5b2ba62e574342386871631fafd3fc\n",
              "4 736e1922ae60d0d6a89247b851902527 ec5b2ba62e574342386871631fafd3fc\n",
              "5 03caa2c082116e1d31e67e9ae3700499 1617b1357756262bfa56ab541c47bc16\n",
              "6 03caa2c082116e1d31e67e9ae3700499 1617b1357756262bfa56ab541c47bc16\n",
              "  order_status order_purchase_timestamp order_approved_at  \n",
              "1 delivered    2018-07-15 14:49:44      2018-07-17 04:31:36\n",
              "2 delivered    2018-07-15 14:49:44      2018-07-17 04:31:36\n",
              "3 delivered    2018-07-15 14:49:44      2018-07-17 04:31:36\n",
              "4 delivered    2018-07-15 14:49:44      2018-07-17 04:31:36\n",
              "5 delivered    2017-09-29 15:24:52      2017-10-02 15:28:20\n",
              "6 delivered    2017-09-29 15:24:52      2017-10-02 15:28:20\n",
              "  order_delivered_carrier_date order_delivered_customer_date\n",
              "1 2018-07-20 13:09:00          2018-07-26 22:03:06          \n",
              "2 2018-07-20 13:09:00          2018-07-26 22:03:06          \n",
              "3 2018-07-20 13:09:00          2018-07-26 22:03:06          \n",
              "4 2018-07-20 13:09:00          2018-07-26 22:03:06          \n",
              "5 2017-10-10 15:43:17          2017-10-17 18:22:29          \n",
              "6 2017-10-10 15:43:17          2017-10-17 18:22:29          \n",
              "  order_estimated_delivery_date order_item_id product_id                      \n",
              "1 2018-08-02                    1             19936fa4f614ee0590d3b77ac83fd648\n",
              "2 2018-08-02                    2             19936fa4f614ee0590d3b77ac83fd648\n",
              "3 2018-08-02                    3             19936fa4f614ee0590d3b77ac83fd648\n",
              "4 2018-08-02                    4             19936fa4f614ee0590d3b77ac83fd648\n",
              "5 2017-10-23                    1             5769ef0a239114ac3a854af00df129e4\n",
              "6 2017-10-23                    2             5769ef0a239114ac3a854af00df129e4\n",
              "  ⋯ price freight_value product_category_name product_name_lenght\n",
              "1 ⋯ 1790  28.72         telefonia_fixa        34                 \n",
              "2 ⋯ 1790  28.72         telefonia_fixa        34                 \n",
              "3 ⋯ 1790  28.72         telefonia_fixa        34                 \n",
              "4 ⋯ 1790  28.72         telefonia_fixa        34                 \n",
              "5 ⋯ 1680  28.01         telefonia_fixa        39                 \n",
              "6 ⋯ 1680  28.01         telefonia_fixa        39                 \n",
              "  product_description_lenght product_photos_qty product_weight_g\n",
              "1 1016                       2                  1100            \n",
              "2 1016                       2                  1100            \n",
              "3 1016                       2                  1100            \n",
              "4 1016                       2                  1100            \n",
              "5 2493                       3                   750            \n",
              "6 2493                       3                   750            \n",
              "  product_length_cm product_height_cm product_width_cm\n",
              "1 20                16                20              \n",
              "2 20                16                20              \n",
              "3 20                16                20              \n",
              "4 20                16                20              \n",
              "5 16                16                16              \n",
              "6 16                16                16              "
            ]
          },
          "metadata": {}
        }
      ]
    },
    {
      "cell_type": "markdown",
      "source": [
        "Da para perceber que não foi um erro de digitação a outros produtos nessa categoria com valores equivalentes"
      ],
      "metadata": {
        "id": "djazRh2vBkk9"
      }
    },
    {
      "cell_type": "code",
      "source": [
        "mean(Ctg_telefonia_fixa$price)"
      ],
      "metadata": {
        "colab": {
          "base_uri": "https://localhost:8080/",
          "height": 34
        },
        "id": "KUbes3TQ_GPr",
        "outputId": "1d8f63ce-f657-4971-de1c-862afdfcf649"
      },
      "execution_count": null,
      "outputs": [
        {
          "output_type": "display_data",
          "data": {
            "text/html": [
              "225.693181818182"
            ],
            "text/markdown": "225.693181818182",
            "text/latex": "225.693181818182",
            "text/plain": [
              "[1] 225.6932"
            ]
          },
          "metadata": {}
        }
      ]
    },
    {
      "cell_type": "code",
      "source": [
        "median(Ctg_telefonia_fixa$price)"
      ],
      "metadata": {
        "colab": {
          "base_uri": "https://localhost:8080/",
          "height": 34
        },
        "id": "gLx8CSWV_f9t",
        "outputId": "4e4fefec-4416-4b0b-ece1-cd64dba5e8df"
      },
      "execution_count": null,
      "outputs": [
        {
          "output_type": "display_data",
          "data": {
            "text/html": [
              "64.485"
            ],
            "text/markdown": "64.485",
            "text/latex": "64.485",
            "text/plain": [
              "[1] 64.485"
            ]
          },
          "metadata": {}
        }
      ]
    },
    {
      "cell_type": "code",
      "source": [
        "max(Ctg_telefonia_fixa$price)"
      ],
      "metadata": {
        "colab": {
          "base_uri": "https://localhost:8080/",
          "height": 34
        },
        "id": "rrPjGblMhhTw",
        "outputId": "904ed321-db70-448d-d0b1-70a4a3e6cb23"
      },
      "execution_count": null,
      "outputs": [
        {
          "output_type": "display_data",
          "data": {
            "text/html": [
              "1790"
            ],
            "text/markdown": "1790",
            "text/latex": "1790",
            "text/plain": [
              "[1] 1790"
            ]
          },
          "metadata": {}
        }
      ]
    },
    {
      "cell_type": "markdown",
      "source": [
        "Bem, não foi um erro de digitação, o motivo do outlier foi apenas 8 compras de um produto de telefonia fixa de alto valor(1680), digo de alto valor devido a média e mediana nesses produtos tem valores abaixo de 300 reais"
      ],
      "metadata": {
        "id": "PRb03uenAEK6"
      }
    },
    {
      "cell_type": "markdown",
      "source": [
        "### 4.4 - Valores Nulos\n",
        "\n",
        "#### voltemos ao nosso dataset padrão"
      ],
      "metadata": {
        "id": "oOubTTQHs2ob"
      }
    },
    {
      "cell_type": "code",
      "source": [
        "### Quantidade de valores nulos\n",
        "colSums(is.na(Olist_Customers))"
      ],
      "metadata": {
        "colab": {
          "base_uri": "https://localhost:8080/",
          "height": 69
        },
        "id": "YQEXDQDx-rdv",
        "outputId": "7fff376a-db81-47a9-fb18-dfe48fc01d24"
      },
      "execution_count": null,
      "outputs": [
        {
          "output_type": "display_data",
          "data": {
            "text/html": [
              "<style>\n",
              ".dl-inline {width: auto; margin:0; padding: 0}\n",
              ".dl-inline>dt, .dl-inline>dd {float: none; width: auto; display: inline-block}\n",
              ".dl-inline>dt::after {content: \":\\0020\"; padding-right: .5ex}\n",
              ".dl-inline>dt:not(:first-of-type) {padding-left: .5ex}\n",
              "</style><dl class=dl-inline><dt>order_id</dt><dd>0</dd><dt>customer_id</dt><dd>0</dd><dt>customer_unique_id</dt><dd>0</dd><dt>customer_zip_code_prefix</dt><dd>0</dd><dt>customer_city</dt><dd>0</dd><dt>customer_state</dt><dd>0</dd><dt>order_status</dt><dd>0</dd><dt>order_purchase_timestamp</dt><dd>0</dd><dt>order_approved_at</dt><dd>175</dd><dt>order_delivered_carrier_date</dt><dd>1888</dd><dt>order_delivered_customer_date</dt><dd>3132</dd><dt>order_estimated_delivery_date</dt><dd>0</dd><dt>payment_sequential</dt><dd>1</dd><dt>payment_type</dt><dd>1</dd><dt>payment_installments</dt><dd>1</dd><dt>payment_value</dt><dd>1</dd></dl>\n"
            ],
            "text/markdown": "order_id\n:   0customer_id\n:   0customer_unique_id\n:   0customer_zip_code_prefix\n:   0customer_city\n:   0customer_state\n:   0order_status\n:   0order_purchase_timestamp\n:   0order_approved_at\n:   175order_delivered_carrier_date\n:   1888order_delivered_customer_date\n:   3132order_estimated_delivery_date\n:   0payment_sequential\n:   1payment_type\n:   1payment_installments\n:   1payment_value\n:   1\n\n",
            "text/latex": "\\begin{description*}\n\\item[order\\textbackslash{}\\_id] 0\n\\item[customer\\textbackslash{}\\_id] 0\n\\item[customer\\textbackslash{}\\_unique\\textbackslash{}\\_id] 0\n\\item[customer\\textbackslash{}\\_zip\\textbackslash{}\\_code\\textbackslash{}\\_prefix] 0\n\\item[customer\\textbackslash{}\\_city] 0\n\\item[customer\\textbackslash{}\\_state] 0\n\\item[order\\textbackslash{}\\_status] 0\n\\item[order\\textbackslash{}\\_purchase\\textbackslash{}\\_timestamp] 0\n\\item[order\\textbackslash{}\\_approved\\textbackslash{}\\_at] 175\n\\item[order\\textbackslash{}\\_delivered\\textbackslash{}\\_carrier\\textbackslash{}\\_date] 1888\n\\item[order\\textbackslash{}\\_delivered\\textbackslash{}\\_customer\\textbackslash{}\\_date] 3132\n\\item[order\\textbackslash{}\\_estimated\\textbackslash{}\\_delivery\\textbackslash{}\\_date] 0\n\\item[payment\\textbackslash{}\\_sequential] 1\n\\item[payment\\textbackslash{}\\_type] 1\n\\item[payment\\textbackslash{}\\_installments] 1\n\\item[payment\\textbackslash{}\\_value] 1\n\\end{description*}\n",
            "text/plain": [
              "                     order_id                   customer_id \n",
              "                            0                             0 \n",
              "           customer_unique_id      customer_zip_code_prefix \n",
              "                            0                             0 \n",
              "                customer_city                customer_state \n",
              "                            0                             0 \n",
              "                 order_status      order_purchase_timestamp \n",
              "                            0                             0 \n",
              "            order_approved_at  order_delivered_carrier_date \n",
              "                          175                          1888 \n",
              "order_delivered_customer_date order_estimated_delivery_date \n",
              "                         3132                             0 \n",
              "           payment_sequential                  payment_type \n",
              "                            1                             1 \n",
              "         payment_installments                 payment_value \n",
              "                            1                             1 "
            ]
          },
          "metadata": {}
        }
      ]
    },
    {
      "cell_type": "code",
      "source": [
        "# Fazendo unpack de linhas e colunas\n",
        "rows <- nrow(Olist_Customers)\n",
        "columns <- ncol(Olist_Customers)\n",
        "\n",
        "# Percentual de dados faltantes\n",
        "percentual_nan <- ((colSums(is.na(Olist_Customers))/rows) * 100)\n",
        "percentual_nan <- round(percentual_nan, 2)\n",
        "\n",
        "\n",
        "print(percentual_nan)"
      ],
      "metadata": {
        "colab": {
          "base_uri": "https://localhost:8080/"
        },
        "id": "OPBw1Fqg-t-_",
        "outputId": "a21a4bc4-647b-4513-aa60-6feb11f1ac78"
      },
      "execution_count": null,
      "outputs": [
        {
          "output_type": "stream",
          "name": "stdout",
          "text": [
            "                     order_id                   customer_id \n",
            "                         0.00                          0.00 \n",
            "           customer_unique_id      customer_zip_code_prefix \n",
            "                         0.00                          0.00 \n",
            "                customer_city                customer_state \n",
            "                         0.00                          0.00 \n",
            "                 order_status      order_purchase_timestamp \n",
            "                         0.00                          0.00 \n",
            "            order_approved_at  order_delivered_carrier_date \n",
            "                         0.17                          1.82 \n",
            "order_delivered_customer_date order_estimated_delivery_date \n",
            "                         3.01                          0.00 \n",
            "           payment_sequential                  payment_type \n",
            "                         0.00                          0.00 \n",
            "         payment_installments                 payment_value \n",
            "                         0.00                          0.00 \n"
          ]
        }
      ]
    },
    {
      "cell_type": "markdown",
      "source": [
        "Existe um valor vazio na coluna payment_value, vou precisar remover a linha por ser fundamental na análise ela possuir esse valor"
      ],
      "metadata": {
        "id": "bH3wgRhca85c"
      }
    },
    {
      "cell_type": "markdown",
      "source": [
        "### 4.5 - Verificando as linhas duplicadas"
      ],
      "metadata": {
        "id": "FOlu1-zhtNMM"
      }
    },
    {
      "cell_type": "code",
      "source": [
        "# Verificando se há linhas duplicadas no dataframe 'Olist_Customers'\n",
        "duplicated_rows <- Olist_Customers[duplicated(Olist_Customers), ]\n",
        "\n",
        "\n",
        "print(duplicated_rows)"
      ],
      "metadata": {
        "colab": {
          "base_uri": "https://localhost:8080/"
        },
        "id": "5Cp7SRw9-x-_",
        "outputId": "1b558f61-4283-41f6-8bc6-8753a1bdf84c"
      },
      "execution_count": null,
      "outputs": [
        {
          "output_type": "stream",
          "name": "stdout",
          "text": [
            " [1] order_id                      customer_id                  \n",
            " [3] customer_unique_id            customer_zip_code_prefix     \n",
            " [5] customer_city                 customer_state               \n",
            " [7] order_status                  order_purchase_timestamp     \n",
            " [9] order_approved_at             order_delivered_carrier_date \n",
            "[11] order_delivered_customer_date order_estimated_delivery_date\n",
            "[13] payment_sequential            payment_type                 \n",
            "[15] payment_installments          payment_value                \n",
            "<0 rows> (or 0-length row.names)\n"
          ]
        }
      ]
    },
    {
      "cell_type": "markdown",
      "source": [
        "Nenhuma linha duplicada no dataset"
      ],
      "metadata": {
        "id": "81YxyiP1a2pV"
      }
    },
    {
      "cell_type": "markdown",
      "source": [
        "### 4.6 - Quantidade de valores únicos por coluna"
      ],
      "metadata": {
        "id": "NwxtUtuxtU3b"
      }
    },
    {
      "cell_type": "code",
      "source": [
        "# Criar um dataframe vazio para armazenar os resultados\n",
        "contagem <- data.frame(Variavel = character(), Contagens_Distintas = numeric(), stringsAsFactors = FALSE)\n",
        "\n",
        "# Calcular a contagem de valores distintos e armazenar no dataframe 'contagem'\n",
        "for (coluna in names(Olist_Customers)) {\n",
        "\n",
        "  dados <- data.frame(Variavel = coluna, Contagens_Distintas = length(unique(Olist_Customers[[coluna]])), stringsAsFactors = FALSE)\n",
        "  contagem <- rbind(contagem, dados)\n",
        "}\n",
        "\n",
        "\n",
        "print(contagem)"
      ],
      "metadata": {
        "colab": {
          "base_uri": "https://localhost:8080/"
        },
        "id": "5ExGiz07-09W",
        "outputId": "63e53abc-5a68-497e-c5b2-8aa1edd596da"
      },
      "execution_count": null,
      "outputs": [
        {
          "output_type": "stream",
          "name": "stdout",
          "text": [
            "                        Variavel Contagens_Distintas\n",
            "1                       order_id               99441\n",
            "2                    customer_id               99441\n",
            "3             customer_unique_id               96096\n",
            "4       customer_zip_code_prefix               14994\n",
            "5                  customer_city                4119\n",
            "6                 customer_state                  27\n",
            "7                   order_status                   8\n",
            "8       order_purchase_timestamp               98875\n",
            "9              order_approved_at               90734\n",
            "10  order_delivered_carrier_date               81019\n",
            "11 order_delivered_customer_date               95665\n",
            "12 order_estimated_delivery_date                 459\n",
            "13            payment_sequential                  30\n",
            "14                  payment_type                   6\n",
            "15          payment_installments                  25\n",
            "16                 payment_value               29078\n"
          ]
        }
      ]
    },
    {
      "cell_type": "markdown",
      "source": [
        "# 5 - Preparando os dados"
      ],
      "metadata": {
        "id": "BLwUCUIxtXXr"
      }
    },
    {
      "cell_type": "code",
      "source": [
        "# Remover linhas com valores NA na coluna 'payment_value'\n",
        "Olist_Customers <- Olist_Customers[complete.cases(Olist_Customers$payment_value), ]\n"
      ],
      "metadata": {
        "id": "TDYhEEyjjKgl"
      },
      "execution_count": null,
      "outputs": []
    },
    {
      "cell_type": "markdown",
      "source": [
        "### 5.1 - Eliminando colunas desnecessárias"
      ],
      "metadata": {
        "id": "uiXwCo0ncc7B"
      }
    },
    {
      "cell_type": "code",
      "source": [
        "Olist_Clean <- Olist_Customers %>%\n",
        "  select(-customer_id,\n",
        "         -customer_zip_code_prefix,\n",
        "         -customer_city,\n",
        "         -customer_state,\n",
        "         -order_status,\n",
        "         -order_approved_at,\n",
        "         -order_delivered_carrier_date,\n",
        "         -order_delivered_customer_date,\n",
        "         -order_estimated_delivery_date,\n",
        "         -payment_sequential,\n",
        "         -payment_type,\n",
        "         -payment_installments)"
      ],
      "metadata": {
        "id": "lOg3Bjb7Znhq"
      },
      "execution_count": null,
      "outputs": []
    },
    {
      "cell_type": "markdown",
      "source": [
        "### 5.2 - Ajustando as colunas de Data e Hora"
      ],
      "metadata": {
        "id": "Upw8BNgrcjjw"
      }
    },
    {
      "cell_type": "code",
      "source": [
        "Olist_Clean <- Olist_Clean %>%\n",
        "  mutate(order_purchase_date = as.Date(order_purchase_timestamp),\n",
        "         order_purchase_hour = format(order_purchase_timestamp, \"%H:%M:%S\")) %>%\n",
        "  select(-order_purchase_timestamp, -order_purchase_hour )"
      ],
      "metadata": {
        "id": "SnghNMwRaKkZ"
      },
      "execution_count": null,
      "outputs": []
    },
    {
      "cell_type": "code",
      "source": [
        "head(Olist_Clean)"
      ],
      "metadata": {
        "colab": {
          "base_uri": "https://localhost:8080/",
          "height": 286
        },
        "id": "uiOzWM-XaNyR",
        "outputId": "17f60a25-88e4-456b-ae03-35cd1d6b70dd"
      },
      "execution_count": null,
      "outputs": [
        {
          "output_type": "display_data",
          "data": {
            "text/html": [
              "<table class=\"dataframe\">\n",
              "<caption>A data.frame: 6 × 4</caption>\n",
              "<thead>\n",
              "\t<tr><th></th><th scope=col>order_id</th><th scope=col>customer_unique_id</th><th scope=col>payment_value</th><th scope=col>order_purchase_date</th></tr>\n",
              "\t<tr><th></th><th scope=col>&lt;chr&gt;</th><th scope=col>&lt;chr&gt;</th><th scope=col>&lt;dbl&gt;</th><th scope=col>&lt;date&gt;</th></tr>\n",
              "</thead>\n",
              "<tbody>\n",
              "\t<tr><th scope=row>1</th><td>00010242fe8c5a6d1ba2dd792cb16214</td><td>871766c5855e863f6eccc05f988b23cb</td><td> 72.19</td><td>2017-09-13</td></tr>\n",
              "\t<tr><th scope=row>2</th><td>00018f77f2f0320c557190d7a144bdd3</td><td>eb28e67c4c0b83846050ddfb8a35d051</td><td>259.83</td><td>2017-04-26</td></tr>\n",
              "\t<tr><th scope=row>3</th><td>000229ec398224ef6ca0657da4fc703e</td><td>3818d81c6709e39d06b2738a8d3a2474</td><td>216.87</td><td>2018-01-14</td></tr>\n",
              "\t<tr><th scope=row>4</th><td>00024acbcdf0a6daa1e931b038114c75</td><td>af861d436cfc08b2c2ddefd0ba074622</td><td> 25.78</td><td>2018-08-08</td></tr>\n",
              "\t<tr><th scope=row>5</th><td>00042b26cf59d7ce69dfabb4e55b4fd9</td><td>64b576fb70d441e8f1b2d7d446e483c5</td><td>218.04</td><td>2017-02-04</td></tr>\n",
              "\t<tr><th scope=row>6</th><td>00048cc3ae777c65dbb7d2a0634bc1ea</td><td>85c835d128beae5b4ce8602c491bf385</td><td> 34.59</td><td>2017-05-15</td></tr>\n",
              "</tbody>\n",
              "</table>\n"
            ],
            "text/markdown": "\nA data.frame: 6 × 4\n\n| <!--/--> | order_id &lt;chr&gt; | customer_unique_id &lt;chr&gt; | payment_value &lt;dbl&gt; | order_purchase_date &lt;date&gt; |\n|---|---|---|---|---|\n| 1 | 00010242fe8c5a6d1ba2dd792cb16214 | 871766c5855e863f6eccc05f988b23cb |  72.19 | 2017-09-13 |\n| 2 | 00018f77f2f0320c557190d7a144bdd3 | eb28e67c4c0b83846050ddfb8a35d051 | 259.83 | 2017-04-26 |\n| 3 | 000229ec398224ef6ca0657da4fc703e | 3818d81c6709e39d06b2738a8d3a2474 | 216.87 | 2018-01-14 |\n| 4 | 00024acbcdf0a6daa1e931b038114c75 | af861d436cfc08b2c2ddefd0ba074622 |  25.78 | 2018-08-08 |\n| 5 | 00042b26cf59d7ce69dfabb4e55b4fd9 | 64b576fb70d441e8f1b2d7d446e483c5 | 218.04 | 2017-02-04 |\n| 6 | 00048cc3ae777c65dbb7d2a0634bc1ea | 85c835d128beae5b4ce8602c491bf385 |  34.59 | 2017-05-15 |\n\n",
            "text/latex": "A data.frame: 6 × 4\n\\begin{tabular}{r|llll}\n  & order\\_id & customer\\_unique\\_id & payment\\_value & order\\_purchase\\_date\\\\\n  & <chr> & <chr> & <dbl> & <date>\\\\\n\\hline\n\t1 & 00010242fe8c5a6d1ba2dd792cb16214 & 871766c5855e863f6eccc05f988b23cb &  72.19 & 2017-09-13\\\\\n\t2 & 00018f77f2f0320c557190d7a144bdd3 & eb28e67c4c0b83846050ddfb8a35d051 & 259.83 & 2017-04-26\\\\\n\t3 & 000229ec398224ef6ca0657da4fc703e & 3818d81c6709e39d06b2738a8d3a2474 & 216.87 & 2018-01-14\\\\\n\t4 & 00024acbcdf0a6daa1e931b038114c75 & af861d436cfc08b2c2ddefd0ba074622 &  25.78 & 2018-08-08\\\\\n\t5 & 00042b26cf59d7ce69dfabb4e55b4fd9 & 64b576fb70d441e8f1b2d7d446e483c5 & 218.04 & 2017-02-04\\\\\n\t6 & 00048cc3ae777c65dbb7d2a0634bc1ea & 85c835d128beae5b4ce8602c491bf385 &  34.59 & 2017-05-15\\\\\n\\end{tabular}\n",
            "text/plain": [
              "  order_id                         customer_unique_id              \n",
              "1 00010242fe8c5a6d1ba2dd792cb16214 871766c5855e863f6eccc05f988b23cb\n",
              "2 00018f77f2f0320c557190d7a144bdd3 eb28e67c4c0b83846050ddfb8a35d051\n",
              "3 000229ec398224ef6ca0657da4fc703e 3818d81c6709e39d06b2738a8d3a2474\n",
              "4 00024acbcdf0a6daa1e931b038114c75 af861d436cfc08b2c2ddefd0ba074622\n",
              "5 00042b26cf59d7ce69dfabb4e55b4fd9 64b576fb70d441e8f1b2d7d446e483c5\n",
              "6 00048cc3ae777c65dbb7d2a0634bc1ea 85c835d128beae5b4ce8602c491bf385\n",
              "  payment_value order_purchase_date\n",
              "1  72.19        2017-09-13         \n",
              "2 259.83        2017-04-26         \n",
              "3 216.87        2018-01-14         \n",
              "4  25.78        2018-08-08         \n",
              "5 218.04        2017-02-04         \n",
              "6  34.59        2017-05-15         "
            ]
          },
          "metadata": {}
        }
      ]
    },
    {
      "cell_type": "markdown",
      "source": [
        "# 6 - Criando a tabela RFM"
      ],
      "metadata": {
        "id": "HUbCC7hQtgJ7"
      }
    },
    {
      "cell_type": "markdown",
      "source": [
        "### 6.1 Recencia"
      ],
      "metadata": {
        "id": "xsNeYslkVjLH"
      }
    },
    {
      "cell_type": "code",
      "source": [
        "# Data mais recente da última compra no dataset\n",
        "ultima_compra <- max(Olist_Clean$order_purchase_date)\n",
        "\n",
        "# Para o dia de 'hoje', vou considerar 1 dia após a data da ultima compra\n",
        "hoje <- ultima_compra + 1\n",
        "\n",
        "# Calculo da recência (diferença em dias entre a data mais recente e cada compra) para cada cliente\n",
        "recencia <- Olist_Clean %>%\n",
        "  group_by(customer_unique_id) %>%\n",
        "  summarize(recencia_dias = as.numeric(hoje - max(order_purchase_date))) %>%\n",
        "  arrange(recencia_dias)\n",
        "\n",
        "\n",
        "print(recencia)"
      ],
      "metadata": {
        "colab": {
          "base_uri": "https://localhost:8080/"
        },
        "id": "v8PEeX_yVmeZ",
        "outputId": "fc2c7131-fa8b-4830-a55f-6302570b63a8"
      },
      "execution_count": null,
      "outputs": [
        {
          "output_type": "stream",
          "name": "stdout",
          "text": [
            "\u001b[90m# A tibble: 96,095 × 2\u001b[39m\n",
            "   customer_unique_id               recencia_dias\n",
            "   \u001b[3m\u001b[90m<chr>\u001b[39m\u001b[23m                                    \u001b[3m\u001b[90m<dbl>\u001b[39m\u001b[23m\n",
            "\u001b[90m 1\u001b[39m 87ab9fec999db8bd5774917de3cdf01c             1\n",
            "\u001b[90m 2\u001b[39m 262e1f1e26e92e86375f86840b4ffd63             2\n",
            "\u001b[90m 3\u001b[39m af5454198a97379394cacf676e1e96cb            15\n",
            "\u001b[90m 4\u001b[39m 634420a0ea42302205032ed44ac7fccc            17\n",
            "\u001b[90m 5\u001b[39m 9bb92bebd4cb7511e1a02d5e50bc4655            19\n",
            "\u001b[90m 6\u001b[39m ba84da8c159659f116329563a0a981dd            22\n",
            "\u001b[90m 7\u001b[39m 9c3af16efacb7aa06aa3bc674556c5d6            23\n",
            "\u001b[90m 8\u001b[39m 08642cd329066fe11ec63293f714f2f8            28\n",
            "\u001b[90m 9\u001b[39m ef0103e9602d12594d19c2b666219bc1            31\n",
            "\u001b[90m10\u001b[39m c1ee153508c6b785b491443a95ff364e            35\n",
            "\u001b[90m# ℹ 96,085 more rows\u001b[39m\n"
          ]
        }
      ]
    },
    {
      "cell_type": "markdown",
      "source": [
        "### 6.2 - Frequência"
      ],
      "metadata": {
        "id": "uT3elMWclHis"
      }
    },
    {
      "cell_type": "code",
      "source": [
        "# Calculo da frequência (número de transações) para cada cliente\n",
        "frequencia <- Olist_Clean %>%\n",
        "  group_by(customer_unique_id) %>%\n",
        "  summarize(Frequency = n()) %>%\n",
        "  arrange(desc(Frequency))\n",
        "\n",
        "\n",
        "print(frequencia)"
      ],
      "metadata": {
        "colab": {
          "base_uri": "https://localhost:8080/"
        },
        "id": "Qsg96rMmfhdf",
        "outputId": "c4e757fc-a5e6-4aed-bbf6-a4e9352407bf"
      },
      "execution_count": null,
      "outputs": [
        {
          "output_type": "stream",
          "name": "stdout",
          "text": [
            "\u001b[90m# A tibble: 96,095 × 2\u001b[39m\n",
            "   customer_unique_id               Frequency\n",
            "   \u001b[3m\u001b[90m<chr>\u001b[39m\u001b[23m                                \u001b[3m\u001b[90m<int>\u001b[39m\u001b[23m\n",
            "\u001b[90m 1\u001b[39m 9a736b248f67d166d2fbb006bcb877c3        33\n",
            "\u001b[90m 2\u001b[39m 8af7ac63b2efbcbd88e5b11505e8098a        29\n",
            "\u001b[90m 3\u001b[39m 569aa12b73b5f7edeaa6f2a01603e381        26\n",
            "\u001b[90m 4\u001b[39m f9ae226291893fda10af7965268fb7f6        23\n",
            "\u001b[90m 5\u001b[39m 2524dcec233c3766f2c2b22f69fd65f4        22\n",
            "\u001b[90m 6\u001b[39m 24f12460aad399ba18f4ed2c2fbab65d        19\n",
            "\u001b[90m 7\u001b[39m 6fbc7cdadbb522125f4b27ae9dee4060        19\n",
            "\u001b[90m 8\u001b[39m 8d50f5eadf50201ccdcedfb9e2ac8455        17\n",
            "\u001b[90m 9\u001b[39m 1d2435aa3b858d45c707c9fc25e18779        16\n",
            "\u001b[90m10\u001b[39m 25ba76039a1caff121dfcb0d66e54780        15\n",
            "\u001b[90m# ℹ 96,085 more rows\u001b[39m\n"
          ]
        }
      ]
    },
    {
      "cell_type": "markdown",
      "source": [
        "### 6.3 - Monetário"
      ],
      "metadata": {
        "id": "-ocX18nftWlf"
      }
    },
    {
      "cell_type": "code",
      "source": [
        "# Calculo da soma monetária (M) para cada cliente\n",
        "monetario <- Olist_Clean %>%\n",
        "  group_by(customer_unique_id) %>%\n",
        "  summarize(Monetary = sum(payment_value)) %>%\n",
        "  arrange(desc(Monetary))\n",
        "\n",
        "\n",
        "head(monetario)"
      ],
      "metadata": {
        "colab": {
          "base_uri": "https://localhost:8080/",
          "height": 286
        },
        "id": "Bjyr_ehKtZuA",
        "outputId": "c49ba1bb-effb-4d49-ecfb-8d14fbea8670"
      },
      "execution_count": null,
      "outputs": [
        {
          "output_type": "display_data",
          "data": {
            "text/html": [
              "<table class=\"dataframe\">\n",
              "<caption>A tibble: 6 × 2</caption>\n",
              "<thead>\n",
              "\t<tr><th scope=col>customer_unique_id</th><th scope=col>Monetary</th></tr>\n",
              "\t<tr><th scope=col>&lt;chr&gt;</th><th scope=col>&lt;dbl&gt;</th></tr>\n",
              "</thead>\n",
              "<tbody>\n",
              "\t<tr><td>0a0a92112bd4c708ca5fde585afaa872</td><td>13664.08</td></tr>\n",
              "\t<tr><td>46450c74a0d8c5ca9395da1daac6c120</td><td> 9553.02</td></tr>\n",
              "\t<tr><td>da122df9eeddfedc1dc1f5349a1a690c</td><td> 7571.63</td></tr>\n",
              "\t<tr><td>763c8b1c9c68a0229c42c9fc6f662b93</td><td> 7274.88</td></tr>\n",
              "\t<tr><td>dc4802a71eae9be1dd28f5d788ceb526</td><td> 6929.31</td></tr>\n",
              "\t<tr><td>459bef486812aa25204be022145caa62</td><td> 6922.21</td></tr>\n",
              "</tbody>\n",
              "</table>\n"
            ],
            "text/markdown": "\nA tibble: 6 × 2\n\n| customer_unique_id &lt;chr&gt; | Monetary &lt;dbl&gt; |\n|---|---|\n| 0a0a92112bd4c708ca5fde585afaa872 | 13664.08 |\n| 46450c74a0d8c5ca9395da1daac6c120 |  9553.02 |\n| da122df9eeddfedc1dc1f5349a1a690c |  7571.63 |\n| 763c8b1c9c68a0229c42c9fc6f662b93 |  7274.88 |\n| dc4802a71eae9be1dd28f5d788ceb526 |  6929.31 |\n| 459bef486812aa25204be022145caa62 |  6922.21 |\n\n",
            "text/latex": "A tibble: 6 × 2\n\\begin{tabular}{ll}\n customer\\_unique\\_id & Monetary\\\\\n <chr> & <dbl>\\\\\n\\hline\n\t 0a0a92112bd4c708ca5fde585afaa872 & 13664.08\\\\\n\t 46450c74a0d8c5ca9395da1daac6c120 &  9553.02\\\\\n\t da122df9eeddfedc1dc1f5349a1a690c &  7571.63\\\\\n\t 763c8b1c9c68a0229c42c9fc6f662b93 &  7274.88\\\\\n\t dc4802a71eae9be1dd28f5d788ceb526 &  6929.31\\\\\n\t 459bef486812aa25204be022145caa62 &  6922.21\\\\\n\\end{tabular}\n",
            "text/plain": [
              "  customer_unique_id               Monetary\n",
              "1 0a0a92112bd4c708ca5fde585afaa872 13664.08\n",
              "2 46450c74a0d8c5ca9395da1daac6c120  9553.02\n",
              "3 da122df9eeddfedc1dc1f5349a1a690c  7571.63\n",
              "4 763c8b1c9c68a0229c42c9fc6f662b93  7274.88\n",
              "5 dc4802a71eae9be1dd28f5d788ceb526  6929.31\n",
              "6 459bef486812aa25204be022145caa62  6922.21"
            ]
          },
          "metadata": {}
        }
      ]
    },
    {
      "cell_type": "markdown",
      "source": [
        "### 6.4 - Ranqueando os dados"
      ],
      "metadata": {
        "id": "4O8BL9NqaZpt"
      }
    },
    {
      "cell_type": "code",
      "source": [
        "# Ajustando a opção de formatação\n",
        "options(scipen = 10)"
      ],
      "metadata": {
        "id": "n2yrFQRJ3Bg1"
      },
      "execution_count": null,
      "outputs": []
    },
    {
      "cell_type": "code",
      "source": [
        "# Criando os valores de rank para recência, frequência e métrica monetária\n",
        "recencia$Recency_Rank <- round(percent_rank(recencia$recencia_dias),2)\n",
        "frequencia$Frequency_Rank <- round(1 - percent_rank(frequencia$Frequency),2)\n",
        "monetario$Monetary_Rank <- round(1- percent_rank(monetario$Monetary),2)"
      ],
      "metadata": {
        "id": "4oMxeG6F73Yz"
      },
      "execution_count": null,
      "outputs": []
    },
    {
      "cell_type": "code",
      "source": [
        "head(frequencia)"
      ],
      "metadata": {
        "colab": {
          "base_uri": "https://localhost:8080/",
          "height": 286
        },
        "id": "WFPNZbIVx5L-",
        "outputId": "51629a5c-6fde-40c4-80a7-771c1061f757"
      },
      "execution_count": null,
      "outputs": [
        {
          "output_type": "display_data",
          "data": {
            "text/html": [
              "<table class=\"dataframe\">\n",
              "<caption>A tibble: 6 × 3</caption>\n",
              "<thead>\n",
              "\t<tr><th scope=col>customer_unique_id</th><th scope=col>Frequency</th><th scope=col>Frequency_Rank</th></tr>\n",
              "\t<tr><th scope=col>&lt;chr&gt;</th><th scope=col>&lt;int&gt;</th><th scope=col>&lt;dbl&gt;</th></tr>\n",
              "</thead>\n",
              "<tbody>\n",
              "\t<tr><td>9a736b248f67d166d2fbb006bcb877c3</td><td>33</td><td>0</td></tr>\n",
              "\t<tr><td>8af7ac63b2efbcbd88e5b11505e8098a</td><td>29</td><td>0</td></tr>\n",
              "\t<tr><td>569aa12b73b5f7edeaa6f2a01603e381</td><td>26</td><td>0</td></tr>\n",
              "\t<tr><td>f9ae226291893fda10af7965268fb7f6</td><td>23</td><td>0</td></tr>\n",
              "\t<tr><td>2524dcec233c3766f2c2b22f69fd65f4</td><td>22</td><td>0</td></tr>\n",
              "\t<tr><td>24f12460aad399ba18f4ed2c2fbab65d</td><td>19</td><td>0</td></tr>\n",
              "</tbody>\n",
              "</table>\n"
            ],
            "text/markdown": "\nA tibble: 6 × 3\n\n| customer_unique_id &lt;chr&gt; | Frequency &lt;int&gt; | Frequency_Rank &lt;dbl&gt; |\n|---|---|---|\n| 9a736b248f67d166d2fbb006bcb877c3 | 33 | 0 |\n| 8af7ac63b2efbcbd88e5b11505e8098a | 29 | 0 |\n| 569aa12b73b5f7edeaa6f2a01603e381 | 26 | 0 |\n| f9ae226291893fda10af7965268fb7f6 | 23 | 0 |\n| 2524dcec233c3766f2c2b22f69fd65f4 | 22 | 0 |\n| 24f12460aad399ba18f4ed2c2fbab65d | 19 | 0 |\n\n",
            "text/latex": "A tibble: 6 × 3\n\\begin{tabular}{lll}\n customer\\_unique\\_id & Frequency & Frequency\\_Rank\\\\\n <chr> & <int> & <dbl>\\\\\n\\hline\n\t 9a736b248f67d166d2fbb006bcb877c3 & 33 & 0\\\\\n\t 8af7ac63b2efbcbd88e5b11505e8098a & 29 & 0\\\\\n\t 569aa12b73b5f7edeaa6f2a01603e381 & 26 & 0\\\\\n\t f9ae226291893fda10af7965268fb7f6 & 23 & 0\\\\\n\t 2524dcec233c3766f2c2b22f69fd65f4 & 22 & 0\\\\\n\t 24f12460aad399ba18f4ed2c2fbab65d & 19 & 0\\\\\n\\end{tabular}\n",
            "text/plain": [
              "  customer_unique_id               Frequency Frequency_Rank\n",
              "1 9a736b248f67d166d2fbb006bcb877c3 33        0             \n",
              "2 8af7ac63b2efbcbd88e5b11505e8098a 29        0             \n",
              "3 569aa12b73b5f7edeaa6f2a01603e381 26        0             \n",
              "4 f9ae226291893fda10af7965268fb7f6 23        0             \n",
              "5 2524dcec233c3766f2c2b22f69fd65f4 22        0             \n",
              "6 24f12460aad399ba18f4ed2c2fbab65d 19        0             "
            ]
          },
          "metadata": {}
        }
      ]
    },
    {
      "cell_type": "code",
      "source": [
        "rfm <- data.frame(customer_unique_id = recencia$customer_unique_id)"
      ],
      "metadata": {
        "id": "jeO060whyBzT"
      },
      "execution_count": null,
      "outputs": []
    },
    {
      "cell_type": "code",
      "source": [
        "# Unindo tudo em um dataframe 'rfm'\n",
        "rfm <- rfm %>%\n",
        "  inner_join(recencia, by = \"customer_unique_id\") %>%\n",
        "  inner_join(frequencia, by = \"customer_unique_id\") %>%\n",
        "  inner_join(monetario, by = \"customer_unique_id\")\n",
        "\n"
      ],
      "metadata": {
        "id": "ib49xL3Y80GT"
      },
      "execution_count": null,
      "outputs": []
    },
    {
      "cell_type": "code",
      "source": [
        "# Exiba o dataframe 'rfm'\n",
        "head(rfm)"
      ],
      "metadata": {
        "colab": {
          "base_uri": "https://localhost:8080/",
          "height": 286
        },
        "id": "-lHhZP7DA2oR",
        "outputId": "2c261c81-bb60-4bb8-8bf0-e658051d6761"
      },
      "execution_count": null,
      "outputs": [
        {
          "output_type": "display_data",
          "data": {
            "text/html": [
              "<table class=\"dataframe\">\n",
              "<caption>A data.frame: 6 × 7</caption>\n",
              "<thead>\n",
              "\t<tr><th></th><th scope=col>customer_unique_id</th><th scope=col>recencia_dias</th><th scope=col>Recency_Rank</th><th scope=col>Frequency</th><th scope=col>Frequency_Rank</th><th scope=col>Monetary</th><th scope=col>Monetary_Rank</th></tr>\n",
              "\t<tr><th></th><th scope=col>&lt;chr&gt;</th><th scope=col>&lt;dbl&gt;</th><th scope=col>&lt;dbl&gt;</th><th scope=col>&lt;int&gt;</th><th scope=col>&lt;dbl&gt;</th><th scope=col>&lt;dbl&gt;</th><th scope=col>&lt;dbl&gt;</th></tr>\n",
              "</thead>\n",
              "<tbody>\n",
              "\t<tr><th scope=row>1</th><td>87ab9fec999db8bd5774917de3cdf01c</td><td> 1</td><td>0</td><td>1</td><td>1.00</td><td> 89.71</td><td>0.59</td></tr>\n",
              "\t<tr><th scope=row>2</th><td>262e1f1e26e92e86375f86840b4ffd63</td><td> 2</td><td>0</td><td>2</td><td>0.06</td><td>444.06</td><td>0.06</td></tr>\n",
              "\t<tr><th scope=row>3</th><td>af5454198a97379394cacf676e1e96cb</td><td>15</td><td>0</td><td>3</td><td>0.01</td><td>592.65</td><td>0.04</td></tr>\n",
              "\t<tr><th scope=row>4</th><td>634420a0ea42302205032ed44ac7fccc</td><td>17</td><td>0</td><td>2</td><td>0.06</td><td>160.76</td><td>0.31</td></tr>\n",
              "\t<tr><th scope=row>5</th><td>9bb92bebd4cb7511e1a02d5e50bc4655</td><td>19</td><td>0</td><td>1</td><td>1.00</td><td>137.03</td><td>0.39</td></tr>\n",
              "\t<tr><th scope=row>6</th><td>ba84da8c159659f116329563a0a981dd</td><td>22</td><td>0</td><td>3</td><td>0.01</td><td>283.89</td><td>0.12</td></tr>\n",
              "</tbody>\n",
              "</table>\n"
            ],
            "text/markdown": "\nA data.frame: 6 × 7\n\n| <!--/--> | customer_unique_id &lt;chr&gt; | recencia_dias &lt;dbl&gt; | Recency_Rank &lt;dbl&gt; | Frequency &lt;int&gt; | Frequency_Rank &lt;dbl&gt; | Monetary &lt;dbl&gt; | Monetary_Rank &lt;dbl&gt; |\n|---|---|---|---|---|---|---|---|\n| 1 | 87ab9fec999db8bd5774917de3cdf01c |  1 | 0 | 1 | 1.00 |  89.71 | 0.59 |\n| 2 | 262e1f1e26e92e86375f86840b4ffd63 |  2 | 0 | 2 | 0.06 | 444.06 | 0.06 |\n| 3 | af5454198a97379394cacf676e1e96cb | 15 | 0 | 3 | 0.01 | 592.65 | 0.04 |\n| 4 | 634420a0ea42302205032ed44ac7fccc | 17 | 0 | 2 | 0.06 | 160.76 | 0.31 |\n| 5 | 9bb92bebd4cb7511e1a02d5e50bc4655 | 19 | 0 | 1 | 1.00 | 137.03 | 0.39 |\n| 6 | ba84da8c159659f116329563a0a981dd | 22 | 0 | 3 | 0.01 | 283.89 | 0.12 |\n\n",
            "text/latex": "A data.frame: 6 × 7\n\\begin{tabular}{r|lllllll}\n  & customer\\_unique\\_id & recencia\\_dias & Recency\\_Rank & Frequency & Frequency\\_Rank & Monetary & Monetary\\_Rank\\\\\n  & <chr> & <dbl> & <dbl> & <int> & <dbl> & <dbl> & <dbl>\\\\\n\\hline\n\t1 & 87ab9fec999db8bd5774917de3cdf01c &  1 & 0 & 1 & 1.00 &  89.71 & 0.59\\\\\n\t2 & 262e1f1e26e92e86375f86840b4ffd63 &  2 & 0 & 2 & 0.06 & 444.06 & 0.06\\\\\n\t3 & af5454198a97379394cacf676e1e96cb & 15 & 0 & 3 & 0.01 & 592.65 & 0.04\\\\\n\t4 & 634420a0ea42302205032ed44ac7fccc & 17 & 0 & 2 & 0.06 & 160.76 & 0.31\\\\\n\t5 & 9bb92bebd4cb7511e1a02d5e50bc4655 & 19 & 0 & 1 & 1.00 & 137.03 & 0.39\\\\\n\t6 & ba84da8c159659f116329563a0a981dd & 22 & 0 & 3 & 0.01 & 283.89 & 0.12\\\\\n\\end{tabular}\n",
            "text/plain": [
              "  customer_unique_id               recencia_dias Recency_Rank Frequency\n",
              "1 87ab9fec999db8bd5774917de3cdf01c  1            0            1        \n",
              "2 262e1f1e26e92e86375f86840b4ffd63  2            0            2        \n",
              "3 af5454198a97379394cacf676e1e96cb 15            0            3        \n",
              "4 634420a0ea42302205032ed44ac7fccc 17            0            2        \n",
              "5 9bb92bebd4cb7511e1a02d5e50bc4655 19            0            1        \n",
              "6 ba84da8c159659f116329563a0a981dd 22            0            3        \n",
              "  Frequency_Rank Monetary Monetary_Rank\n",
              "1 1.00            89.71   0.59         \n",
              "2 0.06           444.06   0.06         \n",
              "3 0.01           592.65   0.04         \n",
              "4 0.06           160.76   0.31         \n",
              "5 1.00           137.03   0.39         \n",
              "6 0.01           283.89   0.12         "
            ]
          },
          "metadata": {}
        }
      ]
    },
    {
      "cell_type": "markdown",
      "source": [
        "### 6.5 - Agrupando os dados"
      ],
      "metadata": {
        "id": "Ic7qPrGz884g"
      }
    },
    {
      "cell_type": "code",
      "source": [
        "bins <- c(0, 0.5, 1)\n"
      ],
      "metadata": {
        "id": "Qsxk1eWE2sI-"
      },
      "execution_count": null,
      "outputs": []
    },
    {
      "cell_type": "code",
      "source": [
        "names <- c(1, 2)"
      ],
      "metadata": {
        "id": "f6YMITwV3IFW"
      },
      "execution_count": null,
      "outputs": []
    },
    {
      "cell_type": "code",
      "source": [
        "final <- data.frame(customer_unique_id = rfm$customer_unique_id)"
      ],
      "metadata": {
        "id": "56Lc_hz54O0V"
      },
      "execution_count": null,
      "outputs": []
    },
    {
      "cell_type": "code",
      "source": [
        "# Criando as variáveis 'frequency', 'recency' e 'monetary'\n",
        "final$recency <- cut(rfm$Recency_Rank, breaks = bins, labels = names, include.lowest = TRUE)\n",
        "final$frequency <- cut(rfm$Frequency_Rank, breaks = bins, labels = names, include.lowest = TRUE)\n",
        "final$monetary <- cut(rfm$Monetary_Rank, breaks = bins, labels = names, include.lowest = TRUE)\n"
      ],
      "metadata": {
        "id": "LnnZmjCQ4sU-"
      },
      "execution_count": null,
      "outputs": []
    },
    {
      "cell_type": "code",
      "source": [
        "# Convertendo as variáveis para tipo 'character'\n",
        "final$frequency <- as.character(final$frequency)\n",
        "final$recency <- as.character(final$recency)\n",
        "final$monetary <- as.character(final$monetary)"
      ],
      "metadata": {
        "id": "pwnZvp1I9Aeg"
      },
      "execution_count": null,
      "outputs": []
    },
    {
      "cell_type": "code",
      "source": [
        "# Criando a variável 'rec_freq_mone'\n",
        "final$rec_freq_mone <- paste(final$recency, final$frequency, final$monetary, sep = \"\")\n"
      ],
      "metadata": {
        "id": "1kd4chpm9Wu4"
      },
      "execution_count": null,
      "outputs": []
    },
    {
      "cell_type": "code",
      "source": [
        "# Adicionando a variável 'rec_freq_monet' ao DataFrame original 'rfm'\n",
        "rfm$rec_freq_monet <- final$rec_freq_mone"
      ],
      "metadata": {
        "id": "cvr-Cewb9xS4"
      },
      "execution_count": null,
      "outputs": []
    },
    {
      "cell_type": "code",
      "source": [
        "head(rfm)"
      ],
      "metadata": {
        "colab": {
          "base_uri": "https://localhost:8080/",
          "height": 286
        },
        "id": "_pYwwm3OJ3cb",
        "outputId": "cc595e17-ad0b-417c-b2f2-59964fda45e7"
      },
      "execution_count": null,
      "outputs": [
        {
          "output_type": "display_data",
          "data": {
            "text/html": [
              "<table class=\"dataframe\">\n",
              "<caption>A data.frame: 6 × 8</caption>\n",
              "<thead>\n",
              "\t<tr><th></th><th scope=col>customer_unique_id</th><th scope=col>recencia_dias</th><th scope=col>Recency_Rank</th><th scope=col>Frequency</th><th scope=col>Frequency_Rank</th><th scope=col>Monetary</th><th scope=col>Monetary_Rank</th><th scope=col>rec_freq_monet</th></tr>\n",
              "\t<tr><th></th><th scope=col>&lt;chr&gt;</th><th scope=col>&lt;dbl&gt;</th><th scope=col>&lt;dbl&gt;</th><th scope=col>&lt;int&gt;</th><th scope=col>&lt;dbl&gt;</th><th scope=col>&lt;dbl&gt;</th><th scope=col>&lt;dbl&gt;</th><th scope=col>&lt;chr&gt;</th></tr>\n",
              "</thead>\n",
              "<tbody>\n",
              "\t<tr><th scope=row>1</th><td>87ab9fec999db8bd5774917de3cdf01c</td><td> 1</td><td>0</td><td>1</td><td>1.00</td><td> 89.71</td><td>0.59</td><td>122</td></tr>\n",
              "\t<tr><th scope=row>2</th><td>262e1f1e26e92e86375f86840b4ffd63</td><td> 2</td><td>0</td><td>2</td><td>0.06</td><td>444.06</td><td>0.06</td><td>111</td></tr>\n",
              "\t<tr><th scope=row>3</th><td>af5454198a97379394cacf676e1e96cb</td><td>15</td><td>0</td><td>3</td><td>0.01</td><td>592.65</td><td>0.04</td><td>111</td></tr>\n",
              "\t<tr><th scope=row>4</th><td>634420a0ea42302205032ed44ac7fccc</td><td>17</td><td>0</td><td>2</td><td>0.06</td><td>160.76</td><td>0.31</td><td>111</td></tr>\n",
              "\t<tr><th scope=row>5</th><td>9bb92bebd4cb7511e1a02d5e50bc4655</td><td>19</td><td>0</td><td>1</td><td>1.00</td><td>137.03</td><td>0.39</td><td>121</td></tr>\n",
              "\t<tr><th scope=row>6</th><td>ba84da8c159659f116329563a0a981dd</td><td>22</td><td>0</td><td>3</td><td>0.01</td><td>283.89</td><td>0.12</td><td>111</td></tr>\n",
              "</tbody>\n",
              "</table>\n"
            ],
            "text/markdown": "\nA data.frame: 6 × 8\n\n| <!--/--> | customer_unique_id &lt;chr&gt; | recencia_dias &lt;dbl&gt; | Recency_Rank &lt;dbl&gt; | Frequency &lt;int&gt; | Frequency_Rank &lt;dbl&gt; | Monetary &lt;dbl&gt; | Monetary_Rank &lt;dbl&gt; | rec_freq_monet &lt;chr&gt; |\n|---|---|---|---|---|---|---|---|---|\n| 1 | 87ab9fec999db8bd5774917de3cdf01c |  1 | 0 | 1 | 1.00 |  89.71 | 0.59 | 122 |\n| 2 | 262e1f1e26e92e86375f86840b4ffd63 |  2 | 0 | 2 | 0.06 | 444.06 | 0.06 | 111 |\n| 3 | af5454198a97379394cacf676e1e96cb | 15 | 0 | 3 | 0.01 | 592.65 | 0.04 | 111 |\n| 4 | 634420a0ea42302205032ed44ac7fccc | 17 | 0 | 2 | 0.06 | 160.76 | 0.31 | 111 |\n| 5 | 9bb92bebd4cb7511e1a02d5e50bc4655 | 19 | 0 | 1 | 1.00 | 137.03 | 0.39 | 121 |\n| 6 | ba84da8c159659f116329563a0a981dd | 22 | 0 | 3 | 0.01 | 283.89 | 0.12 | 111 |\n\n",
            "text/latex": "A data.frame: 6 × 8\n\\begin{tabular}{r|llllllll}\n  & customer\\_unique\\_id & recencia\\_dias & Recency\\_Rank & Frequency & Frequency\\_Rank & Monetary & Monetary\\_Rank & rec\\_freq\\_monet\\\\\n  & <chr> & <dbl> & <dbl> & <int> & <dbl> & <dbl> & <dbl> & <chr>\\\\\n\\hline\n\t1 & 87ab9fec999db8bd5774917de3cdf01c &  1 & 0 & 1 & 1.00 &  89.71 & 0.59 & 122\\\\\n\t2 & 262e1f1e26e92e86375f86840b4ffd63 &  2 & 0 & 2 & 0.06 & 444.06 & 0.06 & 111\\\\\n\t3 & af5454198a97379394cacf676e1e96cb & 15 & 0 & 3 & 0.01 & 592.65 & 0.04 & 111\\\\\n\t4 & 634420a0ea42302205032ed44ac7fccc & 17 & 0 & 2 & 0.06 & 160.76 & 0.31 & 111\\\\\n\t5 & 9bb92bebd4cb7511e1a02d5e50bc4655 & 19 & 0 & 1 & 1.00 & 137.03 & 0.39 & 121\\\\\n\t6 & ba84da8c159659f116329563a0a981dd & 22 & 0 & 3 & 0.01 & 283.89 & 0.12 & 111\\\\\n\\end{tabular}\n",
            "text/plain": [
              "  customer_unique_id               recencia_dias Recency_Rank Frequency\n",
              "1 87ab9fec999db8bd5774917de3cdf01c  1            0            1        \n",
              "2 262e1f1e26e92e86375f86840b4ffd63  2            0            2        \n",
              "3 af5454198a97379394cacf676e1e96cb 15            0            3        \n",
              "4 634420a0ea42302205032ed44ac7fccc 17            0            2        \n",
              "5 9bb92bebd4cb7511e1a02d5e50bc4655 19            0            1        \n",
              "6 ba84da8c159659f116329563a0a981dd 22            0            3        \n",
              "  Frequency_Rank Monetary Monetary_Rank rec_freq_monet\n",
              "1 1.00            89.71   0.59          122           \n",
              "2 0.06           444.06   0.06          111           \n",
              "3 0.01           592.65   0.04          111           \n",
              "4 0.06           160.76   0.31          111           \n",
              "5 1.00           137.03   0.39          121           \n",
              "6 0.01           283.89   0.12          111           "
            ]
          },
          "metadata": {}
        }
      ]
    },
    {
      "cell_type": "markdown",
      "source": [
        "# 7 - Criando a segmentação de clientes"
      ],
      "metadata": {
        "id": "hGU1onQdTBeG"
      }
    },
    {
      "cell_type": "markdown",
      "source": [
        "### 7.1 - Dicionário dos segmentos\n",
        "\n",
        "\n",
        "\n",
        "```\n",
        "Rank, Customer Category,   Description\n",
        "111,  Champion,           \"Alta recência, alta frequência e alta contribuição monetária.\"\n",
        "112,  Loyal,              \"Alta recência, alta frequência e contribuição monetária baixa.\"\n",
        "121,  Loyal Spenders,     \"Alta recência, frequência baixa e alta contribuição monetária.\"\n",
        "122,  New Customers,      \"Alta recência, frequência baixa e contribuição monetária baixa.\"\n",
        "211,  To be retained,     \"Baixa recência, alta frequência e alta contribuição monetária.\"\n",
        "212,  At- Risk,           \"Alta frequência e valor monetário, mas com recência muito baixa\"\n",
        "221,  Slipping Away,      \"Baixa recência, frequência baxa e alta contribuição monetária.\"\n",
        "222,  Lost,               \"Baixa recência, frequência baixa e baixa contribuição monetária.\"\n",
        "```\n"
      ],
      "metadata": {
        "id": "pYxRjn9QYcvF"
      }
    },
    {
      "cell_type": "code",
      "source": [
        "# Mapeamentos\n",
        "mapping <- c(\n",
        "  \"111\" = \"Champion\",\n",
        "  \"112\" = \"Loyal\",\n",
        "  \"211\" = \"To be retained\",\n",
        "  \"121\" = \"Loyal Spenders\",\n",
        "  \"122\" = \"New customers\",\n",
        "  \"221\" = \"Slipping Away\",\n",
        "  \"212\" = \"At-risk\",\n",
        "  \"222\" = \"Lost\"\n",
        "\n",
        ")"
      ],
      "metadata": {
        "id": "EoU2z6hVXk6O"
      },
      "execution_count": null,
      "outputs": []
    },
    {
      "cell_type": "code",
      "source": [
        "# Renomeando os valores na coluna rec_freq_monet\n",
        "rfm <- rfm %>%\n",
        "  mutate(rec_freq_monet = recode(rec_freq_monet, !!!mapping))\n"
      ],
      "metadata": {
        "id": "FTY-CUbZXnZk"
      },
      "execution_count": null,
      "outputs": []
    },
    {
      "cell_type": "code",
      "source": [
        "\n",
        "# Renomeando a coluna rec_freq_monet\n",
        "rfm <- rfm %>%\n",
        "  rename(customer_category = rec_freq_monet)\n"
      ],
      "metadata": {
        "id": "V-aRgSMxmN6V"
      },
      "execution_count": null,
      "outputs": []
    },
    {
      "cell_type": "code",
      "source": [
        "head(rfm)"
      ],
      "metadata": {
        "id": "zZSkBUrbXp3M",
        "colab": {
          "base_uri": "https://localhost:8080/",
          "height": 306
        },
        "outputId": "eee7d1db-d397-45e2-a430-558754a7d97c"
      },
      "execution_count": null,
      "outputs": [
        {
          "output_type": "display_data",
          "data": {
            "text/html": [
              "<table class=\"dataframe\">\n",
              "<caption>A data.frame: 6 × 8</caption>\n",
              "<thead>\n",
              "\t<tr><th></th><th scope=col>customer_unique_id</th><th scope=col>recencia_dias</th><th scope=col>Recency_Rank</th><th scope=col>Frequency</th><th scope=col>Frequency_Rank</th><th scope=col>Monetary</th><th scope=col>Monetary_Rank</th><th scope=col>customer_category</th></tr>\n",
              "\t<tr><th></th><th scope=col>&lt;chr&gt;</th><th scope=col>&lt;dbl&gt;</th><th scope=col>&lt;dbl&gt;</th><th scope=col>&lt;int&gt;</th><th scope=col>&lt;dbl&gt;</th><th scope=col>&lt;dbl&gt;</th><th scope=col>&lt;dbl&gt;</th><th scope=col>&lt;chr&gt;</th></tr>\n",
              "</thead>\n",
              "<tbody>\n",
              "\t<tr><th scope=row>1</th><td>87ab9fec999db8bd5774917de3cdf01c</td><td> 1</td><td>0</td><td>1</td><td>1.00</td><td> 89.71</td><td>0.59</td><td>New customers </td></tr>\n",
              "\t<tr><th scope=row>2</th><td>262e1f1e26e92e86375f86840b4ffd63</td><td> 2</td><td>0</td><td>2</td><td>0.06</td><td>444.06</td><td>0.06</td><td>Champion      </td></tr>\n",
              "\t<tr><th scope=row>3</th><td>af5454198a97379394cacf676e1e96cb</td><td>15</td><td>0</td><td>3</td><td>0.01</td><td>592.65</td><td>0.04</td><td>Champion      </td></tr>\n",
              "\t<tr><th scope=row>4</th><td>634420a0ea42302205032ed44ac7fccc</td><td>17</td><td>0</td><td>2</td><td>0.06</td><td>160.76</td><td>0.31</td><td>Champion      </td></tr>\n",
              "\t<tr><th scope=row>5</th><td>9bb92bebd4cb7511e1a02d5e50bc4655</td><td>19</td><td>0</td><td>1</td><td>1.00</td><td>137.03</td><td>0.39</td><td>Loyal Spenders</td></tr>\n",
              "\t<tr><th scope=row>6</th><td>ba84da8c159659f116329563a0a981dd</td><td>22</td><td>0</td><td>3</td><td>0.01</td><td>283.89</td><td>0.12</td><td>Champion      </td></tr>\n",
              "</tbody>\n",
              "</table>\n"
            ],
            "text/markdown": "\nA data.frame: 6 × 8\n\n| <!--/--> | customer_unique_id &lt;chr&gt; | recencia_dias &lt;dbl&gt; | Recency_Rank &lt;dbl&gt; | Frequency &lt;int&gt; | Frequency_Rank &lt;dbl&gt; | Monetary &lt;dbl&gt; | Monetary_Rank &lt;dbl&gt; | customer_category &lt;chr&gt; |\n|---|---|---|---|---|---|---|---|---|\n| 1 | 87ab9fec999db8bd5774917de3cdf01c |  1 | 0 | 1 | 1.00 |  89.71 | 0.59 | New customers  |\n| 2 | 262e1f1e26e92e86375f86840b4ffd63 |  2 | 0 | 2 | 0.06 | 444.06 | 0.06 | Champion       |\n| 3 | af5454198a97379394cacf676e1e96cb | 15 | 0 | 3 | 0.01 | 592.65 | 0.04 | Champion       |\n| 4 | 634420a0ea42302205032ed44ac7fccc | 17 | 0 | 2 | 0.06 | 160.76 | 0.31 | Champion       |\n| 5 | 9bb92bebd4cb7511e1a02d5e50bc4655 | 19 | 0 | 1 | 1.00 | 137.03 | 0.39 | Loyal Spenders |\n| 6 | ba84da8c159659f116329563a0a981dd | 22 | 0 | 3 | 0.01 | 283.89 | 0.12 | Champion       |\n\n",
            "text/latex": "A data.frame: 6 × 8\n\\begin{tabular}{r|llllllll}\n  & customer\\_unique\\_id & recencia\\_dias & Recency\\_Rank & Frequency & Frequency\\_Rank & Monetary & Monetary\\_Rank & customer\\_category\\\\\n  & <chr> & <dbl> & <dbl> & <int> & <dbl> & <dbl> & <dbl> & <chr>\\\\\n\\hline\n\t1 & 87ab9fec999db8bd5774917de3cdf01c &  1 & 0 & 1 & 1.00 &  89.71 & 0.59 & New customers \\\\\n\t2 & 262e1f1e26e92e86375f86840b4ffd63 &  2 & 0 & 2 & 0.06 & 444.06 & 0.06 & Champion      \\\\\n\t3 & af5454198a97379394cacf676e1e96cb & 15 & 0 & 3 & 0.01 & 592.65 & 0.04 & Champion      \\\\\n\t4 & 634420a0ea42302205032ed44ac7fccc & 17 & 0 & 2 & 0.06 & 160.76 & 0.31 & Champion      \\\\\n\t5 & 9bb92bebd4cb7511e1a02d5e50bc4655 & 19 & 0 & 1 & 1.00 & 137.03 & 0.39 & Loyal Spenders\\\\\n\t6 & ba84da8c159659f116329563a0a981dd & 22 & 0 & 3 & 0.01 & 283.89 & 0.12 & Champion      \\\\\n\\end{tabular}\n",
            "text/plain": [
              "  customer_unique_id               recencia_dias Recency_Rank Frequency\n",
              "1 87ab9fec999db8bd5774917de3cdf01c  1            0            1        \n",
              "2 262e1f1e26e92e86375f86840b4ffd63  2            0            2        \n",
              "3 af5454198a97379394cacf676e1e96cb 15            0            3        \n",
              "4 634420a0ea42302205032ed44ac7fccc 17            0            2        \n",
              "5 9bb92bebd4cb7511e1a02d5e50bc4655 19            0            1        \n",
              "6 ba84da8c159659f116329563a0a981dd 22            0            3        \n",
              "  Frequency_Rank Monetary Monetary_Rank customer_category\n",
              "1 1.00            89.71   0.59          New customers    \n",
              "2 0.06           444.06   0.06          Champion         \n",
              "3 0.01           592.65   0.04          Champion         \n",
              "4 0.06           160.76   0.31          Champion         \n",
              "5 1.00           137.03   0.39          Loyal Spenders   \n",
              "6 0.01           283.89   0.12          Champion         "
            ]
          },
          "metadata": {}
        }
      ]
    },
    {
      "cell_type": "markdown",
      "source": [
        "### 7.2 - Salvando os novos Datasets em csv"
      ],
      "metadata": {
        "id": "40Id41jT9LG4"
      }
    },
    {
      "cell_type": "code",
      "source": [
        "# Realize o join entre as tabelas usando a chave customer_unique_id para criar a tabela mestre\n",
        "df_master <- Olist_Customers %>%\n",
        "  left_join(Olist_Orders, by = \"customer_id\") %>%\n",
        "  left_join(rfm, by = \"customer_unique_id\")\n",
        "\n",
        "\n",
        "head(df_master)"
      ],
      "metadata": {
        "colab": {
          "base_uri": "https://localhost:8080/",
          "height": 428
        },
        "id": "_ODzRI9sQJ7M",
        "outputId": "e7ce1ac7-8c3e-4ff7-9c52-93ea4fc2f49b"
      },
      "execution_count": null,
      "outputs": [
        {
          "output_type": "stream",
          "name": "stderr",
          "text": [
            "Warning message in left_join(., Olist_Orders, by = \"customer_id\"):\n",
            "“\u001b[1m\u001b[22mDetected an unexpected many-to-many relationship between `x` and `y`.\n",
            "\u001b[36mℹ\u001b[39m Row 14 of `x` matches multiple rows in `y`.\n",
            "\u001b[36mℹ\u001b[39m Row 84986 of `y` matches multiple rows in `x`.\n",
            "\u001b[36mℹ\u001b[39m If a many-to-many relationship is expected, set `relationship =\n",
            "  \"many-to-many\"` to silence this warning.”\n"
          ]
        },
        {
          "output_type": "display_data",
          "data": {
            "text/html": [
              "<table class=\"dataframe\">\n",
              "<caption>A data.frame: 6 × 44</caption>\n",
              "<thead>\n",
              "\t<tr><th></th><th scope=col>order_id.x</th><th scope=col>customer_id</th><th scope=col>customer_unique_id</th><th scope=col>customer_zip_code_prefix</th><th scope=col>customer_city</th><th scope=col>customer_state</th><th scope=col>order_status.x</th><th scope=col>order_purchase_timestamp.x</th><th scope=col>order_approved_at.x</th><th scope=col>order_delivered_carrier_date.x</th><th scope=col>⋯</th><th scope=col>product_length_cm</th><th scope=col>product_height_cm</th><th scope=col>product_width_cm</th><th scope=col>recencia_dias</th><th scope=col>Recency_Rank</th><th scope=col>Frequency</th><th scope=col>Frequency_Rank</th><th scope=col>Monetary</th><th scope=col>Monetary_Rank</th><th scope=col>customer_category</th></tr>\n",
              "\t<tr><th></th><th scope=col>&lt;chr&gt;</th><th scope=col>&lt;chr&gt;</th><th scope=col>&lt;chr&gt;</th><th scope=col>&lt;chr&gt;</th><th scope=col>&lt;chr&gt;</th><th scope=col>&lt;chr&gt;</th><th scope=col>&lt;chr&gt;</th><th scope=col>&lt;dttm&gt;</th><th scope=col>&lt;dttm&gt;</th><th scope=col>&lt;dttm&gt;</th><th scope=col>⋯</th><th scope=col>&lt;dbl&gt;</th><th scope=col>&lt;dbl&gt;</th><th scope=col>&lt;dbl&gt;</th><th scope=col>&lt;dbl&gt;</th><th scope=col>&lt;dbl&gt;</th><th scope=col>&lt;int&gt;</th><th scope=col>&lt;dbl&gt;</th><th scope=col>&lt;dbl&gt;</th><th scope=col>&lt;dbl&gt;</th><th scope=col>&lt;chr&gt;</th></tr>\n",
              "</thead>\n",
              "<tbody>\n",
              "\t<tr><th scope=row>1</th><td>00010242fe8c5a6d1ba2dd792cb16214</td><td>3ce436f183e68e07877b285a838db11a</td><td>871766c5855e863f6eccc05f988b23cb</td><td>28013</td><td>campos dos goytacazes</td><td>RJ</td><td>delivered</td><td>2017-09-13 08:59:02</td><td>2017-09-13 09:45:35</td><td>2017-09-19 18:34:16</td><td>⋯</td><td>28</td><td> 9</td><td>14</td><td>400</td><td>0.75</td><td>1</td><td>1.00</td><td> 72.19</td><td>0.69</td><td>Lost          </td></tr>\n",
              "\t<tr><th scope=row>2</th><td>00018f77f2f0320c557190d7a144bdd3</td><td>f6dd3ec061db4e3987629fe6b26e5cce</td><td>eb28e67c4c0b83846050ddfb8a35d051</td><td>15775</td><td>santa fe do sul      </td><td>SP</td><td>delivered</td><td>2017-04-26 10:53:06</td><td>2017-04-26 11:05:13</td><td>2017-05-04 14:35:00</td><td>⋯</td><td>50</td><td>30</td><td>40</td><td>395</td><td>0.74</td><td>2</td><td>0.06</td><td>284.56</td><td>0.12</td><td>To be retained</td></tr>\n",
              "\t<tr><th scope=row>3</th><td>000229ec398224ef6ca0657da4fc703e</td><td>6489ae5e4333f3693df5ad4372dab6d3</td><td>3818d81c6709e39d06b2738a8d3a2474</td><td>35661</td><td>para de minas        </td><td>MG</td><td>delivered</td><td>2018-01-14 14:33:31</td><td>2018-01-14 14:48:30</td><td>2018-01-16 12:36:48</td><td>⋯</td><td>33</td><td>13</td><td>33</td><td>277</td><td>0.52</td><td>1</td><td>1.00</td><td>216.87</td><td>0.19</td><td>Slipping Away </td></tr>\n",
              "\t<tr><th scope=row>4</th><td>00024acbcdf0a6daa1e931b038114c75</td><td>d4eb9395c8c0431ee92fce09860c5a06</td><td>af861d436cfc08b2c2ddefd0ba074622</td><td>12952</td><td>atibaia              </td><td>SP</td><td>delivered</td><td>2018-08-08 10:00:35</td><td>2018-08-08 10:10:18</td><td>2018-08-10 13:28:00</td><td>⋯</td><td>16</td><td>10</td><td>15</td><td> 71</td><td>0.04</td><td>1</td><td>1.00</td><td> 25.78</td><td>0.98</td><td>New customers </td></tr>\n",
              "\t<tr><th scope=row>5</th><td>00042b26cf59d7ce69dfabb4e55b4fd9</td><td>58dbd0b2d70206bf40e62cd34e84d795</td><td>64b576fb70d441e8f1b2d7d446e483c5</td><td>13226</td><td>varzea paulista      </td><td>SP</td><td>delivered</td><td>2017-02-04 13:57:51</td><td>2017-02-04 14:10:13</td><td>2017-02-16 09:46:09</td><td>⋯</td><td>35</td><td>40</td><td>30</td><td>621</td><td>0.99</td><td>1</td><td>1.00</td><td>218.04</td><td>0.19</td><td>Slipping Away </td></tr>\n",
              "\t<tr><th scope=row>6</th><td>00048cc3ae777c65dbb7d2a0634bc1ea</td><td>816cbea969fe5b689b39cfc97a506742</td><td>85c835d128beae5b4ce8602c491bf385</td><td>38017</td><td>uberaba              </td><td>MG</td><td>delivered</td><td>2017-05-15 21:42:34</td><td>2017-05-17 03:55:27</td><td>2017-05-17 11:05:55</td><td>⋯</td><td>24</td><td> 8</td><td>15</td><td>521</td><td>0.90</td><td>1</td><td>1.00</td><td> 34.59</td><td>0.94</td><td>Lost          </td></tr>\n",
              "</tbody>\n",
              "</table>\n"
            ],
            "text/markdown": "\nA data.frame: 6 × 44\n\n| <!--/--> | order_id.x &lt;chr&gt; | customer_id &lt;chr&gt; | customer_unique_id &lt;chr&gt; | customer_zip_code_prefix &lt;chr&gt; | customer_city &lt;chr&gt; | customer_state &lt;chr&gt; | order_status.x &lt;chr&gt; | order_purchase_timestamp.x &lt;dttm&gt; | order_approved_at.x &lt;dttm&gt; | order_delivered_carrier_date.x &lt;dttm&gt; | ⋯ ⋯ | product_length_cm &lt;dbl&gt; | product_height_cm &lt;dbl&gt; | product_width_cm &lt;dbl&gt; | recencia_dias &lt;dbl&gt; | Recency_Rank &lt;dbl&gt; | Frequency &lt;int&gt; | Frequency_Rank &lt;dbl&gt; | Monetary &lt;dbl&gt; | Monetary_Rank &lt;dbl&gt; | customer_category &lt;chr&gt; |\n|---|---|---|---|---|---|---|---|---|---|---|---|---|---|---|---|---|---|---|---|---|---|\n| 1 | 00010242fe8c5a6d1ba2dd792cb16214 | 3ce436f183e68e07877b285a838db11a | 871766c5855e863f6eccc05f988b23cb | 28013 | campos dos goytacazes | RJ | delivered | 2017-09-13 08:59:02 | 2017-09-13 09:45:35 | 2017-09-19 18:34:16 | ⋯ | 28 |  9 | 14 | 400 | 0.75 | 1 | 1.00 |  72.19 | 0.69 | Lost           |\n| 2 | 00018f77f2f0320c557190d7a144bdd3 | f6dd3ec061db4e3987629fe6b26e5cce | eb28e67c4c0b83846050ddfb8a35d051 | 15775 | santa fe do sul       | SP | delivered | 2017-04-26 10:53:06 | 2017-04-26 11:05:13 | 2017-05-04 14:35:00 | ⋯ | 50 | 30 | 40 | 395 | 0.74 | 2 | 0.06 | 284.56 | 0.12 | To be retained |\n| 3 | 000229ec398224ef6ca0657da4fc703e | 6489ae5e4333f3693df5ad4372dab6d3 | 3818d81c6709e39d06b2738a8d3a2474 | 35661 | para de minas         | MG | delivered | 2018-01-14 14:33:31 | 2018-01-14 14:48:30 | 2018-01-16 12:36:48 | ⋯ | 33 | 13 | 33 | 277 | 0.52 | 1 | 1.00 | 216.87 | 0.19 | Slipping Away  |\n| 4 | 00024acbcdf0a6daa1e931b038114c75 | d4eb9395c8c0431ee92fce09860c5a06 | af861d436cfc08b2c2ddefd0ba074622 | 12952 | atibaia               | SP | delivered | 2018-08-08 10:00:35 | 2018-08-08 10:10:18 | 2018-08-10 13:28:00 | ⋯ | 16 | 10 | 15 |  71 | 0.04 | 1 | 1.00 |  25.78 | 0.98 | New customers  |\n| 5 | 00042b26cf59d7ce69dfabb4e55b4fd9 | 58dbd0b2d70206bf40e62cd34e84d795 | 64b576fb70d441e8f1b2d7d446e483c5 | 13226 | varzea paulista       | SP | delivered | 2017-02-04 13:57:51 | 2017-02-04 14:10:13 | 2017-02-16 09:46:09 | ⋯ | 35 | 40 | 30 | 621 | 0.99 | 1 | 1.00 | 218.04 | 0.19 | Slipping Away  |\n| 6 | 00048cc3ae777c65dbb7d2a0634bc1ea | 816cbea969fe5b689b39cfc97a506742 | 85c835d128beae5b4ce8602c491bf385 | 38017 | uberaba               | MG | delivered | 2017-05-15 21:42:34 | 2017-05-17 03:55:27 | 2017-05-17 11:05:55 | ⋯ | 24 |  8 | 15 | 521 | 0.90 | 1 | 1.00 |  34.59 | 0.94 | Lost           |\n\n",
            "text/latex": "A data.frame: 6 × 44\n\\begin{tabular}{r|lllllllllllllllllllll}\n  & order\\_id.x & customer\\_id & customer\\_unique\\_id & customer\\_zip\\_code\\_prefix & customer\\_city & customer\\_state & order\\_status.x & order\\_purchase\\_timestamp.x & order\\_approved\\_at.x & order\\_delivered\\_carrier\\_date.x & ⋯ & product\\_length\\_cm & product\\_height\\_cm & product\\_width\\_cm & recencia\\_dias & Recency\\_Rank & Frequency & Frequency\\_Rank & Monetary & Monetary\\_Rank & customer\\_category\\\\\n  & <chr> & <chr> & <chr> & <chr> & <chr> & <chr> & <chr> & <dttm> & <dttm> & <dttm> & ⋯ & <dbl> & <dbl> & <dbl> & <dbl> & <dbl> & <int> & <dbl> & <dbl> & <dbl> & <chr>\\\\\n\\hline\n\t1 & 00010242fe8c5a6d1ba2dd792cb16214 & 3ce436f183e68e07877b285a838db11a & 871766c5855e863f6eccc05f988b23cb & 28013 & campos dos goytacazes & RJ & delivered & 2017-09-13 08:59:02 & 2017-09-13 09:45:35 & 2017-09-19 18:34:16 & ⋯ & 28 &  9 & 14 & 400 & 0.75 & 1 & 1.00 &  72.19 & 0.69 & Lost          \\\\\n\t2 & 00018f77f2f0320c557190d7a144bdd3 & f6dd3ec061db4e3987629fe6b26e5cce & eb28e67c4c0b83846050ddfb8a35d051 & 15775 & santa fe do sul       & SP & delivered & 2017-04-26 10:53:06 & 2017-04-26 11:05:13 & 2017-05-04 14:35:00 & ⋯ & 50 & 30 & 40 & 395 & 0.74 & 2 & 0.06 & 284.56 & 0.12 & To be retained\\\\\n\t3 & 000229ec398224ef6ca0657da4fc703e & 6489ae5e4333f3693df5ad4372dab6d3 & 3818d81c6709e39d06b2738a8d3a2474 & 35661 & para de minas         & MG & delivered & 2018-01-14 14:33:31 & 2018-01-14 14:48:30 & 2018-01-16 12:36:48 & ⋯ & 33 & 13 & 33 & 277 & 0.52 & 1 & 1.00 & 216.87 & 0.19 & Slipping Away \\\\\n\t4 & 00024acbcdf0a6daa1e931b038114c75 & d4eb9395c8c0431ee92fce09860c5a06 & af861d436cfc08b2c2ddefd0ba074622 & 12952 & atibaia               & SP & delivered & 2018-08-08 10:00:35 & 2018-08-08 10:10:18 & 2018-08-10 13:28:00 & ⋯ & 16 & 10 & 15 &  71 & 0.04 & 1 & 1.00 &  25.78 & 0.98 & New customers \\\\\n\t5 & 00042b26cf59d7ce69dfabb4e55b4fd9 & 58dbd0b2d70206bf40e62cd34e84d795 & 64b576fb70d441e8f1b2d7d446e483c5 & 13226 & varzea paulista       & SP & delivered & 2017-02-04 13:57:51 & 2017-02-04 14:10:13 & 2017-02-16 09:46:09 & ⋯ & 35 & 40 & 30 & 621 & 0.99 & 1 & 1.00 & 218.04 & 0.19 & Slipping Away \\\\\n\t6 & 00048cc3ae777c65dbb7d2a0634bc1ea & 816cbea969fe5b689b39cfc97a506742 & 85c835d128beae5b4ce8602c491bf385 & 38017 & uberaba               & MG & delivered & 2017-05-15 21:42:34 & 2017-05-17 03:55:27 & 2017-05-17 11:05:55 & ⋯ & 24 &  8 & 15 & 521 & 0.90 & 1 & 1.00 &  34.59 & 0.94 & Lost          \\\\\n\\end{tabular}\n",
            "text/plain": [
              "  order_id.x                       customer_id                     \n",
              "1 00010242fe8c5a6d1ba2dd792cb16214 3ce436f183e68e07877b285a838db11a\n",
              "2 00018f77f2f0320c557190d7a144bdd3 f6dd3ec061db4e3987629fe6b26e5cce\n",
              "3 000229ec398224ef6ca0657da4fc703e 6489ae5e4333f3693df5ad4372dab6d3\n",
              "4 00024acbcdf0a6daa1e931b038114c75 d4eb9395c8c0431ee92fce09860c5a06\n",
              "5 00042b26cf59d7ce69dfabb4e55b4fd9 58dbd0b2d70206bf40e62cd34e84d795\n",
              "6 00048cc3ae777c65dbb7d2a0634bc1ea 816cbea969fe5b689b39cfc97a506742\n",
              "  customer_unique_id               customer_zip_code_prefix\n",
              "1 871766c5855e863f6eccc05f988b23cb 28013                   \n",
              "2 eb28e67c4c0b83846050ddfb8a35d051 15775                   \n",
              "3 3818d81c6709e39d06b2738a8d3a2474 35661                   \n",
              "4 af861d436cfc08b2c2ddefd0ba074622 12952                   \n",
              "5 64b576fb70d441e8f1b2d7d446e483c5 13226                   \n",
              "6 85c835d128beae5b4ce8602c491bf385 38017                   \n",
              "  customer_city         customer_state order_status.x\n",
              "1 campos dos goytacazes RJ             delivered     \n",
              "2 santa fe do sul       SP             delivered     \n",
              "3 para de minas         MG             delivered     \n",
              "4 atibaia               SP             delivered     \n",
              "5 varzea paulista       SP             delivered     \n",
              "6 uberaba               MG             delivered     \n",
              "  order_purchase_timestamp.x order_approved_at.x order_delivered_carrier_date.x\n",
              "1 2017-09-13 08:59:02        2017-09-13 09:45:35 2017-09-19 18:34:16           \n",
              "2 2017-04-26 10:53:06        2017-04-26 11:05:13 2017-05-04 14:35:00           \n",
              "3 2018-01-14 14:33:31        2018-01-14 14:48:30 2018-01-16 12:36:48           \n",
              "4 2018-08-08 10:00:35        2018-08-08 10:10:18 2018-08-10 13:28:00           \n",
              "5 2017-02-04 13:57:51        2017-02-04 14:10:13 2017-02-16 09:46:09           \n",
              "6 2017-05-15 21:42:34        2017-05-17 03:55:27 2017-05-17 11:05:55           \n",
              "  ⋯ product_length_cm product_height_cm product_width_cm recencia_dias\n",
              "1 ⋯ 28                 9                14               400          \n",
              "2 ⋯ 50                30                40               395          \n",
              "3 ⋯ 33                13                33               277          \n",
              "4 ⋯ 16                10                15                71          \n",
              "5 ⋯ 35                40                30               621          \n",
              "6 ⋯ 24                 8                15               521          \n",
              "  Recency_Rank Frequency Frequency_Rank Monetary Monetary_Rank\n",
              "1 0.75         1         1.00            72.19   0.69         \n",
              "2 0.74         2         0.06           284.56   0.12         \n",
              "3 0.52         1         1.00           216.87   0.19         \n",
              "4 0.04         1         1.00            25.78   0.98         \n",
              "5 0.99         1         1.00           218.04   0.19         \n",
              "6 0.90         1         1.00            34.59   0.94         \n",
              "  customer_category\n",
              "1 Lost             \n",
              "2 To be retained   \n",
              "3 Slipping Away    \n",
              "4 New customers    \n",
              "5 Slipping Away    \n",
              "6 Lost             "
            ]
          },
          "metadata": {}
        }
      ]
    },
    {
      "cell_type": "code",
      "source": [
        "# Salvando o dataframe como um arquivo CSV\n",
        "write.csv(rfm, \"rfm.csv\", row.names = FALSE)"
      ],
      "metadata": {
        "id": "BS1y7kmbwzSE"
      },
      "execution_count": null,
      "outputs": []
    },
    {
      "cell_type": "code",
      "source": [
        "# Salvando o dataframe  como um arquivo CSV\n",
        "write.csv(df_master, \"df_master.csv\", row.names = FALSE)"
      ],
      "metadata": {
        "id": "gcUvmQ_FGrCX"
      },
      "execution_count": null,
      "outputs": []
    }
  ]
}